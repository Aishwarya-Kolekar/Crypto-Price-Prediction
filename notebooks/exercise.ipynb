{
 "cells": [
  {
   "cell_type": "markdown",
   "metadata": {},
   "source": [
    "# Creating a faulty calculator\n",
    "if 45 * 3 then it's answer will be 555, simillarly 56 + 9 = 77 and 56/6 = 4 otherwise all the calculations are correct\n",
    "\n",
    "* '*' for multiplication\n",
    "* '+' for addition\n",
    "* '-' for substraction\n",
    "* '/' for division\n",
    "* '**' for index\n",
    "* '//' for float division\n",
    "* '%' for remainder of division"
   ]
  },
  {
   "cell_type": "code",
   "execution_count": null,
   "metadata": {},
   "outputs": [
    {
     "name": "stdout",
     "output_type": "stream",
     "text": [
      "first num :45.0\n"
     ]
    }
   ],
   "source": [
    "i = 1\n",
    "while i <= 10:\n",
    "    n1 = input('first num :')\n",
    "    n2 = input('second num :')\n",
    "    op = input('give the operation name :')\n",
    "    \n",
    "    if n1 == 45.0 and n2 == 3.0 and op == '*':\n",
    "        print('555')\n",
    "    elif n1 == 56 and n2 == 9 and op == '+':\n",
    "        print('77')\n",
    "    elif n1 == 56 and n2 == 64 and op == '/':\n",
    "        print('4')\n",
    "    elif op == '+':\n",
    "        a = float(n1) + float(n2)\n",
    "        print(a)\n",
    "    elif op == '-':\n",
    "        a = float(n1) - float(n2)\n",
    "        print(a)\n",
    "    elif op == '*':\n",
    "        a = float(n1) * float(n2)\n",
    "        print(a)\n",
    "    elif op == '/':\n",
    "        a= float(n1) / float(n2)\n",
    "        print(a)\n",
    "    elif op == '**':\n",
    "        a = float(n1) ** float(n2)\n",
    "        print(a)\n",
    "    elif op == '//':\n",
    "        a = float(n1) // float(n2)\n",
    "        print(a)\n",
    "    elif op == '%':\n",
    "        a = float(n1) % float(n2)\n",
    "        print(a)\n",
    "    else:\n",
    "        print('you may have given wrong input')\n",
    "    i += 1"
   ]
  },
  {
   "cell_type": "code",
   "execution_count": 1,
   "metadata": {},
   "outputs": [
    {
     "name": "stdout",
     "output_type": "stream",
     "text": [
      "enter 1st no :\n",
      "45.0\n"
     ]
    },
    {
     "ename": "ValueError",
     "evalue": "invalid literal for int() with base 10: '45.0'",
     "output_type": "error",
     "traceback": [
      "\u001b[1;31m---------------------------------------------------------------------------\u001b[0m",
      "\u001b[1;31mValueError\u001b[0m                                Traceback (most recent call last)",
      "\u001b[1;32m<ipython-input-1-06c035f4cf9c>\u001b[0m in \u001b[0;36m<module>\u001b[1;34m()\u001b[0m\n\u001b[0;32m      1\u001b[0m \u001b[0mprint\u001b[0m\u001b[1;33m(\u001b[0m\u001b[1;34m'enter 1st no :'\u001b[0m\u001b[1;33m)\u001b[0m\u001b[1;33m\u001b[0m\u001b[0m\n\u001b[1;32m----> 2\u001b[1;33m \u001b[0mnum1\u001b[0m \u001b[1;33m=\u001b[0m \u001b[0mint\u001b[0m\u001b[1;33m(\u001b[0m\u001b[0minput\u001b[0m\u001b[1;33m(\u001b[0m\u001b[1;33m)\u001b[0m\u001b[1;33m)\u001b[0m\u001b[1;33m\u001b[0m\u001b[0m\n\u001b[0m\u001b[0;32m      3\u001b[0m \u001b[0mprint\u001b[0m\u001b[1;33m(\u001b[0m\u001b[1;34m'enter 2nd no :'\u001b[0m\u001b[1;33m)\u001b[0m\u001b[1;33m\u001b[0m\u001b[0m\n\u001b[0;32m      4\u001b[0m \u001b[0mnum2\u001b[0m \u001b[1;33m=\u001b[0m \u001b[0mint\u001b[0m\u001b[1;33m(\u001b[0m\u001b[0minput\u001b[0m\u001b[1;33m(\u001b[0m\u001b[1;33m)\u001b[0m\u001b[1;33m)\u001b[0m\u001b[1;33m\u001b[0m\u001b[0m\n\u001b[0;32m      5\u001b[0m \u001b[0mprint\u001b[0m\u001b[1;33m(\u001b[0m\u001b[1;34m\"what you want \"\u001b[0m\u001b[1;33m+\u001b[0m\u001b[1;34m\"+, -, *, /, %\"\u001b[0m\u001b[1;33m)\u001b[0m\u001b[1;33m\u001b[0m\u001b[0m\n",
      "\u001b[1;31mValueError\u001b[0m: invalid literal for int() with base 10: '45.0'"
     ]
    }
   ],
   "source": [
    "print('enter 1st no :')\n",
    "num1 = int(input())\n",
    "print('enter 2nd no :')\n",
    "num2 = int(input())\n",
    "print(\"what you want \"+\"+, -, *, /, %\")\n",
    "num3 = input()\n",
    "if num1 ==85 and num2 == 5:\n",
    "    if num3 == \"+\":\n",
    "        print('55')\n",
    "    elif num1 == 5 and num2 == 5 and num3 == '*':\n",
    "        print('60')\n",
    "    elif num1 == 50 and num2 == 10 and num2 == '/':\n",
    "        print('8')\n",
    "    elif num3 == '+':\n",
    "        print(int(num1)+int(num2))\n",
    "    elif num3 == '*':\n",
    "        print(int(num1)*int(num2))\n",
    "    elif num3 == '/':\n",
    "        print(int(num1)/int(num2))"
   ]
  },
  {
   "cell_type": "code",
   "execution_count": null,
   "metadata": {},
   "outputs": [],
   "source": [
    "print('Enter 1st Number')\n",
    "num1 = int(input())\n",
    "print('Enter 2nd Number')\n",
    "num2 = int(input())\n",
    "print('So what you want? '+'+, -, /, %, *')\n",
    "num3 = input()\n",
    "\n",
    "if num1 == 45 and num2 == 3 and num3 == '*':\n",
    "    print('555')\n",
    "elif num1 == 56 and num2 == 9 and num3 == '+':\n",
    "    print('77')\n",
    "elif num1 == 56 and num2 == 6 and num3 == '/':\n",
    "    print('4')\n",
    "elif num3 == '*':\n",
    "    num4 = num1*num2\n",
    "    print(num4)\n",
    "elif num3 == '+':\n",
    "    num4 = num1+num2\n",
    "    print(num4)\n",
    "elif num3 == '/':\n",
    "    num4 = num1/num2\n",
    "    print(num4)\n",
    "elif num3 == '-':\n",
    "    num4 = num1-num2\n",
    "    print(num4)\n",
    "elif num3 == '%':\n",
    "    num4 = num1%num2\n",
    "    print(num4)\n",
    "else:\n",
    "    print('Error! Please check your input')"
   ]
  },
  {
   "cell_type": "code",
   "execution_count": null,
   "metadata": {},
   "outputs": [],
   "source": [
    "\n",
    "def Calculation(Num1, operation, Num2):\n",
    "    Num1 = input('give the first number : ', )\n",
    "    operation = input('give the operation which you want to do with your data : ', )\n",
    "    Num2 = input('give the second number : ', )\n",
    "\n",
    "if operation =='*' and Num1 ==45 and Num2 ==3:\n",
    "    print('Result = ', 555)\n",
    "\n",
    "elif operation == '+' and Num1 ==56 and Num2 ==9:\n",
    "    print('Result = ', 77)\n",
    "\n",
    "elif operation == '/' and Num1 ==56 and Num2 ==6:\n",
    "    print('Result = ', 4)\n",
    "    \n",
    "else:\n",
    "if operation == '*' :\n",
    "    print('Result = ',Num1 * Num2)\n",
    "elif operation == '+' :\n",
    "    print('Result = ',Num1 + Num2)\n",
    "elif operation == '/' :\n",
    "    print('Result = ',Num1 / Num2)\n",
    "elif operation == '-' :\n",
    "    print('Result = ',Num1 - Num2)\n",
    "elif operation == '//' :\n",
    "    print('Result = ',Num1 // Num2)\n",
    "elif operation == '%' :\n",
    "    print('Result = ',Num1 % Num2)\n",
    "elif operation == '**' :\n",
    "    print('Result = ',Num1 ** Num2)"
   ]
  },
  {
   "cell_type": "code",
   "execution_count": null,
   "metadata": {},
   "outputs": [],
   "source": [
    "Calculation(5,*,2)"
   ]
  },
  {
   "cell_type": "code",
   "execution_count": null,
   "metadata": {},
   "outputs": [],
   "source": [
    "print(result)"
   ]
  },
  {
   "cell_type": "code",
   "execution_count": null,
   "metadata": {},
   "outputs": [],
   "source": [
    "n = 5\n",
    "s = '*'\n",
    "\n",
    "while len(s)<=5:\n",
    "    print(s)\n",
    "    s += '*'\n",
    "    \n",
    "while len(s)<=5:\n",
    "    print(s)\n",
    "    s = '*' [:-1]"
   ]
  },
  {
   "cell_type": "code",
   "execution_count": null,
   "metadata": {},
   "outputs": [],
   "source": [
    "i = 1\n",
    "a = '*'\n",
    "\n",
    "while b is True:\n",
    "    b = i < 5\n",
    "    i += 1\n",
    "    print(a)\n",
    "    a += '*'\n",
    "    \n",
    "while b is False:\n",
    "    i -= 1\n",
    "    print(a)\n",
    "    a = '*' [:-1]"
   ]
  },
  {
   "cell_type": "code",
   "execution_count": null,
   "metadata": {},
   "outputs": [],
   "source": []
  },
  {
   "cell_type": "markdown",
   "metadata": {},
   "source": [
    "game of guessing number"
   ]
  },
  {
   "cell_type": "code",
   "execution_count": null,
   "metadata": {},
   "outputs": [],
   "source": [
    "n = 15\n",
    "i = 1\n",
    "\n",
    "# Guess the number\n",
    "print(\"you only have 10 chances to guess the number correctly\")\n",
    "\n",
    "while i <= 10:\n",
    "    Num = input('Please give your {}th guissing number '.format(i))\n",
    "    if int(Num) < int(n):\n",
    "        print('Guised No. is small, please try again.')\n",
    "        print('you have left {} chances'.format(10 - i))\n",
    "    elif int(Num) > int(n):\n",
    "        print('Guised No. is big, please try again.')\n",
    "        print('you have left {} chances'.format(10 - i))\n",
    "    else:\n",
    "        print('Congratulations!!!...You guissed corrent number')\n",
    "    i = i + 1\n",
    "\n",
    "print('You lost.....Best luck for next time')"
   ]
  },
  {
   "cell_type": "markdown",
   "metadata": {},
   "source": [
    "To make Febonaci sequence of n numbers"
   ]
  },
  {
   "cell_type": "code",
   "execution_count": null,
   "metadata": {},
   "outputs": [],
   "source": [
    "def febinaci(n):\n",
    "    n = int(input('n :'))\n",
    "    if n == 0:\n",
    "        print('0')\n",
    "    elif n == 1:\n",
    "        print('1')\n",
    "    else:\n",
    "        Fn = febinaci(n)-1 + febinaci(n)-2\n",
    "        print(Fn)"
   ]
  },
  {
   "cell_type": "code",
   "execution_count": null,
   "metadata": {},
   "outputs": [],
   "source": [
    "a = febinaci(6)"
   ]
  },
  {
   "cell_type": "code",
   "execution_count": null,
   "metadata": {},
   "outputs": [],
   "source": [
    "def febonacci(n):\n",
    "    n = int(input('n :'))\n",
    "    continue\n",
    "    if n == 0:\n",
    "        return 0\n",
    "    elif n == 1:\n",
    "        return 1\n",
    "    else:\n",
    "        return febonacci(n-1) + febonacci(n-2)\n",
    "        print()"
   ]
  },
  {
   "cell_type": "code",
   "execution_count": null,
   "metadata": {},
   "outputs": [],
   "source": [
    "febonacci(6)"
   ]
  },
  {
   "cell_type": "code",
   "execution_count": null,
   "metadata": {},
   "outputs": [],
   "source": [
    "import pyautogui\n",
    "import time\n",
    "\n",
    "\n",
    "time.sleep(10)\n",
    "distance = 200\n",
    "while distance > 0:\n",
    "    pyautogui.drag(distance, 0, duration=0.5)   # move right\n",
    "    distance -= 5\n",
    "    pyautogui.drag(0, distance, duration=0.5)   # move down\n",
    "    pyautogui.drag(-distance, 0, duration=0.5)  # move left\n",
    "    distance -= 5\n",
    "    pyautogui.drag(0, -distance, duration=0.5)  # move up"
   ]
  },
  {
   "cell_type": "markdown",
   "metadata": {},
   "source": [
    "# Snake Water Gun - Game"
   ]
  },
  {
   "cell_type": "code",
   "execution_count": null,
   "metadata": {},
   "outputs": [],
   "source": [
    "import random\n",
    "marks = 0\n",
    "chances = 0\n",
    "\n",
    "\n",
    "\n",
    "while chances <= 10:\n",
    "    Com_input = ['snake', 'water', 'gun']\n",
    "    Com_output = random.choice(Com_input)\n",
    "\n",
    "    Person1_output = input('Chose one fo these three options : ')\n",
    "\n",
    "    if Com_output == 'snake' and Person1_output == 'water':\n",
    "        print('You lose')\n",
    "    elif Com_output == 'snake' and Person1_output == 'gun':\n",
    "        print('You win')\n",
    "    elif Com_output == 'water' and Person1_output == 'snake':\n",
    "        print('You win')\n",
    "    elif Com_output == 'water' and Person1_output == 'gun':\n",
    "        print('You lose')\n",
    "    elif Com_output == 'gun' and Person1_output == 'snake':\n",
    "        print('You lose')\n",
    "    elif Com_output == 'gun' and Person1_output == 'water':\n",
    "        print('You win')\n",
    "    elif Com_output == 'water' and Person1_output == 'water':\n",
    "        print('Match widraw')\n",
    "    elif Com_output == 'snake' and Person1_output == 'snake':\n",
    "        print('Match widraw')\n",
    "    elif Com_output == 'gun' and Person1_output == 'gun':\n",
    "        print('Match widraw')\n",
    "    else:\n",
    "        print('Oops!...Some error occured\\n' 'I think you might given wrong input')\n",
    "    break\n",
    "    print('Your chances are over')\n",
    "    chances += 1\n",
    "    \n",
    "print('Computer has chosen :',Com_output)\n"
   ]
  },
  {
   "cell_type": "code",
   "execution_count": null,
   "metadata": {},
   "outputs": [],
   "source": [
    "f = open(file1, 'w')"
   ]
  },
  {
   "cell_type": "code",
   "execution_count": null,
   "metadata": {},
   "outputs": [],
   "source": [
    "def prime(num):\n",
    "    n=str(num)\n",
    "    sum=0\n",
    "    for i in n:\n",
    "        if i=='2' or i== '3' or i=='5' or i=='7':\n",
    "            sum=sum+int(i)\n",
    "        \n",
    "        return sum\n",
    "    \n",
    "num=int(input())\n",
    "print(prime(num))"
   ]
  },
  {
   "cell_type": "markdown",
   "metadata": {},
   "source": [
    "# find largest number from the list"
   ]
  },
  {
   "cell_type": "code",
   "execution_count": null,
   "metadata": {},
   "outputs": [],
   "source": [
    "lst=[12, 5, 66, 33, 85, 23, 96, 41, 6, 31, 45]\n",
    "\n",
    "lst.sort()\n",
    "print(lst)\n",
    "Num_1=lst[-1]\n",
    "print(Num_1)\n",
    "Num_2=lst[-2]\n",
    "print(Num_2)\n",
    "average = (Num_1 + Num_2) / 2\n",
    "print(average)\n",
    "print(f'First number is {Num_1}, Second number is {Num_2}, And average of these numbers is {average}')"
   ]
  },
  {
   "cell_type": "code",
   "execution_count": null,
   "metadata": {},
   "outputs": [],
   "source": [
    "#lst=[12, 5, 66, 33, 85, 23, 96, 41, 6, 31, 45]\n",
    "def Subscript(n):\n",
    "    n.sort()\n",
    "    #print(lst)\n",
    "    Num_1=n[-1]\n",
    "    #print(Num_1)\n",
    "    Num_2=n[-2]\n",
    "    #print(Num_2)\n",
    "    average = (Num_1 + Num_2) / 2\n",
    "    #print(average)\n",
    "    print(f\"Largest number of list is {Num_1}, Second largest number of list is {Num_2}, And average of these two numbers is {average}\")"
   ]
  },
  {
   "cell_type": "code",
   "execution_count": null,
   "metadata": {},
   "outputs": [],
   "source": [
    "fan = [45, 15, 43, 28, 33, 41, 6, 2, 3]\n",
    "\n",
    "Subscript(fan)"
   ]
  },
  {
   "cell_type": "code",
   "execution_count": null,
   "metadata": {},
   "outputs": [],
   "source": [
    "def sumi(n,n1):\n",
    "    sumation = n + n1\n",
    "    print(sumation)"
   ]
  },
  {
   "cell_type": "code",
   "execution_count": null,
   "metadata": {},
   "outputs": [],
   "source": [
    "sumi(63,45)"
   ]
  },
  {
   "cell_type": "code",
   "execution_count": null,
   "metadata": {},
   "outputs": [],
   "source": [
    "def reverse(k):\n",
    "    num=int(k).reverse()\n",
    "    print(num)"
   ]
  },
  {
   "cell_type": "code",
   "execution_count": null,
   "metadata": {},
   "outputs": [],
   "source": [
    "reverse(52)"
   ]
  },
  {
   "cell_type": "code",
   "execution_count": null,
   "metadata": {},
   "outputs": [],
   "source": []
  },
  {
   "cell_type": "code",
   "execution_count": null,
   "metadata": {},
   "outputs": [],
   "source": []
  }
 ],
 "metadata": {
  "kernelspec": {
   "display_name": "Python 3",
   "language": "python",
   "name": "python3"
  },
  "language_info": {
   "codemirror_mode": {
    "name": "ipython",
    "version": 3
   },
   "file_extension": ".py",
   "mimetype": "text/x-python",
   "name": "python",
   "nbconvert_exporter": "python",
   "pygments_lexer": "ipython3",
   "version": "3.7.0"
  }
 },
 "nbformat": 4,
 "nbformat_minor": 2
}
