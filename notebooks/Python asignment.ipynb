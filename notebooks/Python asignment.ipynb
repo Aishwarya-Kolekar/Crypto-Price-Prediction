{
 "cells": [
  {
   "cell_type": "markdown",
   "metadata": {},
   "source": [
    "## Python problem solving \n",
    "**Assignment 1**"
   ]
  },
  {
   "cell_type": "markdown",
   "metadata": {},
   "source": [
    "# Program 1"
   ]
  },
  {
   "cell_type": "markdown",
   "metadata": {},
   "source": [
    "### Q1. To write a python program to find data types of a numbers."
   ]
  },
  {
   "cell_type": "code",
   "execution_count": 1,
   "metadata": {},
   "outputs": [
    {
     "name": "stdout",
     "output_type": "stream",
     "text": [
      "3 is of type <class 'int'>\n",
      "3.55 is of type <class 'float'>\n",
      "(2+434j) is of type <class 'complex'>\n"
     ]
    }
   ],
   "source": [
    "a = 3\n",
    "print(a, 'is of type', type(a))\n",
    "\n",
    "b = 3.55\n",
    "print(b, 'is of type', type(b))\n",
    "\n",
    "c = 2 + 434j\n",
    "print(c, 'is of type', type(c))"
   ]
  },
  {
   "cell_type": "markdown",
   "metadata": {},
   "source": [
    "### Q2. Write a program to perform different arithmatic operations on numbers. "
   ]
  },
  {
   "cell_type": "code",
   "execution_count": 2,
   "metadata": {},
   "outputs": [
    {
     "name": "stdout",
     "output_type": "stream",
     "text": [
      "Enter first number :5\n",
      "Enter second number :6\n",
      "Sum of 5 and 6 is :  11\n",
      "Difference of 5 and 6 is :  -1\n",
      "Product of 5 and 6 is :  30\n",
      "Division of 5 and 6 is :  0.8333333333333334\n",
      "Floor Division of 5 and 6 is :  0\n",
      "Exponent of 5 and 6 is :  15625\n",
      "Modulus of 5 and 6 is :  5\n"
     ]
    }
   ],
   "source": [
    "num1 = int(input('Enter first number :'))\n",
    "num2 = int(input('Enter second number :'))\n",
    "add = num1+num2\n",
    "dif = num1-num2\n",
    "mul = num1*num2\n",
    "div = num1/num2\n",
    "floor_div = num1//num2\n",
    "power = num1**num2\n",
    "modulus = num1%num2\n",
    "\n",
    "print('Sum of', num1, 'and', num2, 'is : ', add)\n",
    "print('Difference of', num1, 'and', num2, 'is : ', dif)\n",
    "print('Product of', num1, 'and', num2, 'is : ', mul)\n",
    "print('Division of', num1, 'and', num2, 'is : ', div)\n",
    "print('Floor Division of', num1, 'and', num2, 'is : ',floor_div)\n",
    "print('Exponent of', num1, 'and', num2, 'is : ', power)\n",
    "print('Modulus of', num1, 'and', num2, 'is : ', modulus)"
   ]
  },
  {
   "cell_type": "markdown",
   "metadata": {},
   "source": [
    "### Q3. To write a program to create, concatenate and print a string and accessing sub-string from given string."
   ]
  },
  {
   "cell_type": "code",
   "execution_count": 3,
   "metadata": {},
   "outputs": [
    {
     "name": "stdout",
     "output_type": "stream",
     "text": [
      "I'm Aish\n",
      "Are you fine or not.\n",
      "should i call doctor to check you.\n",
      "concatenated =  I'm AishAre you fine or not.\n",
      "should i call doctor to check you.\n",
      "multiplying =  I'm AishI'm Aish\n",
      "first character of string I\n",
      "last character of string h\n",
      "characters from 3 to 9  Aish\n",
      "characters from 6 to 2 \n"
     ]
    }
   ],
   "source": [
    "my_string = \"I'm Aish\"\n",
    "print(my_string)\n",
    "\n",
    "my_string1 = \"\"\"Are you fine or not.\n",
    "should i call doctor to check you.\"\"\"\n",
    "print(my_string1)\n",
    "\n",
    "print('concatenated = ',my_string + my_string1)\n",
    "print('multiplying = ', my_string*2)\n",
    "\n",
    "print('first character of string', my_string[0])\n",
    "print('last character of string', my_string[-1])\n",
    "print('characters from 3 to 9', my_string[3:10])\n",
    "print('characters from 6 to 2', my_string[6:-2])"
   ]
  },
  {
   "cell_type": "markdown",
   "metadata": {},
   "source": [
    "### Q4. Write a program to print out the date and time"
   ]
  },
  {
   "cell_type": "code",
   "execution_count": 4,
   "metadata": {},
   "outputs": [
    {
     "name": "stdout",
     "output_type": "stream",
     "text": [
      "The current time =  Tue Jun  7 20:50:32 2022\n"
     ]
    }
   ],
   "source": [
    "import time\n",
    "localtime = time.asctime(time.localtime(time.time()))\n",
    "print('The current time = ', localtime)"
   ]
  },
  {
   "cell_type": "markdown",
   "metadata": {},
   "source": [
    "### Q5. To write a python program to create, append and remove lists."
   ]
  },
  {
   "cell_type": "code",
   "execution_count": 6,
   "metadata": {},
   "outputs": [
    {
     "name": "stdout",
     "output_type": "stream",
     "text": [
      "my\n",
      "name\n",
      "is\n",
      "Aish\n",
      "['my', 'name', 'is', 'Aish', 2, 3, 4, 5]\n",
      "Enter index no.2\n",
      "[2, 3, 5]\n"
     ]
    }
   ],
   "source": [
    "l1 = ['my', 'name', 'is', 'Aish']\n",
    "l2 = [2,3,4,5]\n",
    "\n",
    "for i in l1:\n",
    "    print(i)\n",
    "    \n",
    "l3 = l1+l2\n",
    "print(l3)\n",
    "\n",
    "index = input('Enter index no.')\n",
    "index = int(index)\n",
    "del l2[index]\n",
    "print(l2)"
   ]
  },
  {
   "cell_type": "markdown",
   "metadata": {},
   "source": [
    "### Q6. Tuple handling in python."
   ]
  },
  {
   "cell_type": "code",
   "execution_count": 7,
   "metadata": {},
   "outputs": [
    {
     "name": "stdout",
     "output_type": "stream",
     "text": [
      "('second', 'first', 3, 'going to be', 1)\n",
      "second\n",
      "first\n",
      "3\n",
      "going to be\n",
      "1\n"
     ]
    }
   ],
   "source": [
    "my_tuple = ('second', 'first', 3, 'going to be', 1)\n",
    "print(my_tuple)\n",
    "\n",
    "for i in my_tuple:\n",
    "    print(i)"
   ]
  },
  {
   "cell_type": "markdown",
   "metadata": {},
   "source": [
    "### Q7. Write a program to create, change the elements, access the elements and to delete or remove element from the dictionary."
   ]
  },
  {
   "cell_type": "code",
   "execution_count": 8,
   "metadata": {},
   "outputs": [
    {
     "name": "stdout",
     "output_type": "stream",
     "text": [
      "Aish\n",
      "1 Aish\n",
      "2 Gouri\n",
      "{'1': 'Aish', '2': 'Gouri', '3': 'Mansi'}\n",
      "{'1': 'Aishwarya', '2': 'Gouri', '3': 'Mansi'}\n",
      "{'1': 'Aishwarya', '3': 'Mansi'}\n",
      "{'3': 'Mansi'}\n",
      "{}\n"
     ]
    }
   ],
   "source": [
    "dict1 = {'1':'Aish', '2': 'Gouri'}\n",
    "dict1\n",
    "dict1['1']\n",
    "print(dict1['1'])\n",
    "for k, v in dict1.items():\n",
    "    print(k,v)\n",
    "    \n",
    "    \n",
    "dict1['3'] = 'Mansi'\n",
    "print(dict1)\n",
    "dict1['1'] = 'Aishwarya'\n",
    "print(dict1)\n",
    "# dict1.remove('3')\n",
    "# dict1\n",
    "del dict1['2']\n",
    "print(dict1)\n",
    "dict1.pop('1')\n",
    "print(dict1)\n",
    "dict1.clear()\n",
    "print(dict1)"
   ]
  },
  {
   "cell_type": "markdown",
   "metadata": {},
   "source": [
    "### Q8. To write a program for finding largest number from the given three numbers."
   ]
  },
  {
   "cell_type": "code",
   "execution_count": 9,
   "metadata": {},
   "outputs": [
    {
     "name": "stdout",
     "output_type": "stream",
     "text": [
      "Give the first number :5\n",
      "Give the second number :5\n",
      "Give the third number :74\n",
      "The largest number from the given numbers is : 74\n"
     ]
    }
   ],
   "source": [
    "num1 = int(input('Give the first number :'))\n",
    "num2 = int(input('Give the second number :'))\n",
    "num3 = int(input('Give the third number :'))\n",
    "lst = list([num1, num2, num3])\n",
    "lst = sorted(lst)\n",
    "print('The largest number from the given numbers is :',lst[-1])"
   ]
  },
  {
   "cell_type": "markdown",
   "metadata": {},
   "source": [
    "### Q9. To write a program to convert the given temperature Celsius to Fahrenheit."
   ]
  },
  {
   "cell_type": "code",
   "execution_count": 10,
   "metadata": {},
   "outputs": [
    {
     "name": "stdout",
     "output_type": "stream",
     "text": [
      "give the temperature :55\n",
      "The 55.0 degree celcius is equal to 131.0 Fahrenheit\n"
     ]
    }
   ],
   "source": [
    "Temp = float(input('give the temperature :'))\n",
    "#now convert the given temperature into Fahrenheit\n",
    "Fahrenheit = (Temp* 1.8)+32\n",
    "print(f'The {Temp} degree celcius is equal to {Fahrenheit} Fahrenheit' )"
   ]
  },
  {
   "cell_type": "markdown",
   "metadata": {},
   "source": [
    "### Q10. Writing a programme to construct a diamond shape using for loop."
   ]
  },
  {
   "cell_type": "code",
   "execution_count": 11,
   "metadata": {},
   "outputs": [
    {
     "name": "stdout",
     "output_type": "stream",
     "text": [
      "        \n",
      "       #\n",
      "      ##\n",
      "     ###\n",
      "    ####\n",
      "   #####\n",
      "  ######\n",
      " #######\n",
      "  ######\n",
      "   #####\n",
      "    ####\n",
      "     ###\n",
      "      ##\n",
      "       #\n",
      "\n",
      "#\n",
      "##\n",
      "###\n",
      "####\n",
      "#####\n",
      "######\n",
      "#######\n",
      "######\n",
      "#####\n",
      "####\n",
      "###\n",
      "##\n",
      "#\n"
     ]
    }
   ],
   "source": [
    "j = 7\n",
    "k = 7\n",
    "p = 1\n",
    "\n",
    "for i in range(8):\n",
    "    print(\" \"*k,\"#\"*i)\n",
    "    k -= 1\n",
    "while j > 1:\n",
    "    j -= 1\n",
    "    print(\" \"*p, \"#\"*j)\n",
    "    p += 1\n",
    "    continue\n",
    "i = 1 \n",
    "j = 7\n",
    "\n",
    "for i in range(7):\n",
    "    print('#' * i)\n",
    "    i += 1\n",
    "while j > 0:\n",
    "    print('#' * j)\n",
    "    j -= 1"
   ]
  },
  {
   "cell_type": "markdown",
   "metadata": {},
   "source": [
    "### Q11. To write a code to find prime numbers from less than 20."
   ]
  },
  {
   "cell_type": "code",
   "execution_count": 12,
   "metadata": {},
   "outputs": [
    {
     "name": "stdout",
     "output_type": "stream",
     "text": [
      "Enter the number :6\n",
      "Prime numbers between  1 and 6 are:\n",
      "2\n",
      "3\n",
      "5\n"
     ]
    }
   ],
   "source": [
    "starting_value = 1\n",
    "n = int(input('Enter the number :'))\n",
    "print('Prime numbers between ', starting_value, 'and', n, 'are:')\n",
    "for num in range(starting_value, n+1):\n",
    "    if num>1:\n",
    "        for i in range(2, int(num/2)+1):\n",
    "            if (num%i) == 0:\n",
    "                break\n",
    "        else:\n",
    "            print(num)"
   ]
  },
  {
   "cell_type": "markdown",
   "metadata": {},
   "source": [
    "### Q12. Using Recursion method find the factorial of a given number."
   ]
  },
  {
   "cell_type": "code",
   "execution_count": 13,
   "metadata": {},
   "outputs": [
    {
     "name": "stdout",
     "output_type": "stream",
     "text": [
      "Enter a number :8\n",
      "The factorial of 8 is 40320\n"
     ]
    }
   ],
   "source": [
    "def recur_factorial(n):\n",
    "    \"\"\"Function to return the factorial of a number using recursion\"\"\"\n",
    "    if n == 1:\n",
    "        return n\n",
    "    else:\n",
    "        return n*recur_factorial(n-1)\n",
    "    \n",
    "# change this value for a different result\n",
    "# num = 7\n",
    "\n",
    "# uncomment to take input from the user\n",
    "num = int(input('Enter a number :'))\n",
    "\n",
    "# check if the number is negative\n",
    "if num < 0:\n",
    "    print('Sorry, factorial does not exist for negative numbers')\n",
    "elif num == 0:\n",
    "    print('The factorial of 0 is 1')\n",
    "else:\n",
    "    print('The factorial of', num, 'is', recur_factorial(num))"
   ]
  },
  {
   "cell_type": "markdown",
   "metadata": {},
   "source": [
    "### Q13. By using length of 3 sides of triangle decide which triangle it is."
   ]
  },
  {
   "cell_type": "code",
   "execution_count": 14,
   "metadata": {},
   "outputs": [
    {
     "name": "stdout",
     "output_type": "stream",
     "text": [
      "Input length of the triangle sides :\n",
      "x : 8\n",
      "y : 1\n",
      "z : 2\n",
      "Scalene triangle\n"
     ]
    }
   ],
   "source": [
    "print('Input length of the triangle sides :')\n",
    "x = int(input('x : '))\n",
    "y = int(input('y : '))\n",
    "z = int(input('z : '))\n",
    "\n",
    "if x == y == z:\n",
    "    print('Equilateral triangle')\n",
    "elif x == y or y == z or z == x:\n",
    "    print('Isosceles triangle')\n",
    "else:\n",
    "    print('Scalene triangle')"
   ]
  },
  {
   "cell_type": "markdown",
   "metadata": {},
   "source": [
    "###  Q14. To write a program to find Fibonacci numbers."
   ]
  },
  {
   "cell_type": "code",
   "execution_count": 15,
   "metadata": {},
   "outputs": [],
   "source": [
    "def fib(n):  # Fibonacci series up to n\n",
    "    a,b = 0, 1\n",
    "    while a < n:\n",
    "        print(a, end = ' ')\n",
    "        a, b = b, a+b\n",
    "    print()\n",
    "    \n",
    "def fib2(n):   # return Fibonacci series up to n\n",
    "    result = []\n",
    "    a, b = 0, 1\n",
    "    while a < n:\n",
    "        result.append(a)\n",
    "        a, b = b, a+b\n",
    "    return result"
   ]
  },
  {
   "cell_type": "code",
   "execution_count": 16,
   "metadata": {},
   "outputs": [
    {
     "name": "stdout",
     "output_type": "stream",
     "text": [
      "0 1 1 2 3 5 8 \n"
     ]
    }
   ],
   "source": [
    "fib(10)"
   ]
  },
  {
   "cell_type": "code",
   "execution_count": 17,
   "metadata": {},
   "outputs": [
    {
     "data": {
      "text/plain": [
       "[0, 1, 1, 2, 3, 5, 8]"
      ]
     },
     "execution_count": 17,
     "metadata": {},
     "output_type": "execute_result"
    }
   ],
   "source": [
    "fib2(10)"
   ]
  },
  {
   "cell_type": "markdown",
   "metadata": {},
   "source": [
    "### Q15. To write a program to define a module and import a specific function in that module to another program."
   ]
  },
  {
   "cell_type": "code",
   "execution_count": 18,
   "metadata": {},
   "outputs": [],
   "source": [
    "def add(a,b):\n",
    "    \"\"\"\"This program adds two \n",
    "    numbers and return the result\"\"\"\n",
    "    \n",
    "    result = a+b\n",
    "    return result"
   ]
  },
  {
   "cell_type": "code",
   "execution_count": 19,
   "metadata": {},
   "outputs": [
    {
     "data": {
      "text/plain": [
       "5.23"
      ]
     },
     "execution_count": 19,
     "metadata": {},
     "output_type": "execute_result"
    }
   ],
   "source": [
    "add(2,3.23)"
   ]
  },
  {
   "cell_type": "code",
   "execution_count": 20,
   "metadata": {},
   "outputs": [
    {
     "name": "stdout",
     "output_type": "stream",
     "text": [
      "the value of pi is  3.141592653589793\n"
     ]
    }
   ],
   "source": [
    "# Import Statement exaples\n",
    "\n",
    "import math\n",
    "\n",
    "print('the value of pi is ', math.pi)"
   ]
  },
  {
   "cell_type": "markdown",
   "metadata": {},
   "source": [
    "### Q16. To write a python program to copy a content of one file into second one."
   ]
  },
  {
   "cell_type": "code",
   "execution_count": 21,
   "metadata": {},
   "outputs": [
    {
     "name": "stdout",
     "output_type": "stream",
     "text": [
      "<_io.TextIOWrapper name='C:\\\\Users\\\\HP\\\\python\\\\Feedbacks\\\\Negative\\\\N5.txt' mode='r' encoding='cp1252'>\n"
     ]
    }
   ],
   "source": [
    "text_file = open('C:\\\\Users\\\\HP\\python\\\\Feedbacks\\\\Negative\\\\N5.txt', 'r')\n",
    "print(text_file)"
   ]
  },
  {
   "cell_type": "code",
   "execution_count": 22,
   "metadata": {},
   "outputs": [
    {
     "name": "stdout",
     "output_type": "stream",
     "text": [
      "Not going to attend this type of lectures again in my life.\n"
     ]
    }
   ],
   "source": [
    "# To read, write file with python\n",
    "\n",
    "# open the file\n",
    "text_file = open('C:\\\\Users\\\\HP\\python\\\\Feedbacks\\\\Negative\\\\N5.txt', 'r')\n",
    "\n",
    "# get the list of lines\n",
    "line_list = text_file.readlines();\n",
    "\n",
    "# for each line from the list, print the line\n",
    "for line in line_list:\n",
    "    print(line)\n",
    "\n",
    "text_file.close() # don't forget to close the file"
   ]
  },
  {
   "cell_type": "code",
   "execution_count": 24,
   "metadata": {},
   "outputs": [
    {
     "name": "stdout",
     "output_type": "stream",
     "text": [
      "Please enter data:\n",
      "\n",
      "ok then\n",
      "Please enter data:\n",
      "\n",
      "what's going on\n",
      "Please enter data:\n",
      "\n",
      "i know it's the worst\n",
      "Please enter data:\n",
      "\n",
      "but still stay calm\n"
     ]
    }
   ],
   "source": [
    "# to write the content of opend file to another one\n",
    "\n",
    "# open the file\n",
    "text_file = open('C:\\\\Users\\\\HP\\python\\\\Feedbacks\\\\Negative\\\\N5.txt', 'w')\n",
    "\n",
    "#initialize an empty list\n",
    "word_list = []\n",
    "\n",
    "# iterate 4 times\n",
    "for i in range(1,5):\n",
    "    print('Please enter data:\\n')\n",
    "    line = input() # take input\n",
    "    word_list.append(line)# append to the list\n",
    "          \n",
    "text_file.writelines(word_list) # write 4 words to the file\n",
    "          \n",
    "text_file.close() # don't forget to close the opened file"
   ]
  },
  {
   "cell_type": "code",
   "execution_count": 25,
   "metadata": {},
   "outputs": [
    {
     "name": "stdout",
     "output_type": "stream",
     "text": [
      "<_io.TextIOWrapper name='C:\\\\Users\\\\HP\\\\python\\\\Feedbacks\\\\Negative\\\\N5.txt' mode='w' encoding='cp1252'>\n"
     ]
    }
   ],
   "source": [
    "print(text_file)"
   ]
  },
  {
   "cell_type": "code",
   "execution_count": 26,
   "metadata": {},
   "outputs": [
    {
     "data": {
      "text/plain": [
       "'C:\\\\Users\\\\HP\\\\python\\\\Feedbacks\\\\Negative\\\\N2.txt'"
      ]
     },
     "execution_count": 26,
     "metadata": {},
     "output_type": "execute_result"
    }
   ],
   "source": [
    "# copy file from one to second\n",
    "\n",
    "import shutil\n",
    "shutil.copy2('C:\\\\Users\\\\HP\\python\\\\Feedbacks\\\\Negative\\\\N1.txt','C:\\\\Users\\\\HP\\python\\\\Feedbacks\\\\Negative\\\\N2.txt')"
   ]
  },
  {
   "cell_type": "code",
   "execution_count": 27,
   "metadata": {},
   "outputs": [
    {
     "name": "stdout",
     "output_type": "stream",
     "text": [
      "File done\n"
     ]
    }
   ],
   "source": [
    "# another way to copy the content of file\n",
    "\n",
    "shutil.copyfile('C:\\\\Users\\\\HP\\python\\\\Feedbacks\\\\Negative\\\\N3.txt','C:\\\\Users\\\\HP\\python\\\\Feedbacks\\\\Negative\\\\N4.txt')\n",
    "print('File done')"
   ]
  },
  {
   "cell_type": "markdown",
   "metadata": {},
   "source": [
    "### Q17. To write a program to print out the unique words in a file and arrange it in alphabetical order."
   ]
  },
  {
   "cell_type": "code",
   "execution_count": 28,
   "metadata": {},
   "outputs": [
    {
     "name": "stdout",
     "output_type": "stream",
     "text": [
      "The sorted words are :\n",
      "Examle\n",
      "Hello\n",
      "Is\n",
      "With\n",
      "an\n",
      "cased\n",
      "letters\n",
      "this\n"
     ]
    }
   ],
   "source": [
    "#change this value for a different result\n",
    "my_str = 'Hello this Is an Examle With cased letters'\n",
    "\n",
    "# uncomment to take input from the user\n",
    "# my_str = input('Enter the string :')\n",
    "\n",
    "# breakdown the string into a list of words\n",
    "words = my_str.split()\n",
    "\n",
    "# sort the list\n",
    "words.sort()\n",
    "\n",
    "# display the sorted words\n",
    "print('The sorted words are :')\n",
    "for word in words:\n",
    "    print(word)"
   ]
  },
  {
   "cell_type": "markdown",
   "metadata": {},
   "source": [
    "### Q18. To write a program using class for converting integer number to roman number"
   ]
  },
  {
   "cell_type": "code",
   "execution_count": 29,
   "metadata": {},
   "outputs": [
    {
     "name": "stdout",
     "output_type": "stream",
     "text": [
      "1000\n",
      "1000\n",
      "100\n"
     ]
    }
   ],
   "source": [
    "class py_solution:\n",
    "    def roman_to_int(self, s):\n",
    "        rom_val = {'I':1, 'V':5, 'X':10, 'L':50, 'C':100, 'D':500, 'M':1000}\n",
    "        int_val = 0\n",
    "        for i in range(len(s)):\n",
    "            if i>0 and rom_val[s[i]]>rom_val[s[i-1]]:\n",
    "                int_val += rom_val[s[i]] - 2*rom_val[s[i-1]]\n",
    "            else:\n",
    "                int_val += rom_val[s[i]]\n",
    "            return int_val\n",
    "print(py_solution().roman_to_int('MMMCMLXXXVI'))\n",
    "print(py_solution().roman_to_int('MMMM'))\n",
    "print(py_solution().roman_to_int('C'))"
   ]
  },
  {
   "cell_type": "markdown",
   "metadata": {},
   "source": [
    "### Q19. Write a program to implement pow(x,n)"
   ]
  },
  {
   "cell_type": "code",
   "execution_count": 30,
   "metadata": {},
   "outputs": [],
   "source": [
    "# function to calculate x\n",
    "# raised to the power y\n",
    "\n",
    "def power(x,y):\n",
    "    if (y == 0):\n",
    "        return 1\n",
    "    elif (int(y % 2) == 0):\n",
    "        return (power(x, int(y/2))* power(x, int(y/2)))\n",
    "    else:\n",
    "        return(x * power(x,int(y/2)) * power(x, int(y/2)))"
   ]
  },
  {
   "cell_type": "code",
   "execution_count": 31,
   "metadata": {},
   "outputs": [
    {
     "name": "stdout",
     "output_type": "stream",
     "text": [
      "8\n"
     ]
    }
   ],
   "source": [
    "x = 2; y = 3\n",
    "print(power(x,y))"
   ]
  },
  {
   "cell_type": "markdown",
   "metadata": {},
   "source": [
    "### Q20. To write a program using class to reverse a string a word by word."
   ]
  },
  {
   "cell_type": "code",
   "execution_count": 32,
   "metadata": {},
   "outputs": [],
   "source": [
    "class py_solution:\n",
    "    def reverse_words(self, s):\n",
    "        return ''.join(reversed(s.split()))"
   ]
  },
  {
   "cell_type": "code",
   "execution_count": 33,
   "metadata": {},
   "outputs": [
    {
     "name": "stdout",
     "output_type": "stream",
     "text": [
      ".pyhello\n"
     ]
    }
   ],
   "source": [
    "print(py_solution().reverse_words(\"hello .py\"))"
   ]
  },
  {
   "cell_type": "code",
   "execution_count": null,
   "metadata": {},
   "outputs": [],
   "source": []
  },
  {
   "cell_type": "code",
   "execution_count": null,
   "metadata": {},
   "outputs": [],
   "source": []
  },
  {
   "cell_type": "code",
   "execution_count": null,
   "metadata": {},
   "outputs": [],
   "source": []
  },
  {
   "cell_type": "code",
   "execution_count": null,
   "metadata": {},
   "outputs": [],
   "source": []
  },
  {
   "cell_type": "code",
   "execution_count": null,
   "metadata": {},
   "outputs": [],
   "source": []
  },
  {
   "cell_type": "code",
   "execution_count": null,
   "metadata": {},
   "outputs": [],
   "source": []
  },
  {
   "cell_type": "markdown",
   "metadata": {},
   "source": [
    "# Python problem solving \n",
    "**Assignment 2**"
   ]
  },
  {
   "cell_type": "markdown",
   "metadata": {},
   "source": [
    "## Program 1"
   ]
  },
  {
   "cell_type": "markdown",
   "metadata": {},
   "source": [
    "### Q1. To create a list and performing various operations on it.\n",
    "operations :-\n",
    "    1. insert()- it is used for inserting a speficit item at specific point\n",
    "    2. remove()- it is used for removing specific item\n",
    "    3. append()- it is used for adding a spefic item at the end of the list\n",
    "    4. len()- it is used for measuring the length of list\n",
    "    5. pop()- it is used for deleting the last item from the list\n",
    "    6. clear()- it is used for clear the whole list"
   ]
  },
  {
   "cell_type": "code",
   "execution_count": null,
   "metadata": {},
   "outputs": [],
   "source": [
    "# creating a heterogenious list named as 'a'\n",
    "\n",
    "a = [1, 3, 5, 6, 7, [3, 4, 5], 'Hello']\n",
    "\n",
    "# inserting number 20 at the 3rd position\n",
    "a.insert(3, 20)\n",
    "print(a)\n",
    "\n",
    "# removing num 7 from the list\n",
    "a.remove(7)\n",
    "print(a)\n",
    "\n",
    "# appending 'hi' in the list\n",
    "a.append('hi')\n",
    "print(a)\n",
    "\n",
    "# find the length of list\n",
    "len(a)\n",
    "print(len(a))\n",
    "\n",
    "# delete the last item from the list\n",
    "a.pop()\n",
    "print(a)\n",
    "\n",
    "# delete the item on the 6th position\n",
    "a.pop(6)\n",
    "print(a)\n",
    "\n",
    "# make clear all the list\n",
    "a.clear()\n",
    "print(a)"
   ]
  },
  {
   "cell_type": "markdown",
   "metadata": {},
   "source": [
    "### Q2. To create a dictionary and perform operations on it.\n",
    "\n",
    "operations :-\n",
    "    1. print the dictionary items\n",
    "    2. access items\n",
    "    3. use get()\n",
    "    4. change the values\n",
    "    5. use len()"
   ]
  },
  {
   "cell_type": "code",
   "execution_count": null,
   "metadata": {},
   "outputs": [],
   "source": [
    "#creating a dictionary named as 'b'\n",
    "\n",
    "b = {'name' : 'Aish', 'Age' : 21, 'College' : 'DOT', 'Marital status' : 'Single'}\n",
    "\n",
    "# printing all the key value pairs in dictionary\n",
    "for i in b:\n",
    "    print(i)\n",
    "    \n",
    "# accesing the value of specific key\n",
    "b['name']\n",
    "print(b['name'])\n",
    "\n",
    "# use the get() function to get the specific value\n",
    "n = b.get('Age')\n",
    "print(n)\n",
    "\n",
    "# to change the value of some key \n",
    "b['College'] = 'NCK'\n",
    "print(b)\n",
    "\n",
    "# to find the length of our dictionary\n",
    "len(b)\n",
    "print(len(b))"
   ]
  },
  {
   "cell_type": "markdown",
   "metadata": {},
   "source": [
    "### Q3. To create the tuple and perform methods on it.\n",
    "\n",
    "methods :-\n",
    "    1. Add items in it\n",
    "    2. check length of it\n",
    "    3. cheking items in it\n",
    "    4. accessing items in it"
   ]
  },
  {
   "cell_type": "code",
   "execution_count": null,
   "metadata": {},
   "outputs": [],
   "source": [
    "# creating a tuple of name 'c'\n",
    "\n",
    "c = (2, 4, 6, [11, 22, 33], 'False')\n",
    "\n",
    "# check the length of our tuple\n",
    "len(c)\n",
    "print(len(c))\n",
    "\n",
    "# to find whether the item belongs to tuple or not\n",
    "2 in c\n",
    "print(2 in c)\n",
    "[11, 22, 33] not in c\n",
    "print([11, 22, 33] not in c)\n",
    "\n",
    "# to access the items in tuple\n",
    "c[2:5]\n",
    "print(c[2:5])\n",
    "\n",
    "# to add the items in tuple....But tuple is immutable so it will throw error\n",
    "c.add(9)"
   ]
  },
  {
   "cell_type": "markdown",
   "metadata": {},
   "source": [
    "## Program 2"
   ]
  },
  {
   "cell_type": "markdown",
   "metadata": {},
   "source": [
    "### Q1. To write a program that adds two numbers.\n",
    "* A is first number\n",
    "* B is second number"
   ]
  },
  {
   "cell_type": "code",
   "execution_count": null,
   "metadata": {},
   "outputs": [],
   "source": [
    "A = input('enter the first number : ')\n",
    "B = input('enter the second number : ')\n",
    "\n",
    "C = int(A) + int(B)\n",
    "print('A + B = ', C)"
   ]
  },
  {
   "cell_type": "markdown",
   "metadata": {},
   "source": [
    "### Q2. To write a program for finding odd/even numbers."
   ]
  },
  {
   "cell_type": "code",
   "execution_count": null,
   "metadata": {},
   "outputs": [],
   "source": [
    "for i in range(10):\n",
    "    if i%2 == 0:\n",
    "        print('{} : The number is even.'.format(i))\n",
    "\n",
    "    else:\n",
    "        print('{} : The number is odd.'.format(i))"
   ]
  },
  {
   "cell_type": "markdown",
   "metadata": {},
   "source": [
    "### Q3. Write a program for fiding the largest number among 3 given numbers.\n",
    "\n",
    "* n1 : is first number\n",
    "* n2 : is second number\n",
    "* n3 : is third number"
   ]
  },
  {
   "cell_type": "code",
   "execution_count": null,
   "metadata": {},
   "outputs": [],
   "source": [
    "n1 = int(input('first number :'))\n",
    "n2 = int(input('second number :'))\n",
    "n3 = int(input('third number :'))\n",
    "\n",
    "N = list([n1, n2, n3])\n",
    "N = sorted(N)\n",
    "\n",
    "print('The largest number among given 3 numbers is : ', N[-1])"
   ]
  },
  {
   "cell_type": "markdown",
   "metadata": {},
   "source": [
    "### Q4. To write a program to find the day of corresponding date\n",
    "\n",
    "* 1 date for Monday\n",
    "* 2 date for Tuesday\n",
    "* 3 date for Wednesday\n",
    "* 4 date for Thursday\n",
    "* 5 date for Friday\n",
    "* 6 date for Saturday\n",
    "* 7 date for Sunday"
   ]
  },
  {
   "cell_type": "code",
   "execution_count": null,
   "metadata": {},
   "outputs": [],
   "source": [
    "date = int(input('give the number between 1 to 7 : '))\n",
    "\n",
    "if date == 1:\n",
    "    print(\"It's a Monday today\")\n",
    "elif date == 2:\n",
    "    print(\"It's a Tuesday today\")\n",
    "elif date == 3:\n",
    "    print(\"It's a Wednesday today\")\n",
    "elif date == 4:\n",
    "    print(\"It's a Thursday today\")\n",
    "elif date == 5:\n",
    "    print(\"It's a Friday today\")\n",
    "elif date == 6:\n",
    "    print(\"It's a Saturday today\")\n",
    "elif date == 7:\n",
    "    print(\"It's a Sunday today\")\n",
    "else:\n",
    "    print('You may have given wrong input')"
   ]
  },
  {
   "cell_type": "markdown",
   "metadata": {},
   "source": [
    "## Program 3"
   ]
  },
  {
   "cell_type": "markdown",
   "metadata": {},
   "source": [
    "### Q1. To create a menu by using the given options as follows\n",
    "    1. To perform addition\n",
    "    2. To perform substraction\n",
    "    3. To perform multiplication\n",
    "    4. To perform division"
   ]
  },
  {
   "cell_type": "code",
   "execution_count": null,
   "metadata": {},
   "outputs": [],
   "source": [
    "def add(a,b):\n",
    "    return a+ b\n",
    "def sub(c,d):\n",
    "    return c - d\n",
    "def mul(e,f):\n",
    "    return e*f\n",
    "def div(g,h):\n",
    "    return g/h\n",
    "\n",
    "print('1. To perform Addition')\n",
    "print('2. To perform Substraction')\n",
    "print('3. To perform Multiplication')\n",
    "print('4. To perform Division')\n",
    "\n",
    "choice = int(input('Enter Your choice'))\n",
    "\n",
    "if choice ==1:\n",
    "    a = int(input('Enter the 1st value'))\n",
    "    b = int(input('Enter the 2nd value'))\n",
    "    print(add(a,b))\n",
    "elif choice == 2:\n",
    "    c = int(input('Enter the 1st value'))\n",
    "    d = int(input('Enter the 2nd value'))\n",
    "    print(sub(c,d))\n",
    "elif choice == 3:\n",
    "    e = int(input('Enter the 1st value'))\n",
    "    f = int(input('Enter the 2nd value'))\n",
    "    print(mul(e,f))\n",
    "elif choice == 4:\n",
    "    g = int(input('Enter the 1st value'))\n",
    "    h = int(input('Enter the 2nd value'))\n",
    "    print(div(g,h))\n",
    "else:\n",
    "    print('wrong choice')"
   ]
  },
  {
   "cell_type": "markdown",
   "metadata": {},
   "source": [
    "### Q2. To write a program to check whether the string is palindrome or not"
   ]
  },
  {
   "cell_type": "code",
   "execution_count": null,
   "metadata": {},
   "outputs": [],
   "source": [
    "def word(checking_word):\n",
    "    a = checking_word[::-1]\n",
    "    if checking_word == a:\n",
    "        print(f'The word \"{checking_word}\" is palidrome')\n",
    "    else:\n",
    "        print(f'The word \"{checking_word}\" is not palidrome')\n",
    "        \n",
    "\n",
    "word('madam')"
   ]
  },
  {
   "cell_type": "markdown",
   "metadata": {},
   "source": [
    "### Q3. To write a program to find the factorial of a given number"
   ]
  },
  {
   "cell_type": "code",
   "execution_count": null,
   "metadata": {},
   "outputs": [],
   "source": [
    "def factorial(i):\n",
    "    if i == 1:\n",
    "        return(1)\n",
    "    else:\n",
    "        return( i * factorial(i-1))\n",
    "\n",
    "\n",
    "a = factorial(5)\n",
    "print(a)"
   ]
  },
  {
   "cell_type": "markdown",
   "metadata": {},
   "source": [
    "### Q4. To define a function that compares two lists and tell is lists are same or not."
   ]
  },
  {
   "cell_type": "code",
   "execution_count": null,
   "metadata": {},
   "outputs": [],
   "source": [
    "a = [4, 5]\n",
    "b = [4, 5, 6, 5]\n",
    "def compare(a,b):\n",
    "    if len(a) > len(b):\n",
    "        c = len(b)\n",
    "    elif len(a) == len(b):\n",
    "        c = len(a)\n",
    "    else:\n",
    "        c = len(a)\n",
    "        \n",
    "        \n",
    "    for i in range(c):\n",
    "        if a[i]==b[i]:\n",
    "            pass\n",
    "        else:\n",
    "            print('Two lists are not same')\n",
    "            continue\n",
    "    print('two lists are same')\n",
    "    \n",
    "\n",
    "    \n",
    "    \n",
    "compare(a,b)"
   ]
  },
  {
   "cell_type": "markdown",
   "metadata": {},
   "source": [
    "## Program 4"
   ]
  },
  {
   "cell_type": "markdown",
   "metadata": {},
   "source": [
    "### Q1. Using lambda function double the given number and make addition of two numbers."
   ]
  },
  {
   "cell_type": "code",
   "execution_count": null,
   "metadata": {},
   "outputs": [],
   "source": [
    "double = lambda x:2*x\n",
    "print(double(4))\n",
    "\n",
    "add = lambda x,y:x+y\n",
    "print(add(5,6))"
   ]
  },
  {
   "cell_type": "markdown",
   "metadata": {},
   "source": [
    "### Q2. To define a function that filter out only even numbers from the given list."
   ]
  },
  {
   "cell_type": "code",
   "execution_count": null,
   "metadata": {},
   "outputs": [],
   "source": [
    "a = [10, 11, 12, 13, 14, 15, 16, 17, 18, 19]\n",
    "\n",
    "def filter(a):\n",
    "    for i in a:\n",
    "        if i%2 == 0:\n",
    "            print(f' {i} is even function')\n",
    "        else:\n",
    "            continue\n",
    "            \n",
    "            \n",
    "\n",
    "filter(a)"
   ]
  },
  {
   "cell_type": "markdown",
   "metadata": {},
   "source": [
    "### Q3. To write a progrm that doubles all the numbers from the given list."
   ]
  },
  {
   "cell_type": "code",
   "execution_count": null,
   "metadata": {},
   "outputs": [],
   "source": [
    "a = [1, 2, 3, 4, 5, 6, 12, 13, 14, 16]\n",
    "\n",
    "def map(a):\n",
    "    for i in a:\n",
    "        b = i*2\n",
    "        print(f'the double of {i} is {b}')\n",
    "              \n",
    "              \n",
    "map(a)"
   ]
  },
  {
   "cell_type": "markdown",
   "metadata": {},
   "source": [
    "### Q4. Writing the program that adds all the elements in the list."
   ]
  },
  {
   "cell_type": "code",
   "execution_count": null,
   "metadata": {},
   "outputs": [],
   "source": [
    "a = [1, 2, 3, 4, 8]\n",
    "\n",
    "def reduce(a):\n",
    "    print(sum(a))\n",
    "    \n",
    "    \n",
    "    \n",
    "reduce(a)"
   ]
  },
  {
   "cell_type": "markdown",
   "metadata": {},
   "source": [
    "## Program 5"
   ]
  },
  {
   "cell_type": "markdown",
   "metadata": {},
   "source": [
    "### Q1. Write a program to implement abnormal termination."
   ]
  },
  {
   "cell_type": "code",
   "execution_count": null,
   "metadata": {},
   "outputs": [],
   "source": [
    "a = 5\n",
    "b = 0\n",
    "\n",
    "try :\n",
    "    print(a/b)\n",
    "\n",
    "except:\n",
    "    print('bye')"
   ]
  },
  {
   "cell_type": "markdown",
   "metadata": {},
   "source": [
    "### Q2. Write a programe to open a file and write 'Hello world' in it."
   ]
  },
  {
   "cell_type": "code",
   "execution_count": null,
   "metadata": {},
   "outputs": [],
   "source": [
    "with open('C:\\\\Users\\\\HP\\\\python\\\\data cleaning\\\\New Text Document.txt', 'w') as f:\n",
    "    f.write('Hello world!!!!.....')"
   ]
  },
  {
   "cell_type": "markdown",
   "metadata": {},
   "source": [
    "### Q3. Write a programe to write a content for a non - existing file."
   ]
  },
  {
   "cell_type": "code",
   "execution_count": null,
   "metadata": {},
   "outputs": [],
   "source": [
    "with open('C:\\\\Users\\\\HP\\\\python\\\\data cleaning\\\\Text Document.txt', 'w') as f1:\n",
    "    f1.write('Hi python programmers........')"
   ]
  },
  {
   "cell_type": "markdown",
   "metadata": {},
   "source": [
    "## Program 6"
   ]
  },
  {
   "cell_type": "markdown",
   "metadata": {},
   "source": [
    "### Q1. Python code for checking the version of python."
   ]
  },
  {
   "cell_type": "code",
   "execution_count": null,
   "metadata": {},
   "outputs": [],
   "source": [
    "import sys\n",
    "print('System version is :')\n",
    "print(sys.version)\n",
    "print('Version Information is :')\n",
    "print(sys.version_info)"
   ]
  },
  {
   "cell_type": "markdown",
   "metadata": {},
   "source": [
    "### Q2. Write a program to check the acess permissions acquired by a file using os module."
   ]
  },
  {
   "cell_type": "code",
   "execution_count": null,
   "metadata": {},
   "outputs": [],
   "source": [
    "import os\n",
    "\n",
    "os.access('text', os.R_OK) # check for read acess\n",
    "\n",
    "os.access('text', os.W_OK) # check for write acess\n",
    "\n",
    "os.access('text', os.X_OK) # check for execution acess\n",
    "\n",
    "os.access('text', os.F_OK) # check for existance acess"
   ]
  },
  {
   "cell_type": "markdown",
   "metadata": {},
   "source": [
    "### Q3. To write a program for displaying a particular month of a year using calendar module."
   ]
  },
  {
   "cell_type": "code",
   "execution_count": null,
   "metadata": {},
   "outputs": [],
   "source": [
    "import calendar\n",
    "\n",
    "yy = 2019\n",
    "mm = 10\n",
    "\n",
    "print(calendar.month(yy, mm))"
   ]
  },
  {
   "cell_type": "markdown",
   "metadata": {},
   "source": [
    "### Q4. Program to print all the months in a given year."
   ]
  },
  {
   "cell_type": "code",
   "execution_count": null,
   "metadata": {},
   "outputs": [],
   "source": [
    "import datetime\n",
    "import calendar\n",
    "\n",
    "yy = 2022\n",
    "mm = 10\n",
    "\n",
    "print(calendar.calendar(2022))"
   ]
  },
  {
   "cell_type": "markdown",
   "metadata": {},
   "source": [
    "## Program 7"
   ]
  },
  {
   "cell_type": "markdown",
   "metadata": {},
   "source": [
    "### Q1. To write a program for getting date and time of today and now."
   ]
  },
  {
   "cell_type": "code",
   "execution_count": null,
   "metadata": {},
   "outputs": [],
   "source": [
    "import datetime \n",
    "\n",
    "a = datetime.datetime.today()\n",
    "b = datetime.datetime.now()\n",
    "\n",
    "print(a)\n",
    "print(b)"
   ]
  },
  {
   "cell_type": "markdown",
   "metadata": {},
   "source": [
    "### Q2. To write a program to add some days to a particular date and print the date added."
   ]
  },
  {
   "cell_type": "code",
   "execution_count": null,
   "metadata": {},
   "outputs": [],
   "source": [
    "from datetime import datetime, timedelta\n",
    "\n",
    "particular_date = datetime(2022, 10, 28)\n",
    "new_date = particular_date + timedelta(45)\n",
    "print(new_date)"
   ]
  },
  {
   "cell_type": "markdown",
   "metadata": {},
   "source": [
    "### Q3. To write program which accepts the radius of a circle from user and computes the area using math module."
   ]
  },
  {
   "cell_type": "code",
   "execution_count": null,
   "metadata": {},
   "outputs": [],
   "source": [
    "import math\n",
    "\n",
    "r = float(input('Give the radius of circle = '))\n",
    "\n",
    "area = math.pi *r *r\n",
    "\n",
    "print(f'Area of a circle of radius {r} =', area)"
   ]
  },
  {
   "cell_type": "markdown",
   "metadata": {},
   "source": [
    "## Program 8"
   ]
  },
  {
   "cell_type": "markdown",
   "metadata": {},
   "source": [
    "### Q1. Program to create a package (college), sub-package (alldept), modules (it, cse) and create admin and cabin function to module."
   ]
  },
  {
   "cell_type": "code",
   "execution_count": null,
   "metadata": {},
   "outputs": [],
   "source": [
    "class College:\n",
    "\n",
    "  def __init__(self, college):\n",
    "    self.name = college['name']\n",
    "    self.adress = college['adress']\n",
    "\n",
    "  def get_college_info(self):\n",
    "    return f\"name: {self.name}\\nadress: {self.adress}\"\n",
    "\n",
    "\n",
    "class alldept:\n",
    "\n",
    "  def __init__(self, dept):\n",
    "    self.department = alldept['department']\n",
    "    \n",
    "  def get_department_info(self):\n",
    "    return f\"Dept: {self.department}\""
   ]
  },
  {
   "cell_type": "markdown",
   "metadata": {},
   "source": [
    "### Q2. Write a program to create a package (Engg), sub-package (years), modules(sem) and create staff and student function to module. "
   ]
  },
  {
   "cell_type": "code",
   "execution_count": null,
   "metadata": {},
   "outputs": [],
   "source": []
  },
  {
   "cell_type": "markdown",
   "metadata": {},
   "source": [
    "## Program 9"
   ]
  },
  {
   "cell_type": "markdown",
   "metadata": {},
   "source": [
    "### Q1. Write a program to display welcome to MRCET by using classes and objects."
   ]
  },
  {
   "cell_type": "code",
   "execution_count": null,
   "metadata": {},
   "outputs": [],
   "source": []
  },
  {
   "cell_type": "code",
   "execution_count": null,
   "metadata": {},
   "outputs": [],
   "source": []
  },
  {
   "cell_type": "code",
   "execution_count": null,
   "metadata": {},
   "outputs": [],
   "source": []
  },
  {
   "cell_type": "code",
   "execution_count": null,
   "metadata": {},
   "outputs": [],
   "source": []
  },
  {
   "cell_type": "code",
   "execution_count": null,
   "metadata": {},
   "outputs": [],
   "source": []
  },
  {
   "cell_type": "code",
   "execution_count": null,
   "metadata": {},
   "outputs": [],
   "source": []
  },
  {
   "cell_type": "code",
   "execution_count": null,
   "metadata": {},
   "outputs": [],
   "source": []
  },
  {
   "cell_type": "code",
   "execution_count": null,
   "metadata": {},
   "outputs": [],
   "source": []
  },
  {
   "cell_type": "code",
   "execution_count": null,
   "metadata": {},
   "outputs": [],
   "source": []
  },
  {
   "cell_type": "code",
   "execution_count": null,
   "metadata": {},
   "outputs": [],
   "source": []
  },
  {
   "cell_type": "code",
   "execution_count": null,
   "metadata": {},
   "outputs": [],
   "source": []
  },
  {
   "cell_type": "code",
   "execution_count": null,
   "metadata": {},
   "outputs": [],
   "source": []
  },
  {
   "cell_type": "code",
   "execution_count": null,
   "metadata": {},
   "outputs": [],
   "source": []
  },
  {
   "cell_type": "code",
   "execution_count": null,
   "metadata": {},
   "outputs": [],
   "source": []
  },
  {
   "cell_type": "code",
   "execution_count": null,
   "metadata": {},
   "outputs": [],
   "source": []
  },
  {
   "cell_type": "code",
   "execution_count": null,
   "metadata": {},
   "outputs": [],
   "source": []
  },
  {
   "cell_type": "code",
   "execution_count": null,
   "metadata": {},
   "outputs": [],
   "source": []
  },
  {
   "cell_type": "code",
   "execution_count": null,
   "metadata": {},
   "outputs": [],
   "source": []
  },
  {
   "cell_type": "code",
   "execution_count": null,
   "metadata": {},
   "outputs": [],
   "source": []
  },
  {
   "cell_type": "code",
   "execution_count": null,
   "metadata": {},
   "outputs": [],
   "source": []
  },
  {
   "cell_type": "code",
   "execution_count": null,
   "metadata": {},
   "outputs": [],
   "source": []
  },
  {
   "cell_type": "code",
   "execution_count": null,
   "metadata": {},
   "outputs": [],
   "source": []
  },
  {
   "cell_type": "code",
   "execution_count": null,
   "metadata": {},
   "outputs": [],
   "source": []
  },
  {
   "cell_type": "code",
   "execution_count": null,
   "metadata": {},
   "outputs": [],
   "source": []
  },
  {
   "cell_type": "code",
   "execution_count": null,
   "metadata": {},
   "outputs": [],
   "source": []
  },
  {
   "cell_type": "code",
   "execution_count": null,
   "metadata": {},
   "outputs": [],
   "source": []
  },
  {
   "cell_type": "code",
   "execution_count": null,
   "metadata": {},
   "outputs": [],
   "source": []
  },
  {
   "cell_type": "code",
   "execution_count": null,
   "metadata": {},
   "outputs": [],
   "source": []
  },
  {
   "cell_type": "markdown",
   "metadata": {},
   "source": [
    "# Python problem solving \n",
    "**Assignment 3**"
   ]
  },
  {
   "cell_type": "code",
   "execution_count": null,
   "metadata": {},
   "outputs": [],
   "source": [
    "import tkinter\n",
    "from tkinter import *"
   ]
  },
  {
   "cell_type": "code",
   "execution_count": null,
   "metadata": {},
   "outputs": [],
   "source": [
    "window = Tk()\n",
    "# to rename the title of the window\n",
    "window.title('GUI')\n",
    "# pack is used to show the object in the window\n",
    "label = tkinter.Label(window, text = 'Hello World!').pack()\n",
    "window.mainloop()"
   ]
  },
  {
   "cell_type": "code",
   "execution_count": null,
   "metadata": {},
   "outputs": [],
   "source": [
    "window = Tk()\n",
    "l1 = Label(window, text = 'edureka!',font=('Arial Bold', 50))\n",
    "l1.grid(column=0, row=0)\n",
    "window.mainloop()"
   ]
  },
  {
   "cell_type": "code",
   "execution_count": null,
   "metadata": {},
   "outputs": [],
   "source": [
    "window = Tk()\n",
    "L1 = Label(window, text = 'edureka!', font = ('Arial Bold', 50))\n",
    "window.geometry('350x200')\n",
    "L1.grid(column=0, row=0)\n",
    "window.mainloop()"
   ]
  },
  {
   "cell_type": "code",
   "execution_count": null,
   "metadata": {},
   "outputs": [],
   "source": [
    "window = Tk()\n",
    "l1 = Label(window, text = 'edureka!')\n",
    "l1.grid(column=0, row=0)\n",
    "bt = Button(window, text='Enter')\n",
    "bt.grid(column=1, row=0)\n",
    "window.geometry('300x300')\n",
    "window.mainloop()"
   ]
  },
  {
   "cell_type": "code",
   "execution_count": null,
   "metadata": {},
   "outputs": [],
   "source": [
    "window = Tk()\n",
    "l1 = Label(window, text = 'edureka!')\n",
    "l1.grid(column=0, row=0)\n",
    "bt = Button(window, text='Enter', bg='red', fg= 'yellow')\n",
    "bt.grid(column=1, row=0)\n",
    "window.geometry('300x300')\n",
    "window.mainloop()"
   ]
  },
  {
   "cell_type": "code",
   "execution_count": null,
   "metadata": {},
   "outputs": [],
   "source": [
    "window = Tk()\n",
    "window.title('edureka!')\n",
    "window.geometry('300x300')\n",
    "top_frame = tkinter.Frame(window).pack()\n",
    "button_frame = tkinter.Frame(window).pack(side = 'bottom')\n",
    "\n",
    "btn1 = tkinter.Button(top_frame, text='Button 1', fg = 'red').pack()\n",
    "btn2 = tkinter.Button(top_frame, text='Button 2', fg = 'green').pack()\n",
    "btn3 = tkinter.Button(top_frame, text='Button 3', fg = 'purple').pack(side='left')\n",
    "btn4 = tkinter.Button(top_frame, text='Button 4', fg = 'maroon').pack(side='left')\n",
    "\n",
    "window.mainloop()"
   ]
  },
  {
   "cell_type": "code",
   "execution_count": null,
   "metadata": {},
   "outputs": [],
   "source": [
    "window = Tk()\n",
    "window.title('EDUREKA!')\n",
    "\n",
    "#creating 2 text labels and input labels\n",
    "\n",
    "tkinter.Label(window, text = 'Username').grid(row=0) #this is placed in 0 0\n",
    "# Entry is used to display the input-field\n",
    "tkinter.Entry(window).grid(row=0, column =1) # this is placed in 0 1\n",
    "\n",
    "tkinter.Label(window, text = 'Password').grid(row =1) # this is placed in 1 0\n",
    "tkinter.Entry(window).grid(row=1, column=1) # this is placed in 1 1\n",
    "\n",
    "# 'Checkbutton' is used to create the check button\n",
    "tkinter.Checkbutton(window, text= 'Keep me logged IN').grid(columnspan =2) # 'columnspan' tell to take the widt of  2 , you can also use 'rowspan' in the similar\n",
    "window.mainloop()"
   ]
  },
  {
   "cell_type": "markdown",
   "metadata": {},
   "source": [
    "### Creating 'Entry' box "
   ]
  },
  {
   "cell_type": "code",
   "execution_count": null,
   "metadata": {},
   "outputs": [],
   "source": [
    "window = Tk()\n",
    "window.geometry('250x250')\n",
    "txt = Entry(window, width = 10)\n",
    "txt.grid(column = 1, row = 0)\n",
    "def clicked():\n",
    "    res = 'Welcome to' + txt.get()\n",
    "    res.configure(text=res)\n",
    "bt = Button(window,text = 'Enter', command = clicked)\n",
    "bt.grid(column = 1, row=1)\n",
    "window.mainloop()"
   ]
  },
  {
   "cell_type": "markdown",
   "metadata": {},
   "source": [
    "### Creating 'Button content'"
   ]
  },
  {
   "cell_type": "code",
   "execution_count": null,
   "metadata": {},
   "outputs": [],
   "source": [
    "import tkinter \n",
    "from tkinter import *\n",
    "\n",
    "window = Tk()\n",
    "\n",
    "window.title('GUI')\n",
    "window.geometry('300x300')\n",
    "#creating a function calling say_hi()\n",
    "def say_Hi():\n",
    "    tkinter.Label(window, text = 'Hi').pack()\n",
    "    \n",
    "tkinter.Button(window, text = 'Click Here', command = say_Hi).pack()\n",
    "        \n",
    "window.mainloop()"
   ]
  },
  {
   "cell_type": "markdown",
   "metadata": {},
   "source": [
    "### Creating 'Button content' with multiple button options"
   ]
  },
  {
   "cell_type": "code",
   "execution_count": null,
   "metadata": {},
   "outputs": [],
   "source": [
    "import tkinter\n",
    "\n",
    "window = tkinter.Tk()\n",
    "window.title('Edureka!')\n",
    "\n",
    "# creating a functionwith an argument 'event'\n",
    "def say_Hi(event):\n",
    "    tkinter.Label(window, text = 'Hi').pack()\n",
    "    \n",
    "btn = tkinter.Button(window, text = 'Click Here')\n",
    "btn.bind('<Button-1>', say_Hi)\n",
    "btn.pack()\n",
    "window.mainloop()"
   ]
  },
  {
   "cell_type": "code",
   "execution_count": null,
   "metadata": {},
   "outputs": [],
   "source": [
    "import tkinter\n",
    "\n",
    "window = tkinter.Tk()\n",
    "window.title('Edureka!')\n",
    "window.geometry('350x350')\n",
    "\n",
    "# creating different function for a event\n",
    "def left_click(event):\n",
    "    tkinter.Label(window, text = 'Left click').pack()\n",
    "    \n",
    "def middle_click(event):\n",
    "    tkinter.Label(window, text = 'Middle click').pack()\n",
    "    \n",
    "def right_click(event):\n",
    "    tkinter.Label(window, text = 'Right click').pack()\n",
    "    \n",
    "window.bind('<Button-1>', left_click)\n",
    "window.bind('<Button-2>', middle_click)\n",
    "window.bind('<Button-3>', right_click)\n",
    "\n",
    "window.mainloop()"
   ]
  },
  {
   "cell_type": "markdown",
   "metadata": {},
   "source": [
    "### Adding image"
   ]
  },
  {
   "cell_type": "code",
   "execution_count": null,
   "metadata": {},
   "outputs": [],
   "source": [
    "import tkinter\n",
    "\n",
    "window = tkinter.Tk()\n",
    "window = tkinter.Toplevel()\n",
    "window.title('Github')\n",
    "window.geometry('250x250')\n",
    "\n",
    "# taking image from the directory amd storing the source in a variable\n",
    "icon = tkinter.PhotoImage(file = 'C:\\\\Users\\\\HP\\\\Pictures\\\\resume\\\\download.png')\n",
    "# doplaying the picture using a 'Label' by passing the picture variable to image parameter \n",
    "label = tkinter.Label(window, image = icon)\n",
    "label.pack()\n",
    "\n",
    "window.mainloop()"
   ]
  },
  {
   "cell_type": "markdown",
   "metadata": {},
   "source": [
    "### Creating a Calculator"
   ]
  },
  {
   "cell_type": "code",
   "execution_count": null,
   "metadata": {},
   "outputs": [],
   "source": [
    "from tkinter import *\n",
    "\n",
    "# creating basic window\n",
    "window = Tk()\n",
    "window.geometry('312x312')\n",
    "window.resizable(0,0)\n",
    "window.title('Calculator')\n",
    "\n",
    "######################################### functions ###########################################\n",
    "# 'btn_click' function continuously updates the input field whenever you enters a number\n",
    "def btn_click(item):\n",
    "    global expression\n",
    "    expression = expression + str(item)\n",
    "    input_text.set(expression)\n",
    "    \n",
    "# 'btn_clear' function clears the input fields\n",
    "def btn_clear():\n",
    "    global expression\n",
    "    expression = ''\n",
    "    input_text.set('')\n",
    "    \n",
    "# 'btn_equal' calculates the expression present in input field\n",
    "def btn_equal():\n",
    "    global expression\n",
    "    result = str(eval(expression)) # 'eval' function evalutes the string expression directly\n",
    "    #you can also implement your own function to evaluate the expression listed of 'eval' function\n",
    "    input_text.set(result)\n",
    "    expression = ''\n",
    "    \n",
    "expression = ''\n",
    "# 'StringVar()' is used to get the instance of input field\n",
    "input_text = StringVar()\n",
    "\n",
    "# creating a frame for the input field\n",
    "input_frame = Frame(window, width = 312, height = 50, bd = 0, highlightbackground = 'black', highlightcolor = 'black', highlightthickness = 1)\n",
    "input_frame.pack(side = TOP)\n",
    "\n",
    "# creating a input field inside the 'Frame'\n",
    "input_field = Entry(input_frame, font = ('arial', 18, 'bold'), textvariable = input_text, \n",
    "                    width = 50, bg = '#eee', bd = 0, justify = RIGHT)\n",
    "input_field.grid(row=0, column=0)\n",
    "input_field.pack(ipady = 10) # 'ipady' is internal padding to increase the height of input field\n",
    "\n",
    "# creating another 'Frame' for the button below the 'input_frame'\n",
    "btns_frame = Frame(window, width = 312, height = 272.5, bg = 'grey')\n",
    "btns_frame.pack()\n",
    "\n",
    "# first row\n",
    "clear = Button(btns_frame, text = 'C', fg = 'black', width = 32, height = 3, bd = 0, bg = '#eee', \n",
    "               cursor = 'hand2', command = lambda:btn_clear()).grid(row = 0, column = 0, \n",
    "                                                                    columnspan = 3, padx = 1, pady = 1)\n",
    "divide = Button(btns_frame, text = '/', fg = 'black', width = 10, height = 3, bd = 0, bg = '#eee', \n",
    "                cursor = 'hand2', command = lambda:btn_click('/')).grid(row = 0, column = 3, padx = 1, \n",
    "                                                                        pady = 1)\n",
    "\n",
    "# second row\n",
    "seven = Button(btns_frame, text = '7', fg = 'black', width = 10, height = 3, bd = 0, bg = '#fff', \n",
    "               cursor = 'hand2',\n",
    "               command = lambda:btn_click(7)).grid(row = 1, column = 0, padx = 1, pady=1)\n",
    "eight = Button(btns_frame, text = '8', fg = 'black', width = 10, height = 3, bd = 0, bg = '#fff', \n",
    "               cursor = 'hand2', \n",
    "               command = lambda:btn_click(8)).grid(row = 1, column = 1, padx = 1, pady=1)\n",
    "nine = Button(btns_frame, text = '9', fg = 'black', width = 10, height = 3, bd = 0, bg = '#fff', \n",
    "              cursor = 'hand2', \n",
    "              command = lambda:btn_click(9)).grid(row = 1, column = 2, padx = 1, pady=1)\n",
    "multipy = Button(btns_frame, text = '*', fg = 'black', width = 10, height = 3, bd = 0, bg = '#eee',\n",
    "                 cursor = 'hand2', \n",
    "                 command = lambda:btn_click('*')).grid(row = 1, column = 3, padx = 1, pady=1)\n",
    "\n",
    "# third row\n",
    "four = Button(btns_frame, text = '4', fg = 'black', width = 10, height = 3, bd = 0, bg = '#fff', \n",
    "              cursor = 'hand2', \n",
    "              command = lambda:btn_click(4)).grid(row = 2, column = 0, padx = 1, pady=1)\n",
    "five = Button(btns_frame, text = '5', fg = 'black', width = 10, height = 3, bd = 0, bg = '#fff', \n",
    "              cursor = 'hand2', \n",
    "              command = lambda:btn_click(5)).grid(row = 2, column = 1, padx = 1, pady=1)\n",
    "six = Button(btns_frame, text = '6', fg = 'black', width = 10, height = 3, bd = 0, bg = '#fff', \n",
    "             cursor = 'hand2', \n",
    "             command = lambda:btn_click(6)).grid(row = 2, column = 2, padx = 1, pady=1)\n",
    "minus = Button(btns_frame, text = '-', fg = 'black', width = 10, height = 3, bd = 0, bg = '#eee', \n",
    "               cursor = 'hand2', \n",
    "               command = lambda:btn_click('-')).grid(row = 2, column = 3, padx = 1, pady=1)\n",
    "\n",
    "# fourth row\n",
    "one = Button(btns_frame, text = '1', fg = 'black', width = 10, height = 3, bd = 0, bg = '#fff', \n",
    "             cursor = 'hand2', command = lambda:btn_click(1)).grid(row = 3, column = 0, padx = 1, pady=1)\n",
    "two = Button(btns_frame, text = '2', fg = 'black', width = 10, height = 3, bd = 0, bg = '#fff', \n",
    "             cursor = 'hand2', command = lambda:btn_click(2)).grid(row = 3, column = 1, padx = 1, pady=1)\n",
    "three = Button(btns_frame, text = '3', fg = 'black', width = 10, height = 3, bd = 0, bg = '#fff', \n",
    "               cursor = 'hand2', command = lambda:btn_click(3)).grid(row = 3, column = 2, padx = 1, pady=1)\n",
    "plus = Button(btns_frame, text = '+', fg = 'black', width = 10, height = 3, bd = 0, bg = '#eee', \n",
    "              cursor = 'hand2', command = lambda:btn_click('+')).grid(row = 3, column = 3, padx = 1, pady=1)\n",
    "\n",
    "# fifth row\n",
    "zero = Button(btns_frame, text = '0', fg = 'black', width = 21, height = 3, bd = 0, bg = '#fff', cursor = 'hand2', command = lambda:btn_click(0)).grid(row = 4, column = 0, columnspan = 2, padx = 1, pady=1)\n",
    "point = Button(btns_frame, text = '.', fg = 'black', width = 10, height = 3, bd = 0, bg = '#eee', cursor = 'hand2', command = lambda:btn_click('.')).grid(row = 4, column = 2, padx = 1, pady=1)\n",
    "equals = Button(btns_frame, text = '=', fg = 'black', width = 10, height = 3, bd = 0, bg = '#eee', cursor = 'hand2', command = lambda:btn_equal()).grid(row = 4, column = 3, padx = 1, pady=1)\n",
    "\n",
    "window.mainloop()"
   ]
  },
  {
   "cell_type": "code",
   "execution_count": null,
   "metadata": {},
   "outputs": [],
   "source": []
  },
  {
   "cell_type": "code",
   "execution_count": null,
   "metadata": {},
   "outputs": [],
   "source": []
  },
  {
   "cell_type": "code",
   "execution_count": null,
   "metadata": {},
   "outputs": [],
   "source": []
  },
  {
   "cell_type": "code",
   "execution_count": null,
   "metadata": {},
   "outputs": [],
   "source": []
  },
  {
   "cell_type": "code",
   "execution_count": null,
   "metadata": {},
   "outputs": [],
   "source": []
  },
  {
   "cell_type": "code",
   "execution_count": null,
   "metadata": {},
   "outputs": [],
   "source": []
  },
  {
   "cell_type": "code",
   "execution_count": null,
   "metadata": {},
   "outputs": [],
   "source": []
  },
  {
   "cell_type": "markdown",
   "metadata": {},
   "source": [
    "# Python problem solving \n",
    "**Assignment 4**"
   ]
  },
  {
   "cell_type": "code",
   "execution_count": 3,
   "metadata": {},
   "outputs": [],
   "source": [
    "import pandas as pd"
   ]
  },
  {
   "cell_type": "code",
   "execution_count": 6,
   "metadata": {},
   "outputs": [],
   "source": [
    "employees = pd.read_csv('C:\\\\Users\\\\HP\\python\\\\employee.csv')"
   ]
  },
  {
   "cell_type": "code",
   "execution_count": 7,
   "metadata": {},
   "outputs": [
    {
     "data": {
      "text/html": [
       "<div>\n",
       "<style scoped>\n",
       "    .dataframe tbody tr th:only-of-type {\n",
       "        vertical-align: middle;\n",
       "    }\n",
       "\n",
       "    .dataframe tbody tr th {\n",
       "        vertical-align: top;\n",
       "    }\n",
       "\n",
       "    .dataframe thead th {\n",
       "        text-align: right;\n",
       "    }\n",
       "</style>\n",
       "<table border=\"1\" class=\"dataframe\">\n",
       "  <thead>\n",
       "    <tr style=\"text-align: right;\">\n",
       "      <th></th>\n",
       "      <th>id</th>\n",
       "      <th>name</th>\n",
       "      <th>title_id</th>\n",
       "      <th>years</th>\n",
       "      <th>department_id</th>\n",
       "    </tr>\n",
       "  </thead>\n",
       "  <tbody>\n",
       "    <tr>\n",
       "      <th>0</th>\n",
       "      <td>2</td>\n",
       "      <td>clvis</td>\n",
       "      <td>1</td>\n",
       "      <td>15</td>\n",
       "      <td>2</td>\n",
       "    </tr>\n",
       "    <tr>\n",
       "      <th>1</th>\n",
       "      <td>6</td>\n",
       "      <td>sandy</td>\n",
       "      <td>2</td>\n",
       "      <td>5</td>\n",
       "      <td>7</td>\n",
       "    </tr>\n",
       "    <tr>\n",
       "      <th>2</th>\n",
       "      <td>7</td>\n",
       "      <td>christine</td>\n",
       "      <td>1</td>\n",
       "      <td>5</td>\n",
       "      <td>4</td>\n",
       "    </tr>\n",
       "    <tr>\n",
       "      <th>3</th>\n",
       "      <td>12</td>\n",
       "      <td>aaron</td>\n",
       "      <td>3</td>\n",
       "      <td>3</td>\n",
       "      <td>3</td>\n",
       "    </tr>\n",
       "  </tbody>\n",
       "</table>\n",
       "</div>"
      ],
      "text/plain": [
       "   id       name  title_id  years  department_id\n",
       "0   2      clvis         1     15              2\n",
       "1   6      sandy         2      5              7\n",
       "2   7  christine         1      5              4\n",
       "3  12      aaron         3      3              3"
      ]
     },
     "execution_count": 7,
     "metadata": {},
     "output_type": "execute_result"
    }
   ],
   "source": [
    "employees"
   ]
  },
  {
   "cell_type": "code",
   "execution_count": 8,
   "metadata": {},
   "outputs": [],
   "source": [
    "employees = employees.set_index('id')"
   ]
  },
  {
   "cell_type": "code",
   "execution_count": 9,
   "metadata": {},
   "outputs": [
    {
     "data": {
      "text/html": [
       "<div>\n",
       "<style scoped>\n",
       "    .dataframe tbody tr th:only-of-type {\n",
       "        vertical-align: middle;\n",
       "    }\n",
       "\n",
       "    .dataframe tbody tr th {\n",
       "        vertical-align: top;\n",
       "    }\n",
       "\n",
       "    .dataframe thead th {\n",
       "        text-align: right;\n",
       "    }\n",
       "</style>\n",
       "<table border=\"1\" class=\"dataframe\">\n",
       "  <thead>\n",
       "    <tr style=\"text-align: right;\">\n",
       "      <th></th>\n",
       "      <th>name</th>\n",
       "      <th>title_id</th>\n",
       "      <th>years</th>\n",
       "      <th>department_id</th>\n",
       "    </tr>\n",
       "    <tr>\n",
       "      <th>id</th>\n",
       "      <th></th>\n",
       "      <th></th>\n",
       "      <th></th>\n",
       "      <th></th>\n",
       "    </tr>\n",
       "  </thead>\n",
       "  <tbody>\n",
       "    <tr>\n",
       "      <th>2</th>\n",
       "      <td>clvis</td>\n",
       "      <td>1</td>\n",
       "      <td>15</td>\n",
       "      <td>2</td>\n",
       "    </tr>\n",
       "    <tr>\n",
       "      <th>6</th>\n",
       "      <td>sandy</td>\n",
       "      <td>2</td>\n",
       "      <td>5</td>\n",
       "      <td>7</td>\n",
       "    </tr>\n",
       "    <tr>\n",
       "      <th>7</th>\n",
       "      <td>christine</td>\n",
       "      <td>1</td>\n",
       "      <td>5</td>\n",
       "      <td>4</td>\n",
       "    </tr>\n",
       "    <tr>\n",
       "      <th>12</th>\n",
       "      <td>aaron</td>\n",
       "      <td>3</td>\n",
       "      <td>3</td>\n",
       "      <td>3</td>\n",
       "    </tr>\n",
       "  </tbody>\n",
       "</table>\n",
       "</div>"
      ],
      "text/plain": [
       "         name  title_id  years  department_id\n",
       "id                                           \n",
       "2       clvis         1     15              2\n",
       "6       sandy         2      5              7\n",
       "7   christine         1      5              4\n",
       "12      aaron         3      3              3"
      ]
     },
     "execution_count": 9,
     "metadata": {},
     "output_type": "execute_result"
    }
   ],
   "source": [
    "employees"
   ]
  },
  {
   "cell_type": "code",
   "execution_count": 10,
   "metadata": {},
   "outputs": [],
   "source": [
    "titles = pd.read_csv('C:\\\\Users\\\\HP\\\\python\\\\title.csv')"
   ]
  },
  {
   "cell_type": "code",
   "execution_count": 11,
   "metadata": {},
   "outputs": [
    {
     "data": {
      "text/html": [
       "<div>\n",
       "<style scoped>\n",
       "    .dataframe tbody tr th:only-of-type {\n",
       "        vertical-align: middle;\n",
       "    }\n",
       "\n",
       "    .dataframe tbody tr th {\n",
       "        vertical-align: top;\n",
       "    }\n",
       "\n",
       "    .dataframe thead th {\n",
       "        text-align: right;\n",
       "    }\n",
       "</style>\n",
       "<table border=\"1\" class=\"dataframe\">\n",
       "  <thead>\n",
       "    <tr style=\"text-align: right;\">\n",
       "      <th></th>\n",
       "      <th>Unnamed: 0</th>\n",
       "      <th>name</th>\n",
       "    </tr>\n",
       "  </thead>\n",
       "  <tbody>\n",
       "    <tr>\n",
       "      <th>0</th>\n",
       "      <td>id</td>\n",
       "      <td>NaN</td>\n",
       "    </tr>\n",
       "    <tr>\n",
       "      <th>1</th>\n",
       "      <td>1</td>\n",
       "      <td>President</td>\n",
       "    </tr>\n",
       "    <tr>\n",
       "      <th>2</th>\n",
       "      <td>2</td>\n",
       "      <td>Lead Engineer</td>\n",
       "    </tr>\n",
       "    <tr>\n",
       "      <th>3</th>\n",
       "      <td>3</td>\n",
       "      <td>Intern</td>\n",
       "    </tr>\n",
       "  </tbody>\n",
       "</table>\n",
       "</div>"
      ],
      "text/plain": [
       "  Unnamed: 0           name\n",
       "0         id            NaN\n",
       "1          1      President\n",
       "2          2  Lead Engineer\n",
       "3          3         Intern"
      ]
     },
     "execution_count": 11,
     "metadata": {},
     "output_type": "execute_result"
    }
   ],
   "source": [
    "titles"
   ]
  },
  {
   "cell_type": "code",
   "execution_count": 18,
   "metadata": {},
   "outputs": [],
   "source": [
    "titles = titles.drop('Unnamed: 0', axis = 1)"
   ]
  },
  {
   "cell_type": "code",
   "execution_count": 19,
   "metadata": {},
   "outputs": [
    {
     "data": {
      "text/html": [
       "<div>\n",
       "<style scoped>\n",
       "    .dataframe tbody tr th:only-of-type {\n",
       "        vertical-align: middle;\n",
       "    }\n",
       "\n",
       "    .dataframe tbody tr th {\n",
       "        vertical-align: top;\n",
       "    }\n",
       "\n",
       "    .dataframe thead th {\n",
       "        text-align: right;\n",
       "    }\n",
       "</style>\n",
       "<table border=\"1\" class=\"dataframe\">\n",
       "  <thead>\n",
       "    <tr style=\"text-align: right;\">\n",
       "      <th></th>\n",
       "      <th>name</th>\n",
       "      <th>title_id</th>\n",
       "      <th>years</th>\n",
       "      <th>department_id</th>\n",
       "      <th>name_title</th>\n",
       "    </tr>\n",
       "    <tr>\n",
       "      <th>id</th>\n",
       "      <th></th>\n",
       "      <th></th>\n",
       "      <th></th>\n",
       "      <th></th>\n",
       "      <th></th>\n",
       "    </tr>\n",
       "  </thead>\n",
       "  <tbody>\n",
       "    <tr>\n",
       "      <th>2</th>\n",
       "      <td>clvis</td>\n",
       "      <td>1</td>\n",
       "      <td>15</td>\n",
       "      <td>2</td>\n",
       "      <td>Lead Engineer</td>\n",
       "    </tr>\n",
       "    <tr>\n",
       "      <th>6</th>\n",
       "      <td>sandy</td>\n",
       "      <td>2</td>\n",
       "      <td>5</td>\n",
       "      <td>7</td>\n",
       "      <td>NaN</td>\n",
       "    </tr>\n",
       "    <tr>\n",
       "      <th>7</th>\n",
       "      <td>christine</td>\n",
       "      <td>1</td>\n",
       "      <td>5</td>\n",
       "      <td>4</td>\n",
       "      <td>NaN</td>\n",
       "    </tr>\n",
       "    <tr>\n",
       "      <th>12</th>\n",
       "      <td>aaron</td>\n",
       "      <td>3</td>\n",
       "      <td>3</td>\n",
       "      <td>3</td>\n",
       "      <td>NaN</td>\n",
       "    </tr>\n",
       "  </tbody>\n",
       "</table>\n",
       "</div>"
      ],
      "text/plain": [
       "         name  title_id  years  department_id     name_title\n",
       "id                                                          \n",
       "2       clvis         1     15              2  Lead Engineer\n",
       "6       sandy         2      5              7            NaN\n",
       "7   christine         1      5              4            NaN\n",
       "12      aaron         3      3              3            NaN"
      ]
     },
     "execution_count": 19,
     "metadata": {},
     "output_type": "execute_result"
    }
   ],
   "source": [
    "employees.join(titles, rsuffix = '_title')"
   ]
  },
  {
   "cell_type": "code",
   "execution_count": 24,
   "metadata": {},
   "outputs": [],
   "source": [
    "empl_with_title = employees.join(titles, on = [ 'title_id'], rsuffix = '_title')"
   ]
  },
  {
   "cell_type": "code",
   "execution_count": 21,
   "metadata": {},
   "outputs": [],
   "source": [
    "departments = pd.read_csv('C:\\\\Users\\\\HP\\\\python\\\\department.csv')"
   ]
  },
  {
   "cell_type": "code",
   "execution_count": 22,
   "metadata": {},
   "outputs": [
    {
     "data": {
      "text/html": [
       "<div>\n",
       "<style scoped>\n",
       "    .dataframe tbody tr th:only-of-type {\n",
       "        vertical-align: middle;\n",
       "    }\n",
       "\n",
       "    .dataframe tbody tr th {\n",
       "        vertical-align: top;\n",
       "    }\n",
       "\n",
       "    .dataframe thead th {\n",
       "        text-align: right;\n",
       "    }\n",
       "</style>\n",
       "<table border=\"1\" class=\"dataframe\">\n",
       "  <thead>\n",
       "    <tr style=\"text-align: right;\">\n",
       "      <th></th>\n",
       "      <th>Unnamed: 0</th>\n",
       "      <th>name</th>\n",
       "    </tr>\n",
       "  </thead>\n",
       "  <tbody>\n",
       "    <tr>\n",
       "      <th>0</th>\n",
       "      <td>id</td>\n",
       "      <td>NaN</td>\n",
       "    </tr>\n",
       "    <tr>\n",
       "      <th>1</th>\n",
       "      <td>1</td>\n",
       "      <td>sales</td>\n",
       "    </tr>\n",
       "    <tr>\n",
       "      <th>2</th>\n",
       "      <td>2</td>\n",
       "      <td>product</td>\n",
       "    </tr>\n",
       "    <tr>\n",
       "      <th>3</th>\n",
       "      <td>3</td>\n",
       "      <td>technical support</td>\n",
       "    </tr>\n",
       "    <tr>\n",
       "      <th>4</th>\n",
       "      <td>4</td>\n",
       "      <td>human resources</td>\n",
       "    </tr>\n",
       "  </tbody>\n",
       "</table>\n",
       "</div>"
      ],
      "text/plain": [
       "  Unnamed: 0               name\n",
       "0         id                NaN\n",
       "1          1              sales\n",
       "2          2            product\n",
       "3          3  technical support\n",
       "4          4    human resources"
      ]
     },
     "execution_count": 22,
     "metadata": {},
     "output_type": "execute_result"
    }
   ],
   "source": [
    "departments"
   ]
  },
  {
   "cell_type": "code",
   "execution_count": 23,
   "metadata": {},
   "outputs": [],
   "source": [
    "departments = departments.drop('Unnamed: 0', axis = 1)"
   ]
  },
  {
   "cell_type": "code",
   "execution_count": 25,
   "metadata": {},
   "outputs": [
    {
     "data": {
      "text/html": [
       "<div>\n",
       "<style scoped>\n",
       "    .dataframe tbody tr th:only-of-type {\n",
       "        vertical-align: middle;\n",
       "    }\n",
       "\n",
       "    .dataframe tbody tr th {\n",
       "        vertical-align: top;\n",
       "    }\n",
       "\n",
       "    .dataframe thead th {\n",
       "        text-align: right;\n",
       "    }\n",
       "</style>\n",
       "<table border=\"1\" class=\"dataframe\">\n",
       "  <thead>\n",
       "    <tr style=\"text-align: right;\">\n",
       "      <th></th>\n",
       "      <th>name</th>\n",
       "      <th>title_id</th>\n",
       "      <th>years</th>\n",
       "      <th>department_id</th>\n",
       "      <th>name_title</th>\n",
       "      <th>name_dept</th>\n",
       "    </tr>\n",
       "    <tr>\n",
       "      <th>id</th>\n",
       "      <th></th>\n",
       "      <th></th>\n",
       "      <th></th>\n",
       "      <th></th>\n",
       "      <th></th>\n",
       "      <th></th>\n",
       "    </tr>\n",
       "  </thead>\n",
       "  <tbody>\n",
       "    <tr>\n",
       "      <th>2</th>\n",
       "      <td>clvis</td>\n",
       "      <td>1</td>\n",
       "      <td>15</td>\n",
       "      <td>2</td>\n",
       "      <td>President</td>\n",
       "      <td>product</td>\n",
       "    </tr>\n",
       "    <tr>\n",
       "      <th>6</th>\n",
       "      <td>sandy</td>\n",
       "      <td>2</td>\n",
       "      <td>5</td>\n",
       "      <td>7</td>\n",
       "      <td>Lead Engineer</td>\n",
       "      <td>NaN</td>\n",
       "    </tr>\n",
       "    <tr>\n",
       "      <th>7</th>\n",
       "      <td>christine</td>\n",
       "      <td>1</td>\n",
       "      <td>5</td>\n",
       "      <td>4</td>\n",
       "      <td>President</td>\n",
       "      <td>human resources</td>\n",
       "    </tr>\n",
       "    <tr>\n",
       "      <th>12</th>\n",
       "      <td>aaron</td>\n",
       "      <td>3</td>\n",
       "      <td>3</td>\n",
       "      <td>3</td>\n",
       "      <td>Intern</td>\n",
       "      <td>technical support</td>\n",
       "    </tr>\n",
       "  </tbody>\n",
       "</table>\n",
       "</div>"
      ],
      "text/plain": [
       "         name  title_id  years  department_id     name_title  \\\n",
       "id                                                             \n",
       "2       clvis         1     15              2      President   \n",
       "6       sandy         2      5              7  Lead Engineer   \n",
       "7   christine         1      5              4      President   \n",
       "12      aaron         3      3              3         Intern   \n",
       "\n",
       "            name_dept  \n",
       "id                     \n",
       "2             product  \n",
       "6                 NaN  \n",
       "7     human resources  \n",
       "12  technical support  "
      ]
     },
     "execution_count": 25,
     "metadata": {},
     "output_type": "execute_result"
    }
   ],
   "source": [
    "empl_with_title.join(departments, on = ['department_id'], rsuffix = '_dept')"
   ]
  },
  {
   "cell_type": "code",
   "execution_count": 26,
   "metadata": {},
   "outputs": [
    {
     "data": {
      "text/html": [
       "<div>\n",
       "<style scoped>\n",
       "    .dataframe tbody tr th:only-of-type {\n",
       "        vertical-align: middle;\n",
       "    }\n",
       "\n",
       "    .dataframe tbody tr th {\n",
       "        vertical-align: top;\n",
       "    }\n",
       "\n",
       "    .dataframe thead th {\n",
       "        text-align: right;\n",
       "    }\n",
       "</style>\n",
       "<table border=\"1\" class=\"dataframe\">\n",
       "  <thead>\n",
       "    <tr style=\"text-align: right;\">\n",
       "      <th></th>\n",
       "      <th>name</th>\n",
       "      <th>title_id</th>\n",
       "      <th>years</th>\n",
       "      <th>department_id</th>\n",
       "      <th>name_title</th>\n",
       "      <th>name_dept</th>\n",
       "    </tr>\n",
       "    <tr>\n",
       "      <th>id</th>\n",
       "      <th></th>\n",
       "      <th></th>\n",
       "      <th></th>\n",
       "      <th></th>\n",
       "      <th></th>\n",
       "      <th></th>\n",
       "    </tr>\n",
       "  </thead>\n",
       "  <tbody>\n",
       "    <tr>\n",
       "      <th>2</th>\n",
       "      <td>clvis</td>\n",
       "      <td>1</td>\n",
       "      <td>15</td>\n",
       "      <td>2</td>\n",
       "      <td>President</td>\n",
       "      <td>product</td>\n",
       "    </tr>\n",
       "    <tr>\n",
       "      <th>7</th>\n",
       "      <td>christine</td>\n",
       "      <td>1</td>\n",
       "      <td>5</td>\n",
       "      <td>4</td>\n",
       "      <td>President</td>\n",
       "      <td>human resources</td>\n",
       "    </tr>\n",
       "    <tr>\n",
       "      <th>12</th>\n",
       "      <td>aaron</td>\n",
       "      <td>3</td>\n",
       "      <td>3</td>\n",
       "      <td>3</td>\n",
       "      <td>Intern</td>\n",
       "      <td>technical support</td>\n",
       "    </tr>\n",
       "  </tbody>\n",
       "</table>\n",
       "</div>"
      ],
      "text/plain": [
       "         name  title_id  years  department_id name_title          name_dept\n",
       "id                                                                         \n",
       "2       clvis         1     15              2  President            product\n",
       "7   christine         1      5              4  President    human resources\n",
       "12      aaron         3      3              3     Intern  technical support"
      ]
     },
     "execution_count": 26,
     "metadata": {},
     "output_type": "execute_result"
    }
   ],
   "source": [
    "empl_with_title.join(departments, on = ['department_id'], how = 'inner', rsuffix = '_dept')"
   ]
  },
  {
   "cell_type": "code",
   "execution_count": 27,
   "metadata": {},
   "outputs": [
    {
     "data": {
      "text/html": [
       "<div>\n",
       "<style scoped>\n",
       "    .dataframe tbody tr th:only-of-type {\n",
       "        vertical-align: middle;\n",
       "    }\n",
       "\n",
       "    .dataframe tbody tr th {\n",
       "        vertical-align: top;\n",
       "    }\n",
       "\n",
       "    .dataframe thead th {\n",
       "        text-align: right;\n",
       "    }\n",
       "</style>\n",
       "<table border=\"1\" class=\"dataframe\">\n",
       "  <thead>\n",
       "    <tr style=\"text-align: right;\">\n",
       "      <th></th>\n",
       "      <th>name</th>\n",
       "      <th>title_id</th>\n",
       "      <th>years</th>\n",
       "      <th>department_id</th>\n",
       "      <th>name_title</th>\n",
       "      <th>name_dept</th>\n",
       "    </tr>\n",
       "  </thead>\n",
       "  <tbody>\n",
       "    <tr>\n",
       "      <th>NaN</th>\n",
       "      <td>NaN</td>\n",
       "      <td>NaN</td>\n",
       "      <td>NaN</td>\n",
       "      <td>0</td>\n",
       "      <td>NaN</td>\n",
       "      <td>NaN</td>\n",
       "    </tr>\n",
       "    <tr>\n",
       "      <th>NaN</th>\n",
       "      <td>NaN</td>\n",
       "      <td>NaN</td>\n",
       "      <td>NaN</td>\n",
       "      <td>1</td>\n",
       "      <td>NaN</td>\n",
       "      <td>sales</td>\n",
       "    </tr>\n",
       "    <tr>\n",
       "      <th>2.0</th>\n",
       "      <td>clvis</td>\n",
       "      <td>1.0</td>\n",
       "      <td>15.0</td>\n",
       "      <td>2</td>\n",
       "      <td>President</td>\n",
       "      <td>product</td>\n",
       "    </tr>\n",
       "    <tr>\n",
       "      <th>12.0</th>\n",
       "      <td>aaron</td>\n",
       "      <td>3.0</td>\n",
       "      <td>3.0</td>\n",
       "      <td>3</td>\n",
       "      <td>Intern</td>\n",
       "      <td>technical support</td>\n",
       "    </tr>\n",
       "    <tr>\n",
       "      <th>7.0</th>\n",
       "      <td>christine</td>\n",
       "      <td>1.0</td>\n",
       "      <td>5.0</td>\n",
       "      <td>4</td>\n",
       "      <td>President</td>\n",
       "      <td>human resources</td>\n",
       "    </tr>\n",
       "  </tbody>\n",
       "</table>\n",
       "</div>"
      ],
      "text/plain": [
       "           name  title_id  years  department_id name_title          name_dept\n",
       "NaN         NaN       NaN    NaN              0        NaN                NaN\n",
       "NaN         NaN       NaN    NaN              1        NaN              sales\n",
       "2.0       clvis       1.0   15.0              2  President            product\n",
       "12.0      aaron       3.0    3.0              3     Intern  technical support\n",
       "7.0   christine       1.0    5.0              4  President    human resources"
      ]
     },
     "execution_count": 27,
     "metadata": {},
     "output_type": "execute_result"
    }
   ],
   "source": [
    "empl_with_title.join(departments, on = ['department_id'], how = 'right', rsuffix = '_dept')"
   ]
  },
  {
   "cell_type": "code",
   "execution_count": null,
   "metadata": {},
   "outputs": [],
   "source": []
  }
 ],
 "metadata": {
  "kernelspec": {
   "display_name": "Python 3",
   "language": "python",
   "name": "python3"
  },
  "language_info": {
   "codemirror_mode": {
    "name": "ipython",
    "version": 3
   },
   "file_extension": ".py",
   "mimetype": "text/x-python",
   "name": "python",
   "nbconvert_exporter": "python",
   "pygments_lexer": "ipython3",
   "version": "3.7.0"
  }
 },
 "nbformat": 4,
 "nbformat_minor": 2
}
