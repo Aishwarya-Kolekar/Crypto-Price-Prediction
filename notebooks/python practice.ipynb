{
 "cells": [
  {
   "cell_type": "code",
   "execution_count": null,
   "metadata": {},
   "outputs": [],
   "source": [
    "alpha = 0.05"
   ]
  },
  {
   "cell_type": "code",
   "execution_count": 12,
   "metadata": {},
   "outputs": [
    {
     "name": "stdout",
     "output_type": "stream",
     "text": [
      "2\n",
      "3\n",
      "5\n",
      "1\n",
      "7\n"
     ]
    }
   ],
   "source": [
    "k = [2, 3, 5, 1, 7]\n",
    "\n",
    "for i in range(len(k)):\n",
    "    print(k[i])"
   ]
  },
  {
   "cell_type": "code",
   "execution_count": 13,
   "metadata": {},
   "outputs": [],
   "source": [
    "m = [ 5, 6, 7, 8, 9, 22]"
   ]
  },
  {
   "cell_type": "code",
   "execution_count": 14,
   "metadata": {},
   "outputs": [],
   "source": [
    "k[0] = m[2]"
   ]
  },
  {
   "cell_type": "code",
   "execution_count": 27,
   "metadata": {},
   "outputs": [
    {
     "data": {
      "text/plain": [
       "-0.25"
      ]
     },
     "execution_count": 27,
     "metadata": {},
     "output_type": "execute_result"
    }
   ],
   "source": [
    "0.05*(k[3]-m[1])"
   ]
  },
  {
   "cell_type": "code",
   "execution_count": null,
   "metadata": {},
   "outputs": [],
   "source": []
  },
  {
   "cell_type": "code",
   "execution_count": 1,
   "metadata": {},
   "outputs": [],
   "source": [
    "import numpy as np\n",
    "import pandas as pd"
   ]
  },
  {
   "cell_type": "code",
   "execution_count": 58,
   "metadata": {},
   "outputs": [
    {
     "name": "stdout",
     "output_type": "stream",
     "text": [
      "[33]\n",
      "34.05\n",
      "32.4475\n",
      "34.675125\n",
      "34.291368750000004\n",
      "36.7268003125\n",
      "[33, 34.05, 32.4475, 34.675125, 34.291368750000004, 36.7268003125]\n"
     ]
    }
   ],
   "source": [
    "\n",
    "yt = [33,54,2,77,27,83]\n",
    "ft = []\n",
    "\n",
    "\n",
    "def expo(yt, alpha=0.05):\n",
    "    for i in range(len(yt)):\n",
    "        if i == 0:\n",
    "            ft.append(yt[i])\n",
    "            print(ft)\n",
    "        else:\n",
    "            a = ft[i-1]+alpha*(yt[i]-ft[i-1])\n",
    "            print(a)\n",
    "            ft.append(a)\n",
    "    print(ft)\n",
    "\n",
    "expo(yt)"
   ]
  },
  {
   "cell_type": "code",
   "execution_count": 57,
   "metadata": {},
   "outputs": [
    {
     "name": "stdout",
     "output_type": "stream",
     "text": [
      "[33]\n",
      "34.05\n",
      "32.4475\n",
      "34.675125\n",
      "34.291368750000004\n",
      "36.7268003125\n",
      "[33, 34.05, 32.4475, 34.675125, 34.291368750000004, 36.7268003125]\n"
     ]
    }
   ],
   "source": [
    "\n",
    "\n"
   ]
  },
  {
   "cell_type": "code",
   "execution_count": 72,
   "metadata": {},
   "outputs": [],
   "source": [
    "ft.clear()"
   ]
  },
  {
   "cell_type": "code",
   "execution_count": 70,
   "metadata": {},
   "outputs": [],
   "source": [
    "def expo(yt, alpha=0.05):\n",
    "    i = 0\n",
    "    while i < len(yt):\n",
    "        if i == 0:\n",
    "            ft.append(yt[i])\n",
    "        else:\n",
    "            a = ft[i-1]+alpha*(yt[i]-ft[i-1])\n",
    "            ft.append(a)\n",
    "        i = i + 1\n",
    "    return ft\n",
    "    print(ft)\n"
   ]
  },
  {
   "cell_type": "code",
   "execution_count": 54,
   "metadata": {},
   "outputs": [
    {
     "name": "stdout",
     "output_type": "stream",
     "text": [
      "[33, 34.05, 32.4475, 34.675125, 34.291368750000004, 36.7268003125]\n"
     ]
    }
   ],
   "source": [
    "yt = [33,54,2,77,27,83]\n",
    "ft = []\n",
    "expo(yt)"
   ]
  },
  {
   "cell_type": "code",
   "execution_count": 23,
   "metadata": {},
   "outputs": [
    {
     "data": {
      "text/plain": [
       "[]"
      ]
     },
     "execution_count": 23,
     "metadata": {},
     "output_type": "execute_result"
    }
   ],
   "source": [
    "ft"
   ]
  },
  {
   "cell_type": "code",
   "execution_count": 73,
   "metadata": {},
   "outputs": [
    {
     "name": "stdout",
     "output_type": "stream",
     "text": [
      "[43, 43, 43, 43, 43]\n"
     ]
    },
    {
     "ename": "TypeError",
     "evalue": "unsupported operand type(s) for -: 'list' and 'list'",
     "output_type": "error",
     "traceback": [
      "\u001b[1;31m---------------------------------------------------------------------------\u001b[0m",
      "\u001b[1;31mTypeError\u001b[0m                                 Traceback (most recent call last)",
      "\u001b[1;32m<ipython-input-73-f9663217a4d3>\u001b[0m in \u001b[0;36m<module>\u001b[1;34m()\u001b[0m\n\u001b[0;32m      6\u001b[0m     \u001b[0mypred\u001b[0m \u001b[1;33m=\u001b[0m \u001b[0mexpo\u001b[0m\u001b[1;33m(\u001b[0m\u001b[0myt\u001b[0m\u001b[1;33m,\u001b[0m \u001b[0malpha\u001b[0m\u001b[1;33m[\u001b[0m\u001b[0mi\u001b[0m\u001b[1;33m]\u001b[0m\u001b[1;33m)\u001b[0m\u001b[1;33m\u001b[0m\u001b[0m\n\u001b[0;32m      7\u001b[0m     \u001b[0mprint\u001b[0m\u001b[1;33m(\u001b[0m\u001b[0mypred\u001b[0m\u001b[1;33m)\u001b[0m\u001b[1;33m\u001b[0m\u001b[0m\n\u001b[1;32m----> 8\u001b[1;33m     \u001b[0mmse\u001b[0m\u001b[1;33m.\u001b[0m\u001b[0mappend\u001b[0m\u001b[1;33m(\u001b[0m\u001b[1;33m(\u001b[0m\u001b[1;33m(\u001b[0m\u001b[0myt\u001b[0m\u001b[1;33m-\u001b[0m\u001b[0mypred\u001b[0m\u001b[1;33m)\u001b[0m\u001b[1;33m**\u001b[0m\u001b[1;36m2\u001b[0m\u001b[1;33m)\u001b[0m\u001b[1;33m)\u001b[0m\u001b[1;33m\u001b[0m\u001b[0m\n\u001b[0m\u001b[0;32m      9\u001b[0m \u001b[1;31m#     mse = mse.mean()\u001b[0m\u001b[1;33m\u001b[0m\u001b[1;33m\u001b[0m\u001b[0m\n",
      "\u001b[1;31mTypeError\u001b[0m: unsupported operand type(s) for -: 'list' and 'list'"
     ]
    }
   ],
   "source": [
    "mse = []\n",
    "yt = [43, 77, 72, 99, 30]\n",
    "alpha = [0, 0.99, 0.01]\n",
    "\n",
    "for i in range(len(alpha)):\n",
    "    ypred = expo(yt, alpha[i])\n",
    "    print(ypred)\n",
    "    mse.append(((yt-ypred)**2))\n",
    "#     mse = mse.mean()"
   ]
  },
  {
   "cell_type": "code",
   "execution_count": null,
   "metadata": {},
   "outputs": [],
   "source": [
    "d = pd.DataFrame(alpha, mse)\n",
    "d"
   ]
  },
  {
   "cell_type": "code",
   "execution_count": null,
   "metadata": {},
   "outputs": [],
   "source": []
  },
  {
   "cell_type": "code",
   "execution_count": null,
   "metadata": {},
   "outputs": [],
   "source": []
  },
  {
   "cell_type": "code",
   "execution_count": 2,
   "metadata": {
    "scrolled": false
   },
   "outputs": [
    {
     "name": "stdout",
     "output_type": "stream",
     "text": [
      "Collecting folium\n",
      "  Downloading folium-0.12.1.post1-py2.py3-none-any.whl (95 kB)\n",
      "     -------------------------------------- 95.0/95.0 kB 201.4 kB/s eta 0:00:00\n",
      "Requirement already satisfied: requests in c:\\users\\hp\\anaconda3\\lib\\site-packages (from folium) (2.27.1)\n",
      "Collecting branca>=0.3.0\n",
      "  Downloading branca-0.5.0-py3-none-any.whl (24 kB)\n",
      "Requirement already satisfied: numpy in c:\\users\\hp\\anaconda3\\lib\\site-packages (from folium) (1.21.6)\n",
      "Requirement already satisfied: jinja2>=2.9 in c:\\users\\hp\\anaconda3\\lib\\site-packages (from folium) (3.1.1)\n",
      "Requirement already satisfied: MarkupSafe>=2.0 in c:\\users\\hp\\anaconda3\\lib\\site-packages (from jinja2>=2.9->folium) (2.0.1)\n",
      "Requirement already satisfied: charset-normalizer~=2.0.0 in c:\\users\\hp\\anaconda3\\lib\\site-packages (from requests->folium) (2.0.12)\n",
      "Requirement already satisfied: certifi>=2017.4.17 in c:\\users\\hp\\anaconda3\\lib\\site-packages (from requests->folium) (2021.10.8)\n",
      "Requirement already satisfied: urllib3<1.27,>=1.21.1 in c:\\users\\hp\\anaconda3\\lib\\site-packages (from requests->folium) (1.26.8)\n",
      "Requirement already satisfied: idna<4,>=2.5 in c:\\users\\hp\\anaconda3\\lib\\site-packages (from requests->folium) (2.7)\n",
      "Installing collected packages: branca, folium\n",
      "Successfully installed branca-0.5.0 folium-0.12.1.post1\n"
     ]
    }
   ],
   "source": [
    "!pip install folium"
   ]
  },
  {
   "cell_type": "code",
   "execution_count": 3,
   "metadata": {},
   "outputs": [],
   "source": [
    "import folium"
   ]
  },
  {
   "cell_type": "code",
   "execution_count": 4,
   "metadata": {},
   "outputs": [
    {
     "data": {
      "text/html": [
       "<div style=\"width:100%;\"><div style=\"position:relative;width:100%;height:0;padding-bottom:60%;\"><span style=\"color:#565656\">Make this Notebook Trusted to load map: File -> Trust Notebook</span><iframe srcdoc=\"&lt;!DOCTYPE html&gt;\n",
       "&lt;head&gt;    \n",
       "    &lt;meta http-equiv=&quot;content-type&quot; content=&quot;text/html; charset=UTF-8&quot; /&gt;\n",
       "    \n",
       "        &lt;script&gt;\n",
       "            L_NO_TOUCH = false;\n",
       "            L_DISABLE_3D = false;\n",
       "        &lt;/script&gt;\n",
       "    \n",
       "    &lt;style&gt;html, body {width: 100%;height: 100%;margin: 0;padding: 0;}&lt;/style&gt;\n",
       "    &lt;style&gt;#map {position:absolute;top:0;bottom:0;right:0;left:0;}&lt;/style&gt;\n",
       "    &lt;script src=&quot;https://cdn.jsdelivr.net/npm/leaflet@1.6.0/dist/leaflet.js&quot;&gt;&lt;/script&gt;\n",
       "    &lt;script src=&quot;https://code.jquery.com/jquery-1.12.4.min.js&quot;&gt;&lt;/script&gt;\n",
       "    &lt;script src=&quot;https://maxcdn.bootstrapcdn.com/bootstrap/3.2.0/js/bootstrap.min.js&quot;&gt;&lt;/script&gt;\n",
       "    &lt;script src=&quot;https://cdnjs.cloudflare.com/ajax/libs/Leaflet.awesome-markers/2.0.2/leaflet.awesome-markers.js&quot;&gt;&lt;/script&gt;\n",
       "    &lt;link rel=&quot;stylesheet&quot; href=&quot;https://cdn.jsdelivr.net/npm/leaflet@1.6.0/dist/leaflet.css&quot;/&gt;\n",
       "    &lt;link rel=&quot;stylesheet&quot; href=&quot;https://maxcdn.bootstrapcdn.com/bootstrap/3.2.0/css/bootstrap.min.css&quot;/&gt;\n",
       "    &lt;link rel=&quot;stylesheet&quot; href=&quot;https://maxcdn.bootstrapcdn.com/bootstrap/3.2.0/css/bootstrap-theme.min.css&quot;/&gt;\n",
       "    &lt;link rel=&quot;stylesheet&quot; href=&quot;https://maxcdn.bootstrapcdn.com/font-awesome/4.6.3/css/font-awesome.min.css&quot;/&gt;\n",
       "    &lt;link rel=&quot;stylesheet&quot; href=&quot;https://cdnjs.cloudflare.com/ajax/libs/Leaflet.awesome-markers/2.0.2/leaflet.awesome-markers.css&quot;/&gt;\n",
       "    &lt;link rel=&quot;stylesheet&quot; href=&quot;https://cdn.jsdelivr.net/gh/python-visualization/folium/folium/templates/leaflet.awesome.rotate.min.css&quot;/&gt;\n",
       "    \n",
       "            &lt;meta name=&quot;viewport&quot; content=&quot;width=device-width,\n",
       "                initial-scale=1.0, maximum-scale=1.0, user-scalable=no&quot; /&gt;\n",
       "            &lt;style&gt;\n",
       "                #map_dc69182f49f58849ded0b4f8fb4eece7 {\n",
       "                    position: relative;\n",
       "                    width: 100.0%;\n",
       "                    height: 100.0%;\n",
       "                    left: 0.0%;\n",
       "                    top: 0.0%;\n",
       "                }\n",
       "            &lt;/style&gt;\n",
       "        \n",
       "&lt;/head&gt;\n",
       "&lt;body&gt;    \n",
       "    \n",
       "            &lt;div class=&quot;folium-map&quot; id=&quot;map_dc69182f49f58849ded0b4f8fb4eece7&quot; &gt;&lt;/div&gt;\n",
       "        \n",
       "&lt;/body&gt;\n",
       "&lt;script&gt;    \n",
       "    \n",
       "            var map_dc69182f49f58849ded0b4f8fb4eece7 = L.map(\n",
       "                &quot;map_dc69182f49f58849ded0b4f8fb4eece7&quot;,\n",
       "                {\n",
       "                    center: [0, 0],\n",
       "                    crs: L.CRS.EPSG3857,\n",
       "                    zoom: 1,\n",
       "                    zoomControl: true,\n",
       "                    preferCanvas: false,\n",
       "                }\n",
       "            );\n",
       "\n",
       "            \n",
       "\n",
       "        \n",
       "    \n",
       "            var tile_layer_eca2d303f150a5152e45c6509a500bed = L.tileLayer(\n",
       "                &quot;https://{s}.tile.openstreetmap.org/{z}/{x}/{y}.png&quot;,\n",
       "                {&quot;attribution&quot;: &quot;Data by \\u0026copy; \\u003ca href=\\&quot;http://openstreetmap.org\\&quot;\\u003eOpenStreetMap\\u003c/a\\u003e, under \\u003ca href=\\&quot;http://www.openstreetmap.org/copyright\\&quot;\\u003eODbL\\u003c/a\\u003e.&quot;, &quot;detectRetina&quot;: false, &quot;maxNativeZoom&quot;: 18, &quot;maxZoom&quot;: 18, &quot;minZoom&quot;: 0, &quot;noWrap&quot;: false, &quot;opacity&quot;: 1, &quot;subdomains&quot;: &quot;abc&quot;, &quot;tms&quot;: false}\n",
       "            ).addTo(map_dc69182f49f58849ded0b4f8fb4eece7);\n",
       "        \n",
       "&lt;/script&gt;\" style=\"position:absolute;width:100%;height:100%;left:0;top:0;border:none !important;\" allowfullscreen webkitallowfullscreen mozallowfullscreen></iframe></div></div>"
      ],
      "text/plain": [
       "<folium.folium.Map at 0x719c950>"
      ]
     },
     "execution_count": 4,
     "metadata": {},
     "output_type": "execute_result"
    }
   ],
   "source": [
    "folium.Map()"
   ]
  },
  {
   "cell_type": "markdown",
   "metadata": {},
   "source": [
    "Assesment 1"
   ]
  },
  {
   "cell_type": "code",
   "execution_count": null,
   "metadata": {},
   "outputs": [],
   "source": [
    "a = [1853600000, 24100000, 1059500000, 2512600000, 468500000]\n",
    "844900000"
   ]
  },
  {
   "cell_type": "code",
   "execution_count": 22,
   "metadata": {},
   "outputs": [
    {
     "data": {
      "text/plain": [
       "-893100000"
      ]
     },
     "execution_count": 22,
     "metadata": {},
     "output_type": "execute_result"
    }
   ],
   "source": [
    "c = 2512600000- 1059500000-24100000-468500000-1853600000\n",
    "c"
   ]
  },
  {
   "cell_type": "code",
   "execution_count": 14,
   "metadata": {},
   "outputs": [
    {
     "data": {
      "text/plain": [
       "5073400000"
      ]
     },
     "execution_count": 14,
     "metadata": {},
     "output_type": "execute_result"
    }
   ],
   "source": [
    "5918300000-844900000"
   ]
  },
  {
   "cell_type": "code",
   "execution_count": 7,
   "metadata": {},
   "outputs": [
    {
     "data": {
      "text/plain": [
       "33816"
      ]
     },
     "execution_count": 7,
     "metadata": {},
     "output_type": "execute_result"
    }
   ],
   "source": [
    "4685+10595+18536"
   ]
  },
  {
   "cell_type": "code",
   "execution_count": null,
   "metadata": {},
   "outputs": [],
   "source": [
    "stri = [2, 5, 63, 3, 12, 2]"
   ]
  },
  {
   "cell_type": "code",
   "execution_count": null,
   "metadata": {},
   "outputs": [],
   "source": [
    "stri[2:6:3]"
   ]
  },
  {
   "cell_type": "code",
   "execution_count": null,
   "metadata": {},
   "outputs": [],
   "source": [
    "statistics = True"
   ]
  },
  {
   "cell_type": "code",
   "execution_count": null,
   "metadata": {},
   "outputs": [],
   "source": [
    "Mathematics = False"
   ]
  },
  {
   "cell_type": "code",
   "execution_count": null,
   "metadata": {
    "scrolled": true
   },
   "outputs": [],
   "source": [
    "if statistics and Mathematics == True:\n",
    "    print(\"She have main subject as Statistics.\")\n",
    "else:\n",
    "    print(\"She have main subject as Mathematics.\")"
   ]
  },
  {
   "cell_type": "code",
   "execution_count": null,
   "metadata": {},
   "outputs": [],
   "source": [
    "this_month = 'October'"
   ]
  },
  {
   "cell_type": "code",
   "execution_count": null,
   "metadata": {},
   "outputs": [],
   "source": [
    "this_month"
   ]
  },
  {
   "cell_type": "code",
   "execution_count": null,
   "metadata": {},
   "outputs": [],
   "source": [
    "if this_month == 'January':\n",
    "    print(\"this is meera tai's birthday month\")\n",
    "elif this_month == 'February':\n",
    "    print(\"this is mama's birthday month\")\n",
    "elif this_month == 'March':\n",
    "    print(\"this is mummy's birthday month\")\n",
    "elif this_month == 'April':\n",
    "    print(\"this is not anyones bithday month\")\n",
    "elif this_month == 'May':\n",
    "    print(\"this is dada's birthday month\")\n",
    "elif this_month == 'June':\n",
    "    print(\"this is dadya's birthday month\")\n",
    "elif this_month == 'July':\n",
    "    print(\"this is saunvid's birthday month\")\n",
    "elif this_month == 'Augest':\n",
    "    print(\"this is kshitij's birthday month\")\n",
    "elif this_month == 'September':\n",
    "    print(\"this is Divya's birthday month\")\n",
    "elif this_month == 'October':\n",
    "    print(\"this is my birthday month\")\n",
    "elif this_month == 'September':\n",
    "    print(\"this is arjun's birthday month\")\n",
    "elif this_month == 'December':\n",
    "    print(\"this is last month of a year\")"
   ]
  },
  {
   "cell_type": "code",
   "execution_count": null,
   "metadata": {},
   "outputs": [],
   "source": [
    "this_month = 'July'"
   ]
  },
  {
   "cell_type": "code",
   "execution_count": null,
   "metadata": {},
   "outputs": [],
   "source": [
    "this_month"
   ]
  },
  {
   "cell_type": "code",
   "execution_count": null,
   "metadata": {},
   "outputs": [],
   "source": [
    "if this_month == 'January':\n",
    "    print(\"this is meera tai's birthday month\")\n",
    "elif this_month == 'February':\n",
    "    print(\"this is mama's birthday month\")\n",
    "elif this_month == 'March':\n",
    "    print(\"this is mummy's birthday month\")\n",
    "elif this_month == 'April':\n",
    "    print(\"this is not anyones bithday month\")\n",
    "elif this_month == 'May':\n",
    "    print(\"this is dada's birthday month\")\n",
    "elif this_month == 'June':\n",
    "    print(\"this is dadya's birthday month\")\n",
    "elif this_month == 'July':\n",
    "    print(\"this is saunvid's birthday month\")\n",
    "elif this_month == 'Augest':\n",
    "    print(\"this is kshitij's birthday month\")\n",
    "elif this_month == 'September':\n",
    "    print(\"this is Divya's birthday month\")\n",
    "elif this_month == 'October':\n",
    "    print(\"this is my birthday month\")\n",
    "elif this_month == 'September':\n",
    "    print(\"this is arjun's birthday month\")\n",
    "elif this_month == 'December':\n",
    "    print(\"this is last month of a year\")"
   ]
  },
  {
   "cell_type": "code",
   "execution_count": null,
   "metadata": {},
   "outputs": [],
   "source": [
    "this_month = 'Thursday'"
   ]
  },
  {
   "cell_type": "code",
   "execution_count": null,
   "metadata": {},
   "outputs": [],
   "source": [
    "this_month"
   ]
  },
  {
   "cell_type": "code",
   "execution_count": null,
   "metadata": {},
   "outputs": [],
   "source": [
    "if this_month == 'January':\n",
    "    print(\"this is meera tai's birthday month\")\n",
    "elif this_month == 'February':\n",
    "    print(\"this is mama's birthday month\")\n",
    "elif this_month == 'March':\n",
    "    print(\"this is mummy's birthday month\")\n",
    "elif this_month == 'April':\n",
    "    print(\"this is not anyones bithday month\")\n",
    "elif this_month == 'May':\n",
    "    print(\"this is dada's birthday month\")\n",
    "elif this_month == 'June':\n",
    "    print(\"this is dadya's birthday month\")\n",
    "elif this_month == 'July':\n",
    "    print(\"this is saunvid's birthday month\")\n",
    "elif this_month == 'Augest':\n",
    "    print(\"this is kshitij's birthday month\")\n",
    "elif this_month == 'September':\n",
    "    print(\"this is Divya's birthday month\")\n",
    "elif this_month == 'October':\n",
    "    print(\"this is my birthday month\")\n",
    "elif this_month == 'September':\n",
    "    print(\"this is arjun's birthday month\")\n",
    "elif this_month == 'December':\n",
    "    print(\"this is last month of a year\")\n",
    "else:\n",
    "    print(\"this is my birthday today.\")"
   ]
  },
  {
   "cell_type": "code",
   "execution_count": null,
   "metadata": {},
   "outputs": [],
   "source": [
    "this_month = 'April'"
   ]
  },
  {
   "cell_type": "code",
   "execution_count": null,
   "metadata": {},
   "outputs": [],
   "source": [
    "if this_month == 'January':\n",
    "    print(\"this is meera tai's birthday month\")\n",
    "elif this_month == 'February':\n",
    "    print(\"this is mama's birthday month\")\n",
    "elif this_month == 'March':\n",
    "    print(\"this is mummy's birthday month\")\n",
    "elif this_month == 'April':\n",
    "    print(\"this is not anyones bithday month\")\n",
    "elif this_month == 'May':\n",
    "    print(\"this is dada's birthday month\")\n",
    "elif this_month == 'June':\n",
    "    print(\"this is dadya's birthday month\")\n",
    "elif this_month == 'July':\n",
    "    print(\"this is saunvid's birthday month\")\n",
    "elif this_month == 'Augest':\n",
    "    print(\"this is kshitij's birthday month\")\n",
    "elif this_month == 'September':\n",
    "    print(\"this is Divya's birthday month\")\n",
    "elif this_month == 'October':\n",
    "    print(\"this is my birthday month\")\n",
    "elif this_month == 'November':\n",
    "    print(\"this is arjun's birthday month\")\n",
    "elif this_month == 'December':\n",
    "    print(\"this is last month of a year\")\n",
    "else:\n",
    "    print(\"this is my birthday today.\")"
   ]
  },
  {
   "cell_type": "code",
   "execution_count": null,
   "metadata": {},
   "outputs": [],
   "source": [
    "this_month = 'Augest'"
   ]
  },
  {
   "cell_type": "code",
   "execution_count": null,
   "metadata": {},
   "outputs": [],
   "source": [
    "if this_month == 'January':\n",
    "    print(\"this is meera tai's birthday month\")\n",
    "elif this_month == 'February':\n",
    "    print(\"this is mama's birthday month\")\n",
    "elif this_month == 'March':\n",
    "    print(\"this is mummy's birthday month\")\n",
    "elif this_month == 'April':\n",
    "    print(\"this is not anyones bithday month\")\n",
    "elif this_month == 'May':\n",
    "    print(\"this is dada's birthday month\")\n",
    "elif this_month == 'June':\n",
    "    print(\"this is dadya's birthday month\")\n",
    "elif this_month == 'July':\n",
    "    print(\"this is saunvid's birthday month\")\n",
    "elif this_month == 'Augest':\n",
    "    print(\"this is kshitij's birthday month\")\n",
    "elif this_month == 'September':\n",
    "    print(\"this is Divya's birthday month\")\n",
    "elif this_month == 'October':\n",
    "    print(\"this is my birthday month\")\n",
    "elif this_month == 'September':\n",
    "    print(\"this is arjun's birthday month\")\n",
    "elif this_month == 'December':\n",
    "    print(\"this is last month of a year\")\n",
    "else:\n",
    "    print(\"this is my birthday today.\")"
   ]
  },
  {
   "cell_type": "code",
   "execution_count": null,
   "metadata": {},
   "outputs": [],
   "source": [
    "# It's a list of months of year\n",
    "this_month = 'March'"
   ]
  },
  {
   "cell_type": "code",
   "execution_count": null,
   "metadata": {},
   "outputs": [],
   "source": [
    "if this_month == 'January':\n",
    "    print(\"this is meera tai's birthday month\")\n",
    "elif this_month == 'February':\n",
    "    print(\"this is mama's birthday month\")\n",
    "elif this_month == 'March':\n",
    "    print(\"this is mummy's birthday month\")\n",
    "elif this_month == 'April':\n",
    "    print(\"this is not anyones bithday month\")\n",
    "elif this_month == 'May':\n",
    "    print(\"this is dada's birthday month\")\n",
    "elif this_month == 'June':\n",
    "    print(\"this is dadya's birthday month\")\n",
    "elif this_month == 'July':\n",
    "    print(\"this is saunvid's birthday month\")\n",
    "elif this_month == 'Augest':\n",
    "    print(\"this is kshitij's birthday month\")\n",
    "elif this_month == 'September':\n",
    "    print(\"this is Divya's birthday month\")\n",
    "elif this_month == 'October':\n",
    "    print(\"this is my birthday month\")\n",
    "elif this_month == 'September':\n",
    "    print(\"this is arjun's birthday month\")\n",
    "elif this_month == 'December':\n",
    "    print(\"this is last month of a year\")\n",
    "else:\n",
    "    print(\"this is my birthday today.\")"
   ]
  },
  {
   "cell_type": "code",
   "execution_count": null,
   "metadata": {},
   "outputs": [],
   "source": [
    "singing = [\"^\" , \"^\", \"^\", \"^\", \"^\", \"^\", \"^\", \"^\", \"^\", \"^\"]\n",
    "\n",
    "while len(singing) <= 10:\n",
    "    print(singing)\n",
    "    singing = singing[:-1]\n",
    "    break"
   ]
  },
  {
   "cell_type": "code",
   "execution_count": null,
   "metadata": {},
   "outputs": [],
   "source": [
    "line = \"*\"\n",
    "max_value = 8\n",
    "min_value = 1\n",
    "\n",
    "if len(line) == 1:\n",
    "    print(line)\n",
    "    line = line + \"*\"\n",
    "elif len(line) == 2:\n",
    "    print(line + \"*\")\n",
    "    line = line + \"*\"\n",
    "elif len(line) == 3:\n",
    "    print(line + \"**\")\n",
    "    line = line + \"*\"\n",
    "elif len(line) == 4:\n",
    "    print(line + \"***\")\n",
    "    line = line + \"*\"\n",
    "elif len(line) == 5:\n",
    "    print(lien + \"****\")\n",
    "    line = line + \"*\"\n",
    "elif len(line) == 6:\n",
    "    print(line + \"*****\")\n",
    "    line = line + \"*\"\n",
    "elif len(line) == 7:\n",
    "    print(line + \"******\")\n",
    "    line = line + \"*\"\n",
    "elif len(line) == 8:\n",
    "    print(line + \"*******\")\n",
    "\n",
    "    "
   ]
  },
  {
   "cell_type": "code",
   "execution_count": null,
   "metadata": {
    "scrolled": true
   },
   "outputs": [],
   "source": [
    "persons = [{ 'name': 'aish', 'age' : 21}, { 'name' : 'gouri', 'age' : 20}]\n",
    "for person in persons:\n",
    "    for key in person:\n",
    "        print(key, \":\", person[key])\n",
    "        print(\" \")"
   ]
  },
  {
   "cell_type": "code",
   "execution_count": null,
   "metadata": {},
   "outputs": [],
   "source": [
    "days = ['monday', 'tuesday', 'wednesday']\n",
    "fruits = ['apple', 'banana', 'guava']\n",
    "\n",
    "for day in days:\n",
    "    for fruit in fruits:\n",
    "        print(day, fruit)"
   ]
  },
  {
   "cell_type": "code",
   "execution_count": null,
   "metadata": {},
   "outputs": [],
   "source": [
    "samples = [1, 2, 3, 4, 5, 6, 7, 8]"
   ]
  },
  {
   "cell_type": "code",
   "execution_count": null,
   "metadata": {},
   "outputs": [],
   "source": [
    "samples"
   ]
  },
  {
   "cell_type": "code",
   "execution_count": null,
   "metadata": {},
   "outputs": [],
   "source": [
    "samples\n",
    "\n",
    "for sample in samples:\n",
    "    if sample % 2 == 0:\n",
    "        print('{} is even number'.format(sample))\n",
    "        \n",
    "    else:\n",
    "        print('{} is odd number'.format(sample))"
   ]
  },
  {
   "cell_type": "code",
   "execution_count": null,
   "metadata": {},
   "outputs": [],
   "source": [
    "good = [1, 50, 2]"
   ]
  },
  {
   "cell_type": "code",
   "execution_count": null,
   "metadata": {},
   "outputs": [],
   "source": [
    "range"
   ]
  },
  {
   "cell_type": "code",
   "execution_count": null,
   "metadata": {},
   "outputs": [],
   "source": [
    "good"
   ]
  },
  {
   "cell_type": "code",
   "execution_count": null,
   "metadata": {},
   "outputs": [],
   "source": [
    "liar = [4, 5, 6, 7, 8, 9, 10, 11, 12, 13, 14, 15]"
   ]
  },
  {
   "cell_type": "code",
   "execution_count": null,
   "metadata": {},
   "outputs": [],
   "source": [
    "range = (2, 55, 2)"
   ]
  },
  {
   "cell_type": "markdown",
   "metadata": {},
   "source": [
    "range"
   ]
  },
  {
   "cell_type": "code",
   "execution_count": null,
   "metadata": {},
   "outputs": [],
   "source": [
    "range"
   ]
  },
  {
   "cell_type": "code",
   "execution_count": null,
   "metadata": {},
   "outputs": [],
   "source": [
    "god = range{2, 33, 5}"
   ]
  },
  {
   "cell_type": "code",
   "execution_count": null,
   "metadata": {},
   "outputs": [],
   "source": [
    "liar\n",
    "for i in liar:\n",
    "    if i % 2 != 0:\n",
    "        print('{} is a odd number'.format(i))"
   ]
  },
  {
   "cell_type": "code",
   "execution_count": null,
   "metadata": {},
   "outputs": [],
   "source": [
    "fruits = {\"apple\", \"banana\", \"cherry\"}\n",
    "more_fruits = [\"orange\", \"mango\", \"grapes\"]"
   ]
  },
  {
   "cell_type": "code",
   "execution_count": null,
   "metadata": {},
   "outputs": [],
   "source": [
    "fruits.update(more_fruits)"
   ]
  },
  {
   "cell_type": "code",
   "execution_count": null,
   "metadata": {},
   "outputs": [],
   "source": [
    "fruits"
   ]
  },
  {
   "cell_type": "code",
   "execution_count": null,
   "metadata": {},
   "outputs": [],
   "source": [
    "\n",
    "for x in range(6):\n",
    "    print(x)"
   ]
  },
  {
   "cell_type": "code",
   "execution_count": null,
   "metadata": {},
   "outputs": [],
   "source": [
    "def mine(x):\n",
    "    print('this is mine' (x))"
   ]
  },
  {
   "cell_type": "code",
   "execution_count": null,
   "metadata": {},
   "outputs": [],
   "source": [
    "mine(x)"
   ]
  },
  {
   "cell_type": "code",
   "execution_count": null,
   "metadata": {},
   "outputs": [],
   "source": [
    "label = '*'\n",
    "i = 1\n",
    "\n",
    "while len(label) <= 5:\n",
    "            print(label)\n",
    "            label = label + '*'\n",
    "        \n",
    "while len(label) >= 0:\n",
    "            print(label)\n",
    "            label = label[:-1]"
   ]
  },
  {
   "cell_type": "code",
   "execution_count": null,
   "metadata": {},
   "outputs": [],
   "source": [
    "numbers = [951, 402, 984, 651, 360, 69, 408, 319, 601, 485, 980, 507, 725, 547, 544, 615, 83, 165, 141, 501, 263, 617, 865, 575, 219, 390, 984, 592, 236, 105, 942, 941, 386, 462, 47, 418, 907, 344, 236, 375, 823, 566, 597, 978, 328, 615, 953, 345, 399, 162, 758, 219, 918, 237, 412, 566, 826, 248, 866, 950, 626, 949, 687, 217, 815, 67, 104, 58, 512, 24, 892, 894, 767, 553, 81, 379, 843, 831, 445, 742, 717, 958, 609, 842, 451, 688, 753, 854, 685, 93, 857, 440, 380, 126, 721, 328, 753, 470, 743, 527]"
   ]
  },
  {
   "cell_type": "code",
   "execution_count": null,
   "metadata": {},
   "outputs": [],
   "source": [
    "for x in numbers:\n",
    "    if x % 2 == 0:\n",
    "        print('{} is a even number'.format(x))\n",
    "        \n",
    "    elif x == 237:\n",
    "        break"
   ]
  },
  {
   "cell_type": "code",
   "execution_count": null,
   "metadata": {},
   "outputs": [],
   "source": []
  },
  {
   "cell_type": "code",
   "execution_count": null,
   "metadata": {},
   "outputs": [],
   "source": [
    "def Trip_cost(Hotel_rent, Car_rent, Flight_ticket):  \n",
    "    Hotel_price = Hotel_rent*7\n",
    "    print('least_amount =',  Hotel_price + Car_rent + Flight_ticket)"
   ]
  },
  {
   "cell_type": "code",
   "execution_count": null,
   "metadata": {},
   "outputs": [],
   "source": [
    "Trip_cost(20, 200, 200)"
   ]
  },
  {
   "cell_type": "code",
   "execution_count": null,
   "metadata": {},
   "outputs": [],
   "source": [
    "Trip_cost(30, 120, 250)"
   ]
  },
  {
   "cell_type": "code",
   "execution_count": null,
   "metadata": {},
   "outputs": [],
   "source": [
    "Trip_cost(15, 80, 370)"
   ]
  },
  {
   "cell_type": "code",
   "execution_count": null,
   "metadata": {},
   "outputs": [],
   "source": [
    "Trip_cost(10, 70, 450)"
   ]
  },
  {
   "cell_type": "code",
   "execution_count": null,
   "metadata": {},
   "outputs": [],
   "source": [
    "#If the duration of trip is changed from 1 week to 4 days\n",
    "def Trip_cost_of_4_days(Hotel_rent, Car_rent, Flight_ticket):  \n",
    "    Hotel_price = Hotel_rent*4\n",
    "    print('least_amount =',  Hotel_price + Car_rent + Flight_ticket)"
   ]
  },
  {
   "cell_type": "code",
   "execution_count": null,
   "metadata": {},
   "outputs": [],
   "source": [
    "Trip_cost_of_4_days(20, 200, 200)"
   ]
  },
  {
   "cell_type": "code",
   "execution_count": null,
   "metadata": {},
   "outputs": [],
   "source": [
    "Trip_cost_of_4_days(30, 120, 250)"
   ]
  },
  {
   "cell_type": "code",
   "execution_count": null,
   "metadata": {},
   "outputs": [],
   "source": [
    "Trip_cost_of_4_days(15, 80, 370)"
   ]
  },
  {
   "cell_type": "code",
   "execution_count": null,
   "metadata": {},
   "outputs": [],
   "source": [
    "Trip_cost_of_4_days(10, 70, 450)"
   ]
  },
  {
   "cell_type": "code",
   "execution_count": null,
   "metadata": {},
   "outputs": [],
   "source": [
    "#If the duration of trip is changed from 4 days to 10 days\n",
    "def Trip_cost_of_10_days(Hotel_rent, Car_rent, Flight_ticket):  \n",
    "    Hotel_price = Hotel_rent*10\n",
    "    Car_price = Car_rent*2\n",
    "    print('least_amount =',  Hotel_price + Car_price + Flight_ticket)"
   ]
  },
  {
   "cell_type": "code",
   "execution_count": null,
   "metadata": {},
   "outputs": [],
   "source": [
    "Trip_cost_of_10_days(20, 200, 200)"
   ]
  },
  {
   "cell_type": "code",
   "execution_count": null,
   "metadata": {},
   "outputs": [],
   "source": [
    "Trip_cost_of_10_days(30, 120, 250)"
   ]
  },
  {
   "cell_type": "code",
   "execution_count": null,
   "metadata": {},
   "outputs": [],
   "source": [
    "Trip_cost_of_10_days(15, 80, 370)"
   ]
  },
  {
   "cell_type": "code",
   "execution_count": null,
   "metadata": {},
   "outputs": [],
   "source": [
    "Trip_cost_of_10_days(10, 70, 450)"
   ]
  },
  {
   "cell_type": "code",
   "execution_count": null,
   "metadata": {},
   "outputs": [],
   "source": [
    "#If the duration of trip is changed from 10 days to 2 weeks\n",
    "def Trip_cost_of_2_weeks(Hotel_rent, Car_rent, Flight_ticket):  \n",
    "    Hotel_price = Hotel_rent*14\n",
    "    Car_price = Car_rent*2\n",
    "    print('least_amount =',  Hotel_price + Car_price + Flight_ticket)"
   ]
  },
  {
   "cell_type": "code",
   "execution_count": null,
   "metadata": {},
   "outputs": [],
   "source": [
    "Trip_cost_of_2_weeks(20, 200, 200)"
   ]
  },
  {
   "cell_type": "code",
   "execution_count": null,
   "metadata": {},
   "outputs": [],
   "source": [
    "Trip_cost_of_2_weeks(30, 120, 250)"
   ]
  },
  {
   "cell_type": "code",
   "execution_count": null,
   "metadata": {},
   "outputs": [],
   "source": [
    "Trip_cost_of_2_weeks(15, 80, 370)"
   ]
  },
  {
   "cell_type": "code",
   "execution_count": null,
   "metadata": {},
   "outputs": [],
   "source": [
    "Trip_cost_of_2_weeks(10, 70, 450)"
   ]
  },
  {
   "cell_type": "code",
   "execution_count": null,
   "metadata": {},
   "outputs": [],
   "source": [
    "given = ['numbers', 'list', 'products', 'tools']\n",
    "for i in given:\n",
    "    if i == 'numbers':\n",
    "        print('perform multiplication on the given numbers')\n",
    "             \n",
    "    else:\n",
    "        print('nothing gonna do with the given data.')\n",
    "      \n",
    "    if i == 'numbers':\n",
    "                break"
   ]
  },
  {
   "cell_type": "code",
   "execution_count": 9,
   "metadata": {},
   "outputs": [],
   "source": [
    "class analysedText(object) :\n",
    "    \n",
    "    def __init__(self,words):\n",
    "        process = words.replace(',', ' ').replace('!', ' ').replace('?', ' ').replace('.', ' ')\n",
    "        process = process.lower()\n",
    "        self.fmtText = process\n",
    "        \n",
    "    def freqAll(self):\n",
    "        wordlist = self.fmtText.split(' ')\n",
    "        \n",
    "        freqMap = {}\n",
    "        for word in set(wordlist):\n",
    "            freqMap[word] = wordlist.count(word)\n",
    "            return freqMap\n",
    "        \n",
    "    def freqOf(self, word):\n",
    "        freqDict = self.freqAll()\n",
    "        if word in freqDict:\n",
    "            return freqDict[word]\n",
    "        else:\n",
    "            return 0"
   ]
  },
  {
   "cell_type": "code",
   "execution_count": 11,
   "metadata": {},
   "outputs": [],
   "source": [
    "s = 'Wow what the amazing day it is. NOw we should all go out. For the picnic!'"
   ]
  },
  {
   "cell_type": "code",
   "execution_count": 12,
   "metadata": {},
   "outputs": [
    {
     "data": {
      "text/plain": [
       "['Wow',\n",
       " 'what',\n",
       " 'th4e',\n",
       " 'amazing',\n",
       " 'day',\n",
       " 'it',\n",
       " 'is.',\n",
       " 'NOw',\n",
       " 'we',\n",
       " 'should',\n",
       " 'all',\n",
       " 'go',\n",
       " 'out.',\n",
       " 'For',\n",
       " 'the',\n",
       " 'picnic!']"
      ]
     },
     "execution_count": 12,
     "metadata": {},
     "output_type": "execute_result"
    }
   ],
   "source": [
    "s.split(' ')"
   ]
  },
  {
   "cell_type": "code",
   "execution_count": 21,
   "metadata": {},
   "outputs": [],
   "source": [
    "import pandas as pd\n",
    "import numpy as np"
   ]
  },
  {
   "cell_type": "code",
   "execution_count": 26,
   "metadata": {},
   "outputs": [
    {
     "name": "stdout",
     "output_type": "stream",
     "text": [
      "color,height,type,class\n",
      "\n",
      "Grey,10,herbivores,elephant\n",
      "\n",
      "['Yellow,10,herbivores,giraffe\\n']\n"
     ]
    }
   ],
   "source": [
    "f1 = open(\"C:\\\\Users\\\\HP\\\\python\\\\DecisionTree\\\\animal.csv\", 'r')\n",
    "print(f1.readline())\n",
    "print(f1.readline())\n",
    "print(f1.readlines(20))\n",
    "f1.close()"
   ]
  },
  {
   "cell_type": "code",
   "execution_count": 27,
   "metadata": {},
   "outputs": [
    {
     "data": {
      "text/plain": [
       "<function TextIOWrapper.close()>"
      ]
     },
     "execution_count": 27,
     "metadata": {},
     "output_type": "execute_result"
    }
   ],
   "source": [
    "f1.close"
   ]
  },
  {
   "cell_type": "code",
   "execution_count": 28,
   "metadata": {},
   "outputs": [
    {
     "data": {
      "text/plain": [
       "'C:\\\\Users\\\\HP\\\\python\\\\DecisionTree\\\\animal.csv'"
      ]
     },
     "execution_count": 28,
     "metadata": {},
     "output_type": "execute_result"
    }
   ],
   "source": [
    "f1.name"
   ]
  },
  {
   "cell_type": "code",
   "execution_count": 29,
   "metadata": {},
   "outputs": [
    {
     "data": {
      "text/plain": [
       "'r'"
      ]
     },
     "execution_count": 29,
     "metadata": {},
     "output_type": "execute_result"
    }
   ],
   "source": [
    "f1.mode"
   ]
  },
  {
   "cell_type": "code",
   "execution_count": 2,
   "metadata": {},
   "outputs": [],
   "source": [
    "with open('C:\\\\Users\\\\HP\\\\python\\\\DecisionTree\\\\names.txt', 'w') as f3:\n",
    "    f3.write('This is my first file using python!\\n')\n",
    "    f3.write('\\tHello!..My name is Aish\\n')\n",
    "    f3.write('\\t\\tWe will meet later')"
   ]
  },
  {
   "cell_type": "code",
   "execution_count": 3,
   "metadata": {},
   "outputs": [
    {
     "name": "stdout",
     "output_type": "stream",
     "text": [
      "This is my first file using python!\n",
      "\tHello!..My name is Aish\n",
      "\t\tWe will meet later\n"
     ]
    }
   ],
   "source": [
    "with open('C:\\\\Users\\\\HP\\\\python\\\\DecisionTree\\\\names.txt', 'r') as f2:\n",
    "    print(f2.read())"
   ]
  },
  {
   "cell_type": "code",
   "execution_count": 4,
   "metadata": {},
   "outputs": [],
   "source": [
    "Lines = [\"This is line A\\n\", \"This is line B\\n\", \"This is line C\\n\"]"
   ]
  },
  {
   "cell_type": "code",
   "execution_count": 6,
   "metadata": {},
   "outputs": [
    {
     "name": "stdout",
     "output_type": "stream",
     "text": [
      "This is line A\n",
      "\n",
      "This is line B\n",
      "\n",
      "This is line C\n",
      "\n"
     ]
    }
   ],
   "source": [
    "with open('C:\\\\Users\\\\HP\\\\python\\\\DecisionTree\\\\names.txt', 'w') as f2:\n",
    "    for line in Lines:\n",
    "        print(line)\n",
    "        f2.write(line)"
   ]
  },
  {
   "cell_type": "code",
   "execution_count": 18,
   "metadata": {},
   "outputs": [],
   "source": [
    "with open('C:\\\\Users\\\\HP\\\\python\\\\DecisionTree\\\\names.txt', 'w') as f2:\n",
    "    f2.write('Hello world!\\n')"
   ]
  },
  {
   "cell_type": "code",
   "execution_count": 19,
   "metadata": {},
   "outputs": [
    {
     "name": "stdout",
     "output_type": "stream",
     "text": [
      "Hello world!\n",
      "\n"
     ]
    }
   ],
   "source": [
    "with open('C:\\\\Users\\\\HP\\\\python\\\\DecisionTree\\\\names.txt', 'r') as f2:\n",
    "    print(f2.read())"
   ]
  },
  {
   "cell_type": "code",
   "execution_count": 20,
   "metadata": {},
   "outputs": [],
   "source": [
    "with open('C:\\\\Users\\\\HP\\\\python\\\\DecisionTree\\\\names.txt', 'a') as f2:\n",
    "    f2.write('How are you doing?\\n')\n",
    "    f2.write('I hope you will be fine,\\nso now what')"
   ]
  },
  {
   "cell_type": "code",
   "execution_count": 21,
   "metadata": {},
   "outputs": [
    {
     "name": "stdout",
     "output_type": "stream",
     "text": [
      "Hello world!\n",
      "How are you doing?\n",
      "I hope you will be fine,\n",
      "so now what\n"
     ]
    }
   ],
   "source": [
    "with open('C:\\\\Users\\\\HP\\\\python\\\\DecisionTree\\\\names.txt', 'r') as f2:\n",
    "    print(f2.read())"
   ]
  },
  {
   "cell_type": "code",
   "execution_count": null,
   "metadata": {},
   "outputs": [],
   "source": []
  },
  {
   "cell_type": "code",
   "execution_count": null,
   "metadata": {},
   "outputs": [],
   "source": []
  },
  {
   "cell_type": "code",
   "execution_count": null,
   "metadata": {},
   "outputs": [],
   "source": []
  },
  {
   "cell_type": "code",
   "execution_count": null,
   "metadata": {},
   "outputs": [],
   "source": []
  },
  {
   "cell_type": "code",
   "execution_count": null,
   "metadata": {},
   "outputs": [],
   "source": []
  },
  {
   "cell_type": "code",
   "execution_count": null,
   "metadata": {},
   "outputs": [],
   "source": []
  },
  {
   "cell_type": "code",
   "execution_count": 69,
   "metadata": {},
   "outputs": [
    {
     "name": "stdout",
     "output_type": "stream",
     "text": [
      "\f",
      "\n"
     ]
    }
   ],
   "source": [
    "clear(f3)"
   ]
  },
  {
   "cell_type": "code",
   "execution_count": 67,
   "metadata": {},
   "outputs": [
    {
     "ename": "NameError",
     "evalue": "name 'f3' is not defined",
     "output_type": "error",
     "traceback": [
      "\u001b[1;31m---------------------------------------------------------------------------\u001b[0m",
      "\u001b[1;31mNameError\u001b[0m                                 Traceback (most recent call last)",
      "\u001b[1;32m<ipython-input-67-0fafd6ed5c80>\u001b[0m in \u001b[0;36m<module>\u001b[1;34m()\u001b[0m\n\u001b[1;32m----> 1\u001b[1;33m \u001b[0mf3\u001b[0m\u001b[1;33m.\u001b[0m\u001b[0mclose\u001b[0m\u001b[1;33m\u001b[0m\u001b[0m\n\u001b[0m",
      "\u001b[1;31mNameError\u001b[0m: name 'f3' is not defined"
     ]
    }
   ],
   "source": [
    "f3.close"
   ]
  },
  {
   "cell_type": "code",
   "execution_count": 65,
   "metadata": {},
   "outputs": [
    {
     "name": "stdout",
     "output_type": "stream",
     "text": [
      "['Name,Age,Vada Pav,Misal,Pohe,Maharashtrian\\n', 'Adnaik Sushant,21,0,1,1,1\\n', 'Gorule Hemant,22,1,1,0,1\\n', 'Gunde Swagati,28,1,1,0,1\\n', 'Kadate Prakash,25,0,0,1,0\\n', 'Kesarkar Aashish,30,1,1,1,1\\n', 'Kokitkar Komal,32,1,0,0,1\\n', 'Kolekar Aishwarya,27,1,1,0,1\\n', 'Mane Dipak,24,1,1,0,1\\n', 'Mohite Gouri,23,1,1,0,0\\n', 'Mulani Aalisha,33,1,0,1,0\\n', 'Patil Rutuja,40,1,0,0,1\\n', 'Sadale Abhishek,25,1,1,1,0\\n', 'Suryawanshi Shubham,20,0,1,0,1\\n', 'Suryawanshi Divya,23,1,0,0,1\\n', 'Kumbhar Shubham,35,0,0,1,0\\n']\n"
     ]
    }
   ],
   "source": [
    "with open('C:\\\\Users\\\\HP\\\\python\\\\DecisionTree\\\\maharashtrian.csv') as f4:\n",
    "    print(f4.readlines(420))"
   ]
  },
  {
   "cell_type": "code",
   "execution_count": 60,
   "metadata": {},
   "outputs": [
    {
     "data": {
      "text/plain": [
       "<function TextIOWrapper.close()>"
      ]
     },
     "execution_count": 60,
     "metadata": {},
     "output_type": "execute_result"
    }
   ],
   "source": [
    "f4.close"
   ]
  },
  {
   "cell_type": "code",
   "execution_count": 73,
   "metadata": {},
   "outputs": [
    {
     "data": {
      "text/plain": [
       "array([[0., 0.],\n",
       "       [0., 0.]])"
      ]
     },
     "execution_count": 73,
     "metadata": {},
     "output_type": "execute_result"
    }
   ],
   "source": [
    "np.zeros((2,2))"
   ]
  },
  {
   "cell_type": "code",
   "execution_count": 74,
   "metadata": {},
   "outputs": [
    {
     "data": {
      "text/plain": [
       "array([37, 56, 14,  7, 12, 25, 82, 96])"
      ]
     },
     "execution_count": 74,
     "metadata": {},
     "output_type": "execute_result"
    }
   ],
   "source": [
    "np.random.randint(5, 100, 8)"
   ]
  },
  {
   "cell_type": "code",
   "execution_count": 75,
   "metadata": {},
   "outputs": [
    {
     "ename": "AttributeError",
     "evalue": "module 'numpy.random' has no attribute 'randfloat'",
     "output_type": "error",
     "traceback": [
      "\u001b[1;31m---------------------------------------------------------------------------\u001b[0m",
      "\u001b[1;31mAttributeError\u001b[0m                            Traceback (most recent call last)",
      "\u001b[1;32m<ipython-input-75-58da91465e49>\u001b[0m in \u001b[0;36m<module>\u001b[1;34m()\u001b[0m\n\u001b[1;32m----> 1\u001b[1;33m \u001b[0mnp\u001b[0m\u001b[1;33m.\u001b[0m\u001b[0mrandom\u001b[0m\u001b[1;33m.\u001b[0m\u001b[0mrandfloat\u001b[0m\u001b[1;33m(\u001b[0m\u001b[1;36m4\u001b[0m\u001b[1;33m,\u001b[0m \u001b[1;36m10\u001b[0m\u001b[1;33m,\u001b[0m \u001b[1;36m3\u001b[0m\u001b[1;33m)\u001b[0m\u001b[1;33m\u001b[0m\u001b[0m\n\u001b[0m",
      "\u001b[1;31mAttributeError\u001b[0m: module 'numpy.random' has no attribute 'randfloat'"
     ]
    }
   ],
   "source": [
    "np.random.randfloat(4, 10, 3)"
   ]
  },
  {
   "cell_type": "code",
   "execution_count": 13,
   "metadata": {},
   "outputs": [
    {
     "name": "stdout",
     "output_type": "stream",
     "text": [
      "1\n",
      "4\n",
      "9\n",
      "16\n",
      "25\n",
      "36\n",
      "49\n",
      "64\n",
      "81\n",
      "100\n"
     ]
    },
    {
     "data": {
      "image/png": "[encoded data removed]",
      "text/plain": [
       "<Figure size 432x288 with 1 Axes>"
      ]
     },
     "metadata": {
      "needs_background": "light"
     },
     "output_type": "display_data"
    }
   ],
   "source": [
    "import matplotlib.pyplot as plt\n",
    "\n",
    "\n",
    "y = [1,2,3,4,5,6,7,8,9,10]\n",
    "\n",
    "for i in y:\n",
    "    x = i**2\n",
    "    print(x)\n",
    "    plt.bar(x,y)"
   ]
  },
  {
   "cell_type": "code",
   "execution_count": null,
   "metadata": {},
   "outputs": [],
   "source": []
  }
 ],
 "metadata": {
  "kernelspec": {
   "display_name": "Python 3",
   "language": "python",
   "name": "python3"
  },
  "language_info": {
   "codemirror_mode": {
    "name": "ipython",
    "version": 3
   },
   "file_extension": ".py",
   "mimetype": "text/x-python",
   "name": "python",
   "nbconvert_exporter": "python",
   "pygments_lexer": "ipython3",
   "version": "3.7.0"
  }
 },
 "nbformat": 4,
 "nbformat_minor": 2
}
