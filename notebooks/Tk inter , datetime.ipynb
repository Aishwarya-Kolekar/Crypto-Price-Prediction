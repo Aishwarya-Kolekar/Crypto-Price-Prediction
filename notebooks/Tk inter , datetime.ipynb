{
 "cells": [
  {
   "cell_type": "code",
   "execution_count": 1,
   "metadata": {},
   "outputs": [],
   "source": [
    "from tkinter import *"
   ]
  },
  {
   "cell_type": "markdown",
   "metadata": {},
   "source": [
    "## Tkinter"
   ]
  },
  {
   "cell_type": "code",
   "execution_count": 2,
   "metadata": {},
   "outputs": [],
   "source": [
    "top = Tk()\n",
    "top.mainloop()"
   ]
  },
  {
   "cell_type": "markdown",
   "metadata": {},
   "source": [
    "### Tkinter pack() method"
   ]
  },
  {
   "cell_type": "code",
   "execution_count": null,
   "metadata": {},
   "outputs": [],
   "source": [
    "from tkinter import *\n",
    "top = Tk()\n",
    "top.geometry('250x250')\n",
    "greenbutton = Button(top, text='Red', fg = 'red')\n",
    "greenbutton.pack(side = LEFT)\n",
    "blackbutton = Button(top, text='Black', fg = 'black')\n",
    "blackbutton.pack(side = RIGHT)\n",
    "bluebutton = Button(top, text='Blue', fg = 'blue')\n",
    "bluebutton.pack(side = TOP)\n",
    "violetbutton = Button(top, text = 'Violet', fg= 'violet')\n",
    "violetbutton.pack(side = BOTTOM)\n",
    "top.mainloop()"
   ]
  },
  {
   "cell_type": "markdown",
   "metadata": {},
   "source": [
    "### Tkinter grid() method"
   ]
  },
  {
   "cell_type": "code",
   "execution_count": null,
   "metadata": {},
   "outputs": [],
   "source": [
    "from tkinter import *\n",
    "top = Tk()\n",
    "top.geometry('250x250')\n",
    "name = Label(top, text=\"Name\")\n",
    "name.grid(row=0,column=0)\n",
    "e1 = Entry(top)\n",
    "e1.grid(row=0,column=1)\n",
    "password = Label(top, text = 'Password')\n",
    "password.grid(row=1,column=0)\n",
    "e2 = Entry(top)\n",
    "e2.grid(row=1,column=1)\n",
    "top.mainloop()"
   ]
  },
  {
   "cell_type": "markdown",
   "metadata": {},
   "source": [
    "### Tkinter place() method"
   ]
  },
  {
   "cell_type": "code",
   "execution_count": null,
   "metadata": {},
   "outputs": [],
   "source": [
    "from tkinter import *\n",
    "top = Tk()\n",
    "top.geometry('250x250')\n",
    "name=Label(top,text='Name')\n",
    "name.place(x=30,y=50)\n",
    "email=Label(top,text='Email')\n",
    "email.place(x=30,y=90)\n",
    "\n",
    "password = Label(top,text='Password')\n",
    "password.place(x=30,y=130)\n",
    "\n",
    "e1= Entry(top)\n",
    "e1.place(x=80,y=50)\n",
    "e2= Entry(top)\n",
    "e2.place(x=80,y=90)\n",
    "e3= Entry(top)\n",
    "e3.place(x=95,y=130)\n",
    "top.mainloop()"
   ]
  },
  {
   "cell_type": "markdown",
   "metadata": {},
   "source": [
    "### Tkinter Button"
   ]
  },
  {
   "cell_type": "code",
   "execution_count": null,
   "metadata": {},
   "outputs": [],
   "source": [
    "from tkinter import *\n",
    "top = Tk()\n",
    "top.geometry('200x100')\n",
    "b = Button(top, text='Simple')\n",
    "b.pack()\n",
    "top.mainloop()"
   ]
  },
  {
   "cell_type": "markdown",
   "metadata": {},
   "source": [
    "### Tkinter Button"
   ]
  },
  {
   "cell_type": "code",
   "execution_count": null,
   "metadata": {},
   "outputs": [],
   "source": [
    "from tkinter import *\n",
    "top = Tk()\n",
    "top.geometry('200x100')\n",
    "def fun():\n",
    "    messagebox.showinfo('Red button clicked','Hello')\n",
    "    \n",
    "b1 = Button(top,text='Red', command =fun, activeforeground='red',activebackground='pink',pady=10)\n",
    "b2 = Button(top, text='Blue',activeforeground='blue',activebackground='pink', pady=10)\n",
    "b3 = Button(top, text='Green',activeforeground='green',activebackground='pink', pady=10)\n",
    "b4 = Button(top, text='Yellow',activeforeground='yellow',activebackground='pink', pady=10)\n",
    "\n",
    "b1.pack(side=LEFT)\n",
    "b2.pack(side=RIGHT)\n",
    "b3.pack(side=TOP)\n",
    "b4.pack(side=BOTTOM)\n",
    "top.mainloop()"
   ]
  },
  {
   "cell_type": "markdown",
   "metadata": {},
   "source": [
    "### Pyton Entry"
   ]
  },
  {
   "cell_type": "code",
   "execution_count": null,
   "metadata": {},
   "outputs": [],
   "source": [
    "from tkinter import *\n",
    "top = Tk()\n",
    "top.geometry('400x250')\n",
    "name=Label(top,text='Name')\n",
    "name.place(x=30,y=50)\n",
    "email = Label(top,text='Email')\n",
    "name.place(x=30,y=90)\n",
    "password=Label(top,text='Password')\n",
    "password.place(x=30,y=130)\n",
    "sbmitbtn = Button(top,text='Submit',activebackground='pink',activeforeground='blue')\n",
    "sbmitbtn.place(x=30,y=170)\n",
    "e1=Entry(top).place(x=80,y=50)\n",
    "e2=Entry(top).place(x=80,y=90)\n",
    "e3=Entry(top).place(x=95,y=130)\n",
    "top.mainloop()"
   ]
  },
  {
   "cell_type": "markdown",
   "metadata": {},
   "source": [
    "### Python Entry"
   ]
  },
  {
   "cell_type": "code",
   "execution_count": null,
   "metadata": {},
   "outputs": [],
   "source": [
    "# simple calculator\n",
    "import tkinter as tk\n",
    "from functools import partial\n",
    "\n",
    "def call_result(label_result,n1,n2):\n",
    "    num1 = (n1.get())\n",
    "    num2 = (n2.get())\n",
    "    result = int(num1)+int(num2)\n",
    "    label_result.config(text='Result = %d'%result)\n",
    "    return\n",
    "\n",
    "root = tk.Tk()\n",
    "root.geometry('400x200+100+200')\n",
    "\n",
    "root.title('Calculator')\n",
    "number1 = tk.StringVar()\n",
    "number2 = tk.StringVar()\n",
    "labelNum1 = tk.Label(root, text = 'A').grid(row=1,column=0)\n",
    "labelNum2 = tk.Label(root, text = 'B').grid(row=2,column=0)\n",
    "\n",
    "labelResult = tk.Label(root)\n",
    "labelResult.grid(row=7,column=2)\n",
    "entryNum1 = tk.Entry(root,textvariable=number1).grid(row=1,column=2)\n",
    "entryNum2 = tk.Entry(root,textvariable=number2).grid(row=2,column=2)\n",
    "call_result = partial(call_result, labelResult, number1, number2)\n",
    "buttonCall = tk.Button(root,text='Calculate', command = call_result).grid(row=3,column=0)\n",
    "root.mainloop()"
   ]
  },
  {
   "cell_type": "markdown",
   "metadata": {},
   "source": [
    "### Tkinter Label"
   ]
  },
  {
   "cell_type": "code",
   "execution_count": null,
   "metadata": {},
   "outputs": [],
   "source": [
    "from tkinter import *\n",
    "top = Tk()\n",
    "top.geometry('400x250')\n",
    "uname = Label(top,text='Username').place(x=30,y=50)\n",
    "password = Label(top,text='Password').place(x=30,y=90)\n",
    "sbmitbtn = Button(top, text='Submit', activebackground='pink',activeforeground='blue').place(x=30,y=120)\n",
    "e1=Entry(top,width=20).place(x=100,y=50)\n",
    "e2=Entry(top,width=20).place(x=100,y=90)\n",
    "top.mainloop()"
   ]
  },
  {
   "cell_type": "markdown",
   "metadata": {},
   "source": [
    "### Tkinter ListBox"
   ]
  },
  {
   "cell_type": "code",
   "execution_count": null,
   "metadata": {},
   "outputs": [],
   "source": [
    "from tkinter import *\n",
    "top = Tk()\n",
    "top.geometry('200x250')\n",
    "lbl=Label(top,text='A list of favourite countries...')\n",
    "listbox = Listbox(top)\n",
    "listbox.insert(1,'India')\n",
    "listbox.insert(2,'USA')\n",
    "listbox.insert(3,'Japan')\n",
    "listbox.insert(4,'Austrelia')\n",
    "lbl.pack()\n",
    "listbox.pack()\n",
    "top.mainloop()"
   ]
  },
  {
   "cell_type": "markdown",
   "metadata": {},
   "source": [
    "### Tkinter ListBoxe"
   ]
  },
  {
   "cell_type": "code",
   "execution_count": null,
   "metadata": {},
   "outputs": [],
   "source": [
    "from tkinter import *\n",
    "top = Tk()\n",
    "top.geometry('250x250')\n",
    "lbl = Label(top,text = 'A list of favourite countries...')\n",
    "\n",
    "listbox = Listbox(top)\n",
    "listbox.insert(1,'India')\n",
    "listbox.insert(2,'USA')\n",
    "listbox.insert(3,'Japan')\n",
    "listbox.insert(4,'Austrelia')\n",
    "btn = Button(top,text='delete', command = lambda listbox = listbox:listbox.delete(ANCHOR))\n",
    "lbl.pack()\n",
    "listbox.pack()\n",
    "btn.pack()\n",
    "top.mainloop()"
   ]
  },
  {
   "cell_type": "markdown",
   "metadata": {},
   "source": [
    "### Tkinter MessageBox\n",
    "#### 1. showinfo()"
   ]
  },
  {
   "cell_type": "code",
   "execution_count": null,
   "metadata": {},
   "outputs": [],
   "source": [
    "from tkinter import *\n",
    "from tkinter import messagebox\n",
    "\n",
    "top = Tk()\n",
    "top.geometry('100x100')\n",
    "messagebox.showinfo('information','Information')\n",
    "top.mainloop()"
   ]
  },
  {
   "cell_type": "markdown",
   "metadata": {},
   "source": [
    "#### 2. showwarning()"
   ]
  },
  {
   "cell_type": "code",
   "execution_count": null,
   "metadata": {},
   "outputs": [],
   "source": [
    "from tkinter import *\n",
    "from tkinter import messagebox\n",
    "\n",
    "top = Tk()\n",
    "top.geometry('100x100')\n",
    "messagebox.showwarning('warning','Warning')\n",
    "top.mainloop()"
   ]
  },
  {
   "cell_type": "markdown",
   "metadata": {},
   "source": [
    "#### 3. showerror()"
   ]
  },
  {
   "cell_type": "code",
   "execution_count": null,
   "metadata": {},
   "outputs": [],
   "source": [
    "from tkinter import *\n",
    "from tkinter import messagebox\n",
    "\n",
    "top = Tk()\n",
    "top.geometry('100x100')\n",
    "messagebox.showerror('error','Error')\n",
    "top.mainloop()"
   ]
  },
  {
   "cell_type": "markdown",
   "metadata": {},
   "source": [
    "#### 4. askquestion()"
   ]
  },
  {
   "cell_type": "code",
   "execution_count": null,
   "metadata": {},
   "outputs": [],
   "source": [
    "from tkinter import *\n",
    "from tkinter import messagebox\n",
    "\n",
    "top = Tk()\n",
    "top.geometry('100x100')\n",
    "messagebox.askquestion('confirm','Are you sure?')\n",
    "top.mainloop()"
   ]
  },
  {
   "cell_type": "markdown",
   "metadata": {},
   "source": [
    "#### 5. askokcancel()"
   ]
  },
  {
   "cell_type": "code",
   "execution_count": null,
   "metadata": {},
   "outputs": [],
   "source": [
    "from tkinter import *\n",
    "from tkinter import messagebox\n",
    "\n",
    "top = Tk()\n",
    "top.geometry('100x100')\n",
    "messagebox.askokcancel('Redirect','Redirecting you to www.javapoint.com')\n",
    "top.mainloop()"
   ]
  },
  {
   "cell_type": "code",
   "execution_count": null,
   "metadata": {},
   "outputs": [],
   "source": []
  },
  {
   "cell_type": "code",
   "execution_count": null,
   "metadata": {},
   "outputs": [],
   "source": []
  },
  {
   "cell_type": "code",
   "execution_count": null,
   "metadata": {},
   "outputs": [],
   "source": []
  },
  {
   "cell_type": "code",
   "execution_count": null,
   "metadata": {},
   "outputs": [],
   "source": []
  },
  {
   "cell_type": "markdown",
   "metadata": {},
   "source": [
    "# Datetime"
   ]
  },
  {
   "cell_type": "code",
   "execution_count": null,
   "metadata": {},
   "outputs": [],
   "source": [
    "# to display current date time\n",
    "\n",
    "import datetime\n",
    "x = datetime.datetime.now()\n",
    "print(x)"
   ]
  },
  {
   "cell_type": "code",
   "execution_count": null,
   "metadata": {},
   "outputs": [],
   "source": [
    "# return the year and name of weekday\n",
    "import datetime\n",
    "x = datetime.datetime.now()\n",
    "print(x.year)\n",
    "print(x.strftime('%A'))"
   ]
  },
  {
   "cell_type": "code",
   "execution_count": null,
   "metadata": {},
   "outputs": [],
   "source": [
    "import datetime\n",
    "x=datetime.datetime(2022,4,17)\n",
    "print(x)"
   ]
  },
  {
   "cell_type": "code",
   "execution_count": null,
   "metadata": {},
   "outputs": [],
   "source": [
    "import datetime\n",
    "x = datetime.datetime(2018,6,1)\n",
    "print(x.strftime('%B'))"
   ]
  },
  {
   "cell_type": "markdown",
   "metadata": {},
   "source": [
    "# database"
   ]
  },
  {
   "cell_type": "markdown",
   "metadata": {},
   "source": [
    "API steps:\n",
    "    1. importing the API packages.\n",
    "    2. creating a connection with the database.\n",
    "    3. sending SQL statements and stored procedures.\n",
    "    4. closing the connection."
   ]
  },
  {
   "cell_type": "markdown",
   "metadata": {},
   "source": [
    "!pip install pymysql"
   ]
  },
  {
   "cell_type": "code",
   "execution_count": null,
   "metadata": {},
   "outputs": [],
   "source": [
    "import pymysql"
   ]
  },
  {
   "cell_type": "code",
   "execution_count": null,
   "metadata": {},
   "outputs": [],
   "source": []
  },
  {
   "cell_type": "code",
   "execution_count": null,
   "metadata": {},
   "outputs": [],
   "source": []
  },
  {
   "cell_type": "code",
   "execution_count": null,
   "metadata": {},
   "outputs": [],
   "source": []
  },
  {
   "cell_type": "code",
   "execution_count": null,
   "metadata": {},
   "outputs": [],
   "source": []
  },
  {
   "cell_type": "code",
   "execution_count": null,
   "metadata": {},
   "outputs": [],
   "source": []
  },
  {
   "cell_type": "code",
   "execution_count": null,
   "metadata": {},
   "outputs": [],
   "source": []
  },
  {
   "cell_type": "code",
   "execution_count": null,
   "metadata": {},
   "outputs": [],
   "source": []
  },
  {
   "cell_type": "code",
   "execution_count": null,
   "metadata": {},
   "outputs": [],
   "source": []
  },
  {
   "cell_type": "code",
   "execution_count": null,
   "metadata": {},
   "outputs": [],
   "source": []
  },
  {
   "cell_type": "code",
   "execution_count": null,
   "metadata": {},
   "outputs": [],
   "source": []
  },
  {
   "cell_type": "code",
   "execution_count": null,
   "metadata": {},
   "outputs": [],
   "source": []
  },
  {
   "cell_type": "code",
   "execution_count": null,
   "metadata": {},
   "outputs": [],
   "source": []
  },
  {
   "cell_type": "code",
   "execution_count": null,
   "metadata": {},
   "outputs": [],
   "source": []
  },
  {
   "cell_type": "code",
   "execution_count": null,
   "metadata": {},
   "outputs": [],
   "source": []
  },
  {
   "cell_type": "code",
   "execution_count": null,
   "metadata": {},
   "outputs": [],
   "source": []
  },
  {
   "cell_type": "code",
   "execution_count": null,
   "metadata": {},
   "outputs": [],
   "source": []
  },
  {
   "cell_type": "code",
   "execution_count": null,
   "metadata": {},
   "outputs": [],
   "source": []
  },
  {
   "cell_type": "markdown",
   "metadata": {},
   "source": [
    "# Mean-Variance-Standard Deviation Calculator"
   ]
  },
  {
   "cell_type": "code",
   "execution_count": null,
   "metadata": {},
   "outputs": [],
   "source": [
    "import numpy as np"
   ]
  },
  {
   "cell_type": "code",
   "execution_count": null,
   "metadata": {},
   "outputs": [],
   "source": [
    "def calculate(lst):\n",
    "    if len(lst) == 9:\n",
    "        a = np.array(lst)\n",
    "        a = a.reshape(3,3)\n",
    "        print(\"'mean' :\",'[',a.mean(axis=0), a.mean(axis=1), a.mean(),']')\n",
    "        print(\"'variance' : \",'[',a.var(axis=0), a.var(axis=1), a.var(),']')\n",
    "        print(\"'standard deviation' : \",'[', a.std(axis=0), a.std(axis=1), a.std(),']')\n",
    "        print(\"'max' : \",'[', a.max(axis=0), a.max(axis=1), a.max(),']')\n",
    "        print(\"'min' : \",'[',a.min(axis=0), a.min(axis=1), a.min(),']')\n",
    "        print(\"'sum' : \",'[', a.sum(axis=0), a.sum(axis=1), a.sum(),']')\n",
    "    else:\n",
    "        print('ValueError : ',\"List must contain nine numbers.\")"
   ]
  },
  {
   "cell_type": "code",
   "execution_count": null,
   "metadata": {},
   "outputs": [],
   "source": [
    "lst = [1,2,3,4,9]\n",
    "\n",
    "calculate(lst)"
   ]
  },
  {
   "cell_type": "code",
   "execution_count": null,
   "metadata": {},
   "outputs": [],
   "source": [
    "calculate([0,1,2,3,4,5,6,7,8])"
   ]
  },
  {
   "cell_type": "code",
   "execution_count": null,
   "metadata": {},
   "outputs": [],
   "source": []
  },
  {
   "cell_type": "code",
   "execution_count": null,
   "metadata": {},
   "outputs": [],
   "source": []
  },
  {
   "cell_type": "code",
   "execution_count": null,
   "metadata": {},
   "outputs": [],
   "source": []
  },
  {
   "cell_type": "code",
   "execution_count": null,
   "metadata": {},
   "outputs": [],
   "source": []
  },
  {
   "cell_type": "code",
   "execution_count": null,
   "metadata": {},
   "outputs": [],
   "source": []
  }
 ],
 "metadata": {
  "kernelspec": {
   "display_name": "Python 3",
   "language": "python",
   "name": "python3"
  },
  "language_info": {
   "codemirror_mode": {
    "name": "ipython",
    "version": 3
   },
   "file_extension": ".py",
   "mimetype": "text/x-python",
   "name": "python",
   "nbconvert_exporter": "python",
   "pygments_lexer": "ipython3",
   "version": "3.7.0"
  }
 },
 "nbformat": 4,
 "nbformat_minor": 2
}
