{
 "cells": [
  {
   "cell_type": "code",
   "execution_count": null,
   "metadata": {},
   "outputs": [],
   "source": [
    "!pip install pyautogui\n",
    "!pip install keyboard\n",
    "import pyautogui\n",
    "from time import sleep"
   ]
  },
  {
   "cell_type": "code",
   "execution_count": null,
   "metadata": {},
   "outputs": [],
   "source": [
    "sleep(1) \n",
    "abc = pyautogui.position () \n",
    "print (abc)"
   ]
  },
  {
   "cell_type": "code",
   "execution_count": null,
   "metadata": {},
   "outputs": [],
   "source": [
    "sleep(1) \n",
    "abc = pyautogui.position () \n",
    "print (abc)"
   ]
  },
  {
   "cell_type": "code",
   "execution_count": null,
   "metadata": {},
   "outputs": [],
   "source": [
    "sleep(1) \n",
    "abc = pyautogui.position () \n",
    "print (abc)"
   ]
  },
  {
   "cell_type": "code",
   "execution_count": null,
   "metadata": {},
   "outputs": [],
   "source": [
    "from os import startfile\n",
    "from pyautogui import click\n",
    "from keyboard import press\n",
    "from keyboard import write"
   ]
  },
  {
   "cell_type": "code",
   "execution_count": null,
   "metadata": {},
   "outputs": [],
   "source": [
    "def Whatsappmsg(name, message):\n",
    "    startfile('https://web.whatsapp.com/')\n",
    "    sleep(20)\n",
    "    click(x=356, y=579) # on search bar\n",
    "    sleep(10)\n",
    "    write(name)\n",
    "    sleep(10)\n",
    "    click(x=389, y=436) # on came chat\n",
    "    sleep(10)\n",
    "    click(x=321, y=465) # on message bar\n",
    "    sleep(10)\n",
    "    write(message)\n",
    "    press('enter')"
   ]
  },
  {
   "cell_type": "code",
   "execution_count": null,
   "metadata": {},
   "outputs": [],
   "source": [
    "Whatsappmsg('Aditya', 'Hey')"
   ]
  },
  {
   "cell_type": "code",
   "execution_count": null,
   "metadata": {},
   "outputs": [],
   "source": []
  },
  {
   "cell_type": "code",
   "execution_count": null,
   "metadata": {},
   "outputs": [],
   "source": [
    "!pip install selenium\n",
    "from selenium import webdriver\n",
    "driver = webdriver.Chrome()\n",
    "driver.get('https://web.whatsapp.com/')\n",
    "driver.maximize_window()\n",
    "\n",
    "name = input('Please enter name :')\n",
    "msg = input('Please enter the message that you want to send :')\n",
    "count = int(input('Enter count :'))\n",
    "\n",
    "user = driver.find_element_by_xpath(\"/html/body/div[1]/div[1]/div[1]/div[3]/div/div[1]/div/label = '{}' /div/div[2]\".format(name))\n",
    "user.click()\n",
    "\n",
    "open_chat = driver.find_element_by_xpath(\"/html/body/div[1]/div[1]/div[1]/div[3]/div/div[2]/div[1]/div/div/div[2]/div\")\n",
    "open_chat.click()\n",
    "\n",
    "msg_box = driver.find_element_by_xpath(\"/html/body/div[1]/div[1]/div[1]/div[4]/div[1]/footer/div[1]/div/span[2]/div/div[2]/div[1]\")\n",
    "user.click()\n",
    "\n",
    "for index in range(count):\n",
    "    msg_box[send_keys(msg)]\n",
    "    driver.find_element_by_xpath(\"/html/body/div[1]/div[1]/div[1]/div[4]/div[1]/footer/div[1]/div/span[2]/div/div[2]/div[2]/button/span\").click()\n",
    "    \n",
    "print('message sent succesfully')"
   ]
  },
  {
   "cell_type": "code",
   "execution_count": null,
   "metadata": {},
   "outputs": [],
   "source": [
    " #search bar\n",
    "//*[@id=\"pane-side\"] \n",
    " # type bar\n",
    "# send button"
   ]
  },
  {
   "cell_type": "code",
   "execution_count": null,
   "metadata": {},
   "outputs": [],
   "source": [
    "!pip install selenium\n",
    "from selenium import webdriver\n",
    "\n",
    "Firefox = webdriver.get(\"C:\\\\Users\\\\HP\\\\AppData\\\\Local\\\\Mozilla Firefox\\\\firefox.exe\")\n",
    "\n",
    "driver = webdriver.Firefox()\n",
    "driver.get(\"https://web.whatsapp.com/\")\n",
    "drover.maximize_window()\n",
    "\n",
    "name = input(\"Enter name of person :\")\n",
    "msg = input(\"Enter message :\")\n",
    "count = int(input(\"Enter count :\"))\n",
    "\n",
    "input(\"Enter anything after scan QR code\")\n",
    "\n",
    "user = driver.find_element_by_xpath(\"/html/head/title\".format(name))\n",
    "user.click()\n",
    "\n",
    "msg_box = driver.find_element_by_xpath(\"//*[@id='main']/footer/div[1]/div[2]/div/div[2]\")\n",
    "\n",
    "for index in range(count):\n",
    "    msg_box.send_keys(msg)\n",
    "    driver.find_element_by_xpath(\"//*[@id='main']/footer/div[1]/div[3]/button\").click()\n",
    "    \n",
    "print(\"successfully sent!\")"
   ]
  },
  {
   "cell_type": "code",
   "execution_count": null,
   "metadata": {},
   "outputs": [],
   "source": []
  },
  {
   "cell_type": "code",
   "execution_count": null,
   "metadata": {},
   "outputs": [],
   "source": [
    "Firefox = '/html/body/div[1]/div/div/main/div[1]/div/div[2]/button/input'"
   ]
  },
  {
   "cell_type": "code",
   "execution_count": null,
   "metadata": {},
   "outputs": [],
   "source": [
    "/html/head/title"
   ]
  },
  {
   "cell_type": "code",
   "execution_count": null,
   "metadata": {},
   "outputs": [],
   "source": [
    "/html/head/title  search bar\n",
    "//*[@id=\"{}}\"] name\n",
    "//*[@id=\"main\"]/footer/div[1]/div/span[2]/div/div[2]/div[1]/div/div[2] msg bar\n",
    "//*[@id=\"main\"]/footer/div[1]/div/span[2]/div/div[2]/div[2]"
   ]
  },
  {
   "cell_type": "code",
   "execution_count": null,
   "metadata": {},
   "outputs": [],
   "source": [
    "/html/body/div[1]/div[1]/div[1]/div[4]/div[1]/footer/div[1]/div/span[2]/div/div[2]/div[1]/div/div[2]"
   ]
  },
  {
   "cell_type": "code",
   "execution_count": null,
   "metadata": {},
   "outputs": [],
   "source": []
  },
  {
   "cell_type": "code",
   "execution_count": null,
   "metadata": {},
   "outputs": [],
   "source": []
  },
  {
   "cell_type": "code",
   "execution_count": null,
   "metadata": {},
   "outputs": [],
   "source": [
    "!pip install pyautogui\n",
    "!pip install selenium"
   ]
  },
  {
   "cell_type": "code",
   "execution_count": null,
   "metadata": {},
   "outputs": [],
   "source": [
    "import webbrowser\n",
    "import pyautogui\n",
    "import time\n",
    "\n",
    "\n",
    "person_name = input('Name of the person whom you want to send the message: ')\n",
    "my_msg = input('Content you want to send: ')\n",
    "webbrowser.open(\"https://web.whatsapp.com/\")\n",
    "\n",
    "time.sleep(10)\n",
    "#print(pyautogui.position())\n",
    "\n",
    "\n",
    "#click on search bar\n",
    "pyautogui.click(129,194)\n",
    "pyautogui.typewrite(person_name)\n",
    "\n",
    "time.sleep(5)\n",
    "#click on person\n",
    "pyautogui.click(177,318)\n",
    "\n",
    "time.sleep(5)\n",
    "pyautogui.typewrite(my_msg)\n",
    "\n",
    "\n",
    "time.sleep(2)\n",
    "#click on send button\n",
    "pyautogui.click(1245,723)"
   ]
  },
  {
   "cell_type": "code",
   "execution_count": null,
   "metadata": {},
   "outputs": [],
   "source": [
    "import webbrowser\n",
    "import pyautogui\n",
    "import time\n",
    "from selenium import webdriver\n",
    "\n",
    "\n",
    "person_name = input('Name of the person whom you want to send the message: ')\n",
    "my_msg = input('Content you want to send: ')\n",
    "driver = webdriver.Firefox()\n",
    "webbrowser.open(\"https://web.whatsapp.com/\")\n",
    "\n",
    "time.sleep(10)\n",
    "#print(pyautogui.position())\n",
    "\n",
    "\n",
    "#click on search bar\n",
    "driver.('//html//body//div[1]//div[1]//div[1]//div[3]//div//div[1]//div//label//div//div[2]')\n",
    "pyautogui.typewrite(person_name)\n",
    "\n",
    "time.sleep(5)\n",
    "#click on person\n",
    "pyautogui.click(\"//html//body//div[1]//div[1]//div[1]//div[3]//div//div[2]//div[1]//div/div//div[3]//div//div//div[2]\")\n",
    "\n",
    "time.sleep(5)\n",
    "pyautogui.typewrite(my_msg)\n",
    "\n",
    "\n",
    "time.sleep(2)\n",
    "#click on send button\n",
    "pyautogui.click(\"//html//body//div[1]//div[1]//div[1]//div[4]//div[1]//footer//div[1]//div//span[2]//div//div[2]//div[2]//button//span\")"
   ]
  },
  {
   "cell_type": "code",
   "execution_count": null,
   "metadata": {},
   "outputs": [],
   "source": [
    "!pip install selenium"
   ]
  },
  {
   "cell_type": "code",
   "execution_count": null,
   "metadata": {},
   "outputs": [],
   "source": [
    "from selenium import webdriver\n",
    "import time\n",
    "\n",
    "\n",
    "Firefox = webdriver.get(\"C:\\\\Users\\\\HP\\\\AppData\\\\Local\\\\Mozilla Firefox\\\\firefox.exe\")\n",
    "\n",
    "driver = webdriver.Firefox()\n",
    "driver.get('https://web.whatsapp.com/')\n",
    "driver.maximize_window()\n",
    "\n",
    "name = input(\"Enter name of person :\")\n",
    "time.sleep(15)\n",
    "\n",
    "user = driver.find_element_by_xpath(\"//*[@id='{}']/div[1]/div/label/div\".format(name))\n",
    "user.click()"
   ]
  },
  {
   "cell_type": "code",
   "execution_count": null,
   "metadata": {},
   "outputs": [],
   "source": []
  }
 ],
 "metadata": {
  "kernelspec": {
   "display_name": "Python 3",
   "language": "python",
   "name": "python3"
  },
  "language_info": {
   "codemirror_mode": {
    "name": "ipython",
    "version": 3
   },
   "file_extension": ".py",
   "mimetype": "text/x-python",
   "name": "python",
   "nbconvert_exporter": "python",
   "pygments_lexer": "ipython3",
   "version": "3.7.0"
  }
 },
 "nbformat": 4,
 "nbformat_minor": 2
}
