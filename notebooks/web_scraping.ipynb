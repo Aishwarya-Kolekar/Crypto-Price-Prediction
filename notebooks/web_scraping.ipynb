{
 "cells": [
  {
   "cell_type": "code",
   "execution_count": 1,
   "metadata": {},
   "outputs": [
    {
     "name": "stdout",
     "output_type": "stream",
     "text": [
      "Requirement already satisfied: beautifulsoup4 in c:\\users\\hp\\anaconda3\\lib\\site-packages (4.6.3)\n"
     ]
    },
    {
     "name": "stderr",
     "output_type": "stream",
     "text": [
      "twisted 18.7.0 requires PyHamcrest>=1.9.0, which is not installed.\n",
      "conda 4.12.0 requires ruamel_yaml_conda>=0.11.14, which is not installed.\n",
      "You are using pip version 10.0.1, however version 22.0.4 is available.\n",
      "You should consider upgrading via the 'python -m pip install --upgrade pip' command.\n"
     ]
    }
   ],
   "source": [
    "!pip install beautifulsoup4"
   ]
  },
  {
   "cell_type": "code",
   "execution_count": 3,
   "metadata": {},
   "outputs": [
    {
     "name": "stdout",
     "output_type": "stream",
     "text": [
      "Requirement already satisfied: lxml in c:\\users\\hp\\anaconda3\\lib\\site-packages (4.8.0)\n"
     ]
    },
    {
     "name": "stderr",
     "output_type": "stream",
     "text": [
      "twisted 18.7.0 requires PyHamcrest>=1.9.0, which is not installed.\n",
      "conda 4.12.0 requires ruamel_yaml_conda>=0.11.14, which is not installed.\n",
      "You are using pip version 10.0.1, however version 22.0.4 is available.\n",
      "You should consider upgrading via the 'python -m pip install --upgrade pip' command.\n"
     ]
    }
   ],
   "source": [
    "!pip install lxml"
   ]
  },
  {
   "cell_type": "code",
   "execution_count": 2,
   "metadata": {},
   "outputs": [],
   "source": [
    "from bs4 import BeautifulSoup"
   ]
  },
  {
   "cell_type": "markdown",
   "metadata": {},
   "source": [
    "#to print the html content of web \n",
    "#prettify used to print the code clearly\n",
    "\n",
    "\n",
    "\n",
    "with open('', 'r') as html_file:\n",
    "    file = .read()\n",
    "    soup = BeautifulSoup(file, 'lxml')\n",
    "    print(soup.prettify())"
   ]
  },
  {
   "cell_type": "code",
   "execution_count": null,
   "metadata": {},
   "outputs": [],
   "source": [
    "#to take tabs\n",
    "\n",
    "with open('', 'r') as html_file:\n",
    "    file = .read()\n",
    "    soup = BeautifulSoup(file, 'lxml')\n",
    "    tags = soup.find_all('h5')"
   ]
  },
  {
   "cell_type": "code",
   "execution_count": 1,
   "metadata": {},
   "outputs": [],
   "source": [
    "# Step 0 : Import the requirements\n",
    "\n",
    "import requests\n",
    "from bs4 import BeautifulSoup\n",
    "url = 'https://codewithharry.com'"
   ]
  },
  {
   "cell_type": "code",
   "execution_count": 3,
   "metadata": {},
   "outputs": [],
   "source": [
    "# Step 1 : Get the HTML\n",
    "\n",
    "r = requests.get(url)\n",
    "htmlContent = r.content\n",
    "# print(htmlContent)"
   ]
  },
  {
   "cell_type": "code",
   "execution_count": 6,
   "metadata": {},
   "outputs": [],
   "source": [
    "# Step 2 : Parse the HTML\n",
    "\n",
    "soup = BeautifulSoup(htmlContent, 'html.parser')\n",
    "# print(soup.prettify())"
   ]
  },
  {
   "cell_type": "code",
   "execution_count": 11,
   "metadata": {},
   "outputs": [
    {
     "name": "stdout",
     "output_type": "stream",
     "text": [
      "Home | CodeWithHarry\n"
     ]
    }
   ],
   "source": [
    "# Step 3 : HTML Tree Traversal\n",
    "\n",
    "\n"
   ]
  },
  {
   "cell_type": "markdown",
   "metadata": {},
   "source": [
    "# Commonly used types of objects in Beautiful Soup\n",
    "\n",
    "    1. Tag\n",
    "    2. Navigable String\n",
    "    3. Beautiful Soup\n",
    "    4. Comment"
   ]
  },
  {
   "cell_type": "code",
   "execution_count": 12,
   "metadata": {},
   "outputs": [
    {
     "name": "stdout",
     "output_type": "stream",
     "text": [
      "<class 'bs4.BeautifulSoup'>\n",
      "<class 'bs4.element.Tag'>\n",
      "<class 'bs4.element.NavigableString'>\n"
     ]
    }
   ],
   "source": [
    "print(type(soup))\n",
    "print(type(title))\n",
    "print(type(title.string))"
   ]
  },
  {
   "cell_type": "code",
   "execution_count": 16,
   "metadata": {},
   "outputs": [
    {
     "name": "stdout",
     "output_type": "stream",
     "text": [
      "[<p class=\"mt-2 text-sm text-gray-500 md:text-base\">Confused on which course to take? I have got you covered. Browse courses and find out the best course for you. Its free! Code With Harry is my attempt to teach basics and those coding techniques to people in short time which took me ages to learn.</p>, <p class=\"text-gray-700 text-base\">Complete Tailwind CSS Course by CodeWithHarry in Hindi - Learn Tailwind CSS from scratch for free! </p>, <p class=\"text-gray-700 text-base\">Complete Next.js Course by CodeWithHarry in Hindi - Learn Next.js from Scratch.</p>, <p class=\"text-gray-700 text-base\">React is a free and open-source front-end JavaScript library. This series will cover React from starting to the end. We will learn react from the ground up!</p>, <p class=\"leading-relaxed mb-6\">I don't have words to thank this man, I'm really grateful to have this channel and website in my daily routine. If you're a mere beginner, then you can trust this guy and can put your time into his content. I can assure you that it'll be worth it.</p>, <p class=\"leading-relaxed mb-6\">For everyone who wants to level up their #Coding and #Dev skills - seriously, this channel is for you! Both basic and advanced stacks are covered on this channel, and one can learn according to his skill levels. And the icing on the cake is, everything is available for free.</p>, <p class=\"text-sm text-gray-500 sm:ml-4 sm:pl-4 sm:border-l-2 sm:border-gray-200 sm:py-2 sm:mt-0 mt-4 text-center\">Copyright © 2022 CodeWithHarry.com</p>]\n"
     ]
    }
   ],
   "source": [
    "  # to get all the paragraphs from the page\n",
    "paras  = soup.find_all('p')\n",
    "print(paras)"
   ]
  },
  {
   "cell_type": "code",
   "execution_count": 17,
   "metadata": {},
   "outputs": [
    {
     "name": "stdout",
     "output_type": "stream",
     "text": [
      "[<a href=\"/\">CodeWithHarry</a>, <a href=\"/\">Home</a>, <a href=\"/videos/\">Courses</a>, <a href=\"/blog/\">Blog</a>, <a href=\"/contact/\">Contact</a>, <a href=\"/videos/tailwind-course-in-hindi-1/\">Tailwind Course In Hindi</a>, <a href=\"/videos/nextjs-tutorial-in-hindi-1/\">Next.js Tutorials For Beginners</a>, <a href=\"/videos/react-tutorials-in-hindi-1/\">React Js Tutorials For Beginners</a>, <a class=\"text-gray-500\" href=\"https://www.facebook.com/CodeWithHarry/\" rel=\"noreferrer\" target=\"_blank\"><svg class=\"w-5 h-5\" fill=\"currentColor\" stroke-linecap=\"round\" stroke-linejoin=\"round\" stroke-width=\"2\" viewbox=\"0 0 24 24\"><path d=\"M18 2h-3a5 5 0 00-5 5v3H7v4h3v8h4v-8h3l1-4h-4V7a1 1 0 011-1h3z\"></path></svg></a>, <a class=\"ml-3 text-gray-500\" href=\"https://www.instagram.com/CodeWithHarry/\" rel=\"noreferrer\" target=\"_blank\"><svg class=\"w-5 h-5\" fill=\"none\" stroke=\"currentColor\" stroke-linecap=\"round\" stroke-linejoin=\"round\" stroke-width=\"2\" viewbox=\"0 0 24 24\"><rect height=\"20\" rx=\"5\" ry=\"5\" width=\"20\" x=\"2\" y=\"2\"></rect><path d=\"M16 11.37A4 4 0 1112.63 8 4 4 0 0116 11.37zm1.5-4.87h.01\"></path></svg></a>]\n"
     ]
    }
   ],
   "source": [
    "# to get the anchor tags from the page\n",
    "\n",
    "anchors = soup.find_all('a')\n",
    "print(anchors) "
   ]
  },
  {
   "cell_type": "code",
   "execution_count": 18,
   "metadata": {},
   "outputs": [
    {
     "name": "stdout",
     "output_type": "stream",
     "text": [
      "<p class=\"mt-2 text-sm text-gray-500 md:text-base\">Confused on which course to take? I have got you covered. Browse courses and find out the best course for you. Its free! Code With Harry is my attempt to teach basics and those coding techniques to people in short time which took me ages to learn.</p>\n"
     ]
    }
   ],
   "source": [
    "# get first element of html page\n",
    "\n",
    "print(soup.find('p'))"
   ]
  },
  {
   "cell_type": "code",
   "execution_count": 19,
   "metadata": {},
   "outputs": [
    {
     "name": "stdout",
     "output_type": "stream",
     "text": [
      "['mt-2', 'text-sm', 'text-gray-500', 'md:text-base']\n"
     ]
    }
   ],
   "source": [
    "# get classes of any element in the html page\n",
    "\n",
    "print(soup.find('p')['class'])"
   ]
  },
  {
   "cell_type": "code",
   "execution_count": 20,
   "metadata": {},
   "outputs": [
    {
     "name": "stdout",
     "output_type": "stream",
     "text": [
      "[]\n"
     ]
    }
   ],
   "source": [
    "# find all the elements with class lead\n",
    "\n",
    "print(soup.find_all('p', class_='lead')) "
   ]
  },
  {
   "cell_type": "code",
   "execution_count": 21,
   "metadata": {},
   "outputs": [
    {
     "name": "stdout",
     "output_type": "stream",
     "text": [
      "Confused on which course to take? I have got you covered. Browse courses and find out the best course for you. Its free! Code With Harry is my attempt to teach basics and those coding techniques to people in short time which took me ages to learn.\n"
     ]
    }
   ],
   "source": [
    "# to get the text from the soup/tags\n",
    "\n",
    "print(soup.find('p').get_text())"
   ]
  },
  {
   "cell_type": "code",
   "execution_count": 25,
   "metadata": {},
   "outputs": [
    {
     "name": "stdout",
     "output_type": "stream",
     "text": [
      "(function(w,d,s,l,i){w[l]=w[l]||[];w[l].push({'gtm.start':\n",
      "        new Date().getTime(),event:'gtm.js'});var f=d.getElementsByTagName(s)[0],\n",
      "        j=d.createElement(s),dl=l!='dataLayer'?'&l='+l:'';j.async=true;j.src=\n",
      "        'https://www.googletagmanager.com/gtm.js?id='+i+dl;f.parentNode.insertBefore(j,f);\n",
      "        })(window,document,'script','dataLayer','GTM-MCDDKRF');Home | CodeWithHarryCodeWithHarryMenuHomeCoursesBlogContactLoginSignupWelcome to CodeWithHarryConfused on which course to take? I have got you covered. Browse courses and find out the best course for you. Its free! Code With Harry is my attempt to teach basics and those coding techniques to people in short time which took me ages to learn.Free CoursesExplore BlogRecommended CoursesFree CourseTailwind Course In HindiComplete Tailwind CSS Course by CodeWithHarry in Hindi - Learn Tailwind CSS from scratch for free!  Start WatchingFree CourseNext.js Tutorials For BeginnersComplete Next.js Course by CodeWithHarry in Hindi - Learn Next.js from Scratch. Start WatchingFree CourseReact Js Tutorials For BeginnersReact is a free and open-source front-end JavaScript library. This series will cover React from starting to the end. We will learn react from the ground up! Start WatchingTestimonialsI don't have words to thank this man, I'm really grateful to have this channel and website in my daily routine. If you're a mere beginner, then you can trust this guy and can put your time into his content. I can assure you that it'll be worth it.Mohit KumarWeb DeveloperFor everyone who wants to level up their #Coding and #Dev skills - seriously, this channel is for you! Both basic and advanced stacks are covered on this channel, and one can learn according to his skill levels. And the icing on the cake is, everything is available for free.Rakesh ShettyWeb DeveloperCodeWithHarryCopyright © 2022 CodeWithHarry.com{\"props\":{\"pageProps\":{\"url\":\"https://cwh-apis-strapi-c39h9.ondigitalocean.app\",\"courses\":[{\"previewimg\":[{\"_id\":\"61e70ca3f8fae000115a0eb0\",\"name\":\"tailwind.png\",\"alternativeText\":\"\",\"caption\":\"\",\"hash\":\"e1c843acc10c59c60504cd438a082c6d\",\"ext\":\".png\",\"mime\":\"image/png\",\"size\":629.53,\"width\":1280,\"height\":720,\"url\":\"https://codewithharry.nyc3.cdn.digitaloceanspaces.com/assets/e1c843acc10c59c60504cd438a082c6d.png\",\"formats\":{\"thumbnail\":{\"name\":\"thumbnail_tailwind.png\",\"hash\":\"b7784c44bdbb1e7b8ece1317b0fdc76b\",\"ext\":\".png\",\"mime\":\"image/png\",\"width\":245,\"height\":138,\"size\":64.67,\"path\":null,\"url\":\"https://codewithharry.nyc3.cdn.digitaloceanspaces.com/assets/b7784c44bdbb1e7b8ece1317b0fdc76b.png\"},\"large\":{\"name\":\"large_tailwind.png\",\"hash\":\"74e0ceaabaf311cd95b57023a9b2fe22\",\"ext\":\".png\",\"mime\":\"image/png\",\"width\":1000,\"height\":563,\"size\":694.47,\"path\":null,\"url\":\"https://codewithharry.nyc3.cdn.digitaloceanspaces.com/assets/74e0ceaabaf311cd95b57023a9b2fe22.png\"},\"medium\":{\"name\":\"medium_tailwind.png\",\"hash\":\"92680d2b9cf6eb586b0a84f851d0de74\",\"ext\":\".png\",\"mime\":\"image/png\",\"width\":750,\"height\":422,\"size\":425.65,\"path\":null,\"url\":\"https://codewithharry.nyc3.cdn.digitaloceanspaces.com/assets/92680d2b9cf6eb586b0a84f851d0de74.png\"},\"small\":{\"name\":\"small_tailwind.png\",\"hash\":\"406fa0451668f7448dfbb0e9ab7d4f95\",\"ext\":\".png\",\"mime\":\"image/png\",\"width\":500,\"height\":281,\"size\":212.8,\"path\":null,\"url\":\"https://codewithharry.nyc3.cdn.digitaloceanspaces.com/assets/406fa0451668f7448dfbb0e9ab7d4f95.png\"}},\"provider\":\"do\",\"related\":[\"61d069b36ff03b00118e19cb\"],\"createdAt\":\"2022-01-18T18:53:23.018Z\",\"updatedAt\":\"2022-01-18T19:09:13.557Z\",\"__v\":0,\"id\":\"61e70ca3f8fae000115a0eb0\"}],\"_id\":\"61d069b36ff03b00118e19cb\",\"ytplaylistid\":\"PLu0W_9lII9ahwFDuExCpPFHAK829Wto2O\",\"title\":\"Tailwind Course In Hindi\",\"description\":\"Complete Tailwind CSS Course by CodeWithHarry in Hindi - Learn Tailwind CSS from scratch for free! \",\"firstSlug\":\"tailwind-course-in-hindi-1\",\"published_at\":\"2022-01-01T14:50:36.984Z\",\"createdAt\":\"2022-01-01T14:48:19.035Z\",\"updatedAt\":\"2022-01-18T19:09:13.563Z\",\"__v\":0,\"id\":\"61d069b36ff03b00118e19cb\"},{\"previewimg\":[{\"_id\":\"61f8316049dac1001207e5d1\",\"name\":\"CourseThumb.png\",\"alternativeText\":\"\",\"caption\":\"\",\"hash\":\"62f60049963012281edcc77dd2ec031b\",\"ext\":\".png\",\"mime\":\"image/png\",\"size\":2820.81,\"width\":2933,\"height\":1650,\"url\":\"https://codewithharry.nyc3.cdn.digitaloceanspaces.com/assets/62f60049963012281edcc77dd2ec031b.png\",\"formats\":{\"thumbnail\":{\"name\":\"thumbnail_CourseThumb.png\",\"hash\":\"66f6ae490e06c5e6d59e7e1dcc7910ed\",\"ext\":\".png\",\"mime\":\"image/png\",\"width\":245,\"height\":138,\"size\":74.13,\"path\":null,\"url\":\"https://codewithharry.nyc3.cdn.digitaloceanspaces.com/assets/66f6ae490e06c5e6d59e7e1dcc7910ed.png\"},\"large\":{\"name\":\"large_CourseThumb.png\",\"hash\":\"9165bfd6283ecf476b99403abcb541e0\",\"ext\":\".png\",\"mime\":\"image/png\",\"width\":1000,\"height\":563,\"size\":740.14,\"path\":null,\"url\":\"https://codewithharry.nyc3.cdn.digitaloceanspaces.com/assets/9165bfd6283ecf476b99403abcb541e0.png\"},\"medium\":{\"name\":\"medium_CourseThumb.png\",\"hash\":\"33f7fb46e969d318a97cdd8cf089e041\",\"ext\":\".png\",\"mime\":\"image/png\",\"width\":750,\"height\":422,\"size\":453.67,\"path\":null,\"url\":\"https://codewithharry.nyc3.cdn.digitaloceanspaces.com/assets/33f7fb46e969d318a97cdd8cf089e041.png\"},\"small\":{\"name\":\"small_CourseThumb.png\",\"hash\":\"7ea2ac243e2ed4891e89c05773b720e1\",\"ext\":\".png\",\"mime\":\"image/png\",\"width\":500,\"height\":281,\"size\":234.67,\"path\":null,\"url\":\"https://codewithharry.nyc3.cdn.digitaloceanspaces.com/assets/7ea2ac243e2ed4891e89c05773b720e1.png\"}},\"provider\":\"do\",\"related\":[\"61f82d0d49dac1001207e5cf\"],\"createdAt\":\"2022-01-31T18:58:40.885Z\",\"updatedAt\":\"2022-01-31T19:00:13.920Z\",\"__v\":0,\"id\":\"61f8316049dac1001207e5d1\"}],\"_id\":\"61f82d0d49dac1001207e5cf\",\"title\":\"Next.js Tutorials For Beginners\",\"ytplaylistid\":\"PLu0W_9lII9agtWvR_TZdb_r0dNI8-lDwG\",\"description\":\"Complete Next.js Course by CodeWithHarry in Hindi - Learn Next.js from Scratch.\",\"firstSlug\":\"nextjs-tutorial-in-hindi-1\",\"published_at\":\"2022-01-31T19:00:16.335Z\",\"createdAt\":\"2022-01-31T18:40:13.364Z\",\"updatedAt\":\"2022-01-31T19:00:16.356Z\",\"__v\":0,\"id\":\"61f82d0d49dac1001207e5cf\"},{\"previewimg\":[{\"_id\":\"61e70ca9347e2500114112a9\",\"name\":\"react.png\",\"alternativeText\":\"\",\"caption\":\"\",\"hash\":\"090fefe24d23d47584f6ddc7eb5a241e\",\"ext\":\".png\",\"mime\":\"image/png\",\"size\":931.17,\"width\":1280,\"height\":720,\"url\":\"https://codewithharry.nyc3.cdn.digitaloceanspaces.com/assets/090fefe24d23d47584f6ddc7eb5a241e.png\",\"formats\":{\"thumbnail\":{\"name\":\"thumbnail_react.png\",\"hash\":\"15a81ab0ce496c67d3cd9ad7fb0d909f\",\"ext\":\".png\",\"mime\":\"image/png\",\"width\":245,\"height\":138,\"size\":68.3,\"path\":null,\"url\":\"https://codewithharry.nyc3.cdn.digitaloceanspaces.com/assets/15a81ab0ce496c67d3cd9ad7fb0d909f.png\"},\"large\":{\"name\":\"large_react.png\",\"hash\":\"08506f77c46079f72b27ccd5673b5b9e\",\"ext\":\".png\",\"mime\":\"image/png\",\"width\":1000,\"height\":563,\"size\":807.14,\"path\":null,\"url\":\"https://codewithharry.nyc3.cdn.digitaloceanspaces.com/assets/08506f77c46079f72b27ccd5673b5b9e.png\"},\"medium\":{\"name\":\"medium_react.png\",\"hash\":\"2ab7229461042bc313a149bcda5a75e6\",\"ext\":\".png\",\"mime\":\"image/png\",\"width\":750,\"height\":422,\"size\":478.78,\"path\":null,\"url\":\"https://codewithharry.nyc3.cdn.digitaloceanspaces.com/assets/2ab7229461042bc313a149bcda5a75e6.png\"},\"small\":{\"name\":\"small_react.png\",\"hash\":\"5e0b3db5d79835893b9b2a370c35d35d\",\"ext\":\".png\",\"mime\":\"image/png\",\"width\":500,\"height\":281,\"size\":234.45,\"path\":null,\"url\":\"https://codewithharry.nyc3.cdn.digitaloceanspaces.com/assets/5e0b3db5d79835893b9b2a370c35d35d.png\"}},\"provider\":\"do\",\"related\":[\"61bf15cbb26eda2ecc384ca2\"],\"createdAt\":\"2022-01-18T18:53:29.898Z\",\"updatedAt\":\"2022-01-18T19:08:24.511Z\",\"__v\":0,\"id\":\"61e70ca9347e2500114112a9\"}],\"_id\":\"61bf15cbb26eda2ecc384ca2\",\"title\":\"React Js Tutorials For Beginners\",\"ytplaylistid\":\"PLu0W_9lII9agx66oZnT6IyhcMIbUMNMdt\",\"description\":\"React is a free and open-source front-end JavaScript library. This series will cover React from starting to the end. We will learn react from the ground up!\",\"firstSlug\":\"react-tutorials-in-hindi-1\",\"published_at\":\"2021-12-19T11:21:47.256Z\",\"createdAt\":\"2021-12-19T11:21:47.258Z\",\"updatedAt\":\"2022-01-18T19:08:24.516Z\",\"__v\":0,\"order\":1,\"id\":\"61bf15cbb26eda2ecc384ca2\"}]},\"__N_SSG\":true},\"page\":\"/\",\"query\":{},\"buildId\":\"DMzr-AkPj1ZcgvYqIxESY\",\"isFallback\":false,\"gsp\":true,\"scriptLoader\":[]}\n"
     ]
    }
   ],
   "source": [
    "print(soup.get_text())"
   ]
  },
  {
   "cell_type": "code",
   "execution_count": 28,
   "metadata": {},
   "outputs": [
    {
     "name": "stdout",
     "output_type": "stream",
     "text": [
      "https://codewithharry.com/\n",
      "https://codewithharry.com/\n",
      "https://codewithharry.com/videos/\n",
      "https://codewithharry.com/blog/\n",
      "https://codewithharry.com/contact/\n",
      "https://codewithharry.com/videos/tailwind-course-in-hindi-1/\n",
      "https://codewithharry.com/videos/nextjs-tutorial-in-hindi-1/\n",
      "https://codewithharry.com/videos/react-tutorials-in-hindi-1/\n",
      "https://codewithharry.comhttps://www.facebook.com/CodeWithHarry/\n",
      "https://codewithharry.comhttps://www.instagram.com/CodeWithHarry/\n"
     ]
    }
   ],
   "source": [
    "# to get all the links from the page\n",
    "\n",
    "all_links = set()\n",
    "\n",
    "\n",
    "for link in anchors:\n",
    "    if (link.get('href') != '#'):\n",
    "        linkText = 'https://codewithharry.com' +link.get('href')\n",
    "        all_links.add(link)\n",
    "        print(linkText)"
   ]
  },
  {
   "cell_type": "code",
   "execution_count": null,
   "metadata": {},
   "outputs": [],
   "source": []
  }
 ],
 "metadata": {
  "kernelspec": {
   "display_name": "Python 3",
   "language": "python",
   "name": "python3"
  },
  "language_info": {
   "codemirror_mode": {
    "name": "ipython",
    "version": 3
   },
   "file_extension": ".py",
   "mimetype": "text/x-python",
   "name": "python",
   "nbconvert_exporter": "python",
   "pygments_lexer": "ipython3",
   "version": "3.7.0"
  }
 },
 "nbformat": 4,
 "nbformat_minor": 2
}
