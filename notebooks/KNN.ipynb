{
 "cells": [
  {
   "cell_type": "code",
   "execution_count": null,
   "metadata": {},
   "outputs": [],
   "source": [
    "Daily_covid_cases = [18, 29, 49, 97, 223, 102, 47, 21, 9, 2]\n",
    "Daily_cured = [9, 3, 6, 10, 13, 11, 8, 9, 5, 0]\n",
    "Vaccinated_students = [1946, 947, 1826, 1369, 1237, 721, 567, 1026, 1002, 1167]\n",
    "Reopening_college = ['yes', 'yes', 'yes', 'no', 'no', 'no', 'yes', 'yes', 'yes', 'yes']"
   ]
  },
  {
   "cell_type": "code",
   "execution_count": null,
   "metadata": {},
   "outputs": [],
   "source": [
    "from sklearn import preprocessing\n",
    "#creating encoder\n",
    "le = preprocessing.LabelEncoder()\n",
    "#creating string labels into numbers\n",
    "label = le.fit_transform(Reopening_college)\n",
    "print(label)"
   ]
  },
  {
   "cell_type": "code",
   "execution_count": null,
   "metadata": {},
   "outputs": [],
   "source": [
    "features = list(zip(Daily_covid_cases, Daily_cured, Vaccinated_students))"
   ]
  },
  {
   "cell_type": "code",
   "execution_count": null,
   "metadata": {},
   "outputs": [],
   "source": [
    "features"
   ]
  },
  {
   "cell_type": "code",
   "execution_count": null,
   "metadata": {},
   "outputs": [],
   "source": [
    "from sklearn.neighbors import KNeighborsClassifier\n",
    "model = KNeighborsClassifier(n_neighbors = 4)\n",
    "#Train the model using the training sets\n",
    "model.fit(features, label)\n",
    "predicted = model.predict([[18, 9, 1946]]) # 18 : Daily covid cases, 9 : Daily cured people, 1946 : Vaccinated students\n",
    "print(predicted)"
   ]
  },
  {
   "cell_type": "code",
   "execution_count": null,
   "metadata": {},
   "outputs": [],
   "source": [
    "from sklearn.neighbors import KNeighborsClassifier\n",
    "model = KNeighborsClassifier(n_neighbors = 3)\n",
    "#Train the model using the training sets\n",
    "model.fit(features, label)\n",
    "predicted = model.predict([[18, 9, 1946]]) # 18 : Daily covid cases, 9 : Daily cured people, 1946 : Vaccinated students\n",
    "if predicted == 0:\n",
    "    print(\"The colleges will not get open in next month according to today's data\")\n",
    "else:\n",
    "    print(\"The colleges will get open in next month according to today's data\")"
   ]
  },
  {
   "cell_type": "code",
   "execution_count": null,
   "metadata": {},
   "outputs": [],
   "source": [
    "predicted = model.predict([[29, 3, 947]]) # 29 : Daily covid cases, 3 : Daily cured people, 947 : Vaccinated students\n",
    "if predicted == 0:\n",
    "    print(\"The colleges will not get open in next month according to today's data\")\n",
    "else:\n",
    "    print(\"The colleges will get open in next month according to today's data\")"
   ]
  },
  {
   "cell_type": "code",
   "execution_count": null,
   "metadata": {},
   "outputs": [],
   "source": [
    "predicted = model.predict([[49, 6, 1826]]) # 49 : Daily covid cases, 6 : Daily cured people, 1826 : Vaccinated students\n",
    "if predicted == 0:\n",
    "    print(\"The colleges will not get open in next month according to today's data\")\n",
    "else:\n",
    "    print(\"The colleges will get open in next month according to today's data\")"
   ]
  },
  {
   "cell_type": "code",
   "execution_count": null,
   "metadata": {},
   "outputs": [],
   "source": [
    "predicted = model.predict([[97, 10, 1369]]) # 97 : Daily covid cases, 10 : Daily cured people, 1369 : Vaccinated students\n",
    "if predicted == 0:\n",
    "    print(\"The colleges will not get open in next month according to today's data\")\n",
    "else:\n",
    "    print(\"The colleges will get open in next month according to today's data\")"
   ]
  },
  {
   "cell_type": "code",
   "execution_count": null,
   "metadata": {},
   "outputs": [],
   "source": [
    "predicted = model.predict([[223, 13, 1237]]) # 223 : Daily covid cases, 13 : Daily cured people, 1237 : Vaccinated students\n",
    "if predicted == 0:\n",
    "    print(\"The colleges will not get open in next month according to today's data\")\n",
    "else:\n",
    "    print(\"The colleges will get open in next month according to today's data\")"
   ]
  },
  {
   "cell_type": "code",
   "execution_count": null,
   "metadata": {},
   "outputs": [],
   "source": [
    "predicted = model.predict([[102, 11, 721]]) # 102 : Daily covid cases, 11 : Daily cured people, 721 : Vaccinated students\n",
    "if predicted == 0:\n",
    "    print(\"The colleges will not get open in next month according to today's data\")\n",
    "else:\n",
    "    print(\"The colleges will get open in next month according to today's data\")"
   ]
  },
  {
   "cell_type": "code",
   "execution_count": null,
   "metadata": {},
   "outputs": [],
   "source": [
    "predicted = model.predict([[47, 8, 567]]) # 47 : Daily covid cases, 8 : Daily cured people, 567 : Vaccinated students\n",
    "if predicted == 0:\n",
    "    print(\"The colleges will not get open in next month according to today's data\")\n",
    "else:\n",
    "    print(\"The colleges will get open in next month according to today's data\")"
   ]
  },
  {
   "cell_type": "code",
   "execution_count": null,
   "metadata": {},
   "outputs": [],
   "source": [
    "predicted = model.predict([[21, 9, 1026]]) # 21 : Daily covid cases, 9 : Daily cured people, 1026 : Vaccinated students\n",
    "if predicted == 0:\n",
    "    print(\"The colleges will not get open in next month according to today's data\")\n",
    "else:\n",
    "    print(\"The colleges will get open in next month according to today's data\")"
   ]
  },
  {
   "cell_type": "code",
   "execution_count": null,
   "metadata": {},
   "outputs": [],
   "source": [
    "predicted = model.predict([[9, 5, 1002]]) # 9 : Daily covid cases, 5 : Daily cured people, 1002 : Vaccinated students\n",
    "if predicted == 0:\n",
    "    print(\"The colleges will not get open in next month according to today's data\")\n",
    "else:\n",
    "    print(\"The colleges will get open in next month according to today's data\")"
   ]
  },
  {
   "cell_type": "code",
   "execution_count": null,
   "metadata": {},
   "outputs": [],
   "source": [
    "predicted = model.predict([[2, 0, 1167]]) # 2 : Daily covid cases, 0 : Daily cured people, 1167 : Vaccinated students\n",
    "if predicted == 0:\n",
    "    print(\"The colleges will not get open in next month according to today's data\")\n",
    "else:\n",
    "    print(\"The colleges will get open in next month according to today's data\")"
   ]
  },
  {
   "cell_type": "code",
   "execution_count": null,
   "metadata": {},
   "outputs": [],
   "source": []
  },
  {
   "cell_type": "code",
   "execution_count": null,
   "metadata": {},
   "outputs": [],
   "source": [
    "from sklearn.neighbors import KNeighborsClassifier\n",
    "model = KNeighborsClassifier(n_neighbors = 2)\n",
    "#Train the model using the training sets\n",
    "model.fit(features, label)\n",
    "predicted = model.predict([[18, 9, 1946]]) # 18 : Daily covid cases, 9 : Daily cured people, 1946 : Vaccinated students\n",
    "if predicted == 0:\n",
    "    print(\"The colleges will not get open in next month according to today's data\")\n",
    "else:\n",
    "    print(\"The colleges will get open in next month according to today's data\")"
   ]
  },
  {
   "cell_type": "code",
   "execution_count": null,
   "metadata": {},
   "outputs": [],
   "source": [
    "predicted = model.predict([[29, 3, 947]]) # 29 : Daily covid cases, 3 : Daily cured people, 947 : Vaccinated students\n",
    "if predicted == 0:\n",
    "    print(\"The colleges will not get open in next month according to today's data\")\n",
    "else:\n",
    "    print(\"The colleges will get open in next month according to today's data\")"
   ]
  },
  {
   "cell_type": "code",
   "execution_count": null,
   "metadata": {},
   "outputs": [],
   "source": [
    "predicted = model.predict([[49, 6, 1826]]) # 49 : Daily covid cases, 6 : Daily cured people, 1826 : Vaccinated students\n",
    "if predicted == 0:\n",
    "    print(\"The colleges will not get open in next month according to today's data\")\n",
    "else:\n",
    "    print(\"The colleges will get open in next month according to today's data\")"
   ]
  },
  {
   "cell_type": "code",
   "execution_count": null,
   "metadata": {},
   "outputs": [],
   "source": [
    "predicted = model.predict([[97, 10, 1369]]) # 97 : Daily covid cases, 10 : Daily cured people, 1369 : Vaccinated students\n",
    "if predicted == 0:\n",
    "    print(\"The colleges will not get open in next month according to today's data\")\n",
    "else:\n",
    "    print(\"The colleges will get open in next month according to today's data\")"
   ]
  },
  {
   "cell_type": "code",
   "execution_count": null,
   "metadata": {},
   "outputs": [],
   "source": [
    "predicted = model.predict([[223, 13, 1237]]) # 223 : Daily covid cases, 13 : Daily cured people, 1237 : Vaccinated students\n",
    "if predicted == 0:\n",
    "    print(\"The colleges will not get open in next month according to today's data\")\n",
    "else:\n",
    "    print(\"The colleges will get open in next month according to today's data\")"
   ]
  },
  {
   "cell_type": "code",
   "execution_count": null,
   "metadata": {},
   "outputs": [],
   "source": [
    "predicted = model.predict([[102, 11, 721]]) # 102 : Daily covid cases, 11 : Daily cured people, 721 : Vaccinated students\n",
    "if predicted == 0:\n",
    "    print(\"The colleges will not get open in next month according to today's data\")\n",
    "else:\n",
    "    print(\"The colleges will get open in next month according to today's data\")"
   ]
  },
  {
   "cell_type": "code",
   "execution_count": null,
   "metadata": {},
   "outputs": [],
   "source": [
    "predicted = model.predict([[47, 8, 567]]) # 47 : Daily covid cases, 8 : Daily cured people, 567 : Vaccinated students\n",
    "if predicted == 0:\n",
    "    print(\"The colleges will not get open in next month according to today's data\")\n",
    "else:\n",
    "    print(\"The colleges will get open in next month according to today's data\")"
   ]
  },
  {
   "cell_type": "code",
   "execution_count": null,
   "metadata": {},
   "outputs": [],
   "source": [
    "predicted = model.predict([[21, 9, 1026]]) # 21 : Daily covid cases, 9 : Daily cured people, 1026 : Vaccinated students\n",
    "if predicted == 0:\n",
    "    print(\"The colleges will not get open in next month according to today's data\")\n",
    "else:\n",
    "    print(\"The colleges will get open in next month according to today's data\")"
   ]
  },
  {
   "cell_type": "code",
   "execution_count": null,
   "metadata": {},
   "outputs": [],
   "source": [
    "predicted = model.predict([[9, 5, 1002]]) # 9 : Daily covid cases, 5 : Daily cured people, 1002 : Vaccinated students\n",
    "if predicted == 0:\n",
    "    print(\"The colleges will not get open in next month according to today's data\")\n",
    "else:\n",
    "    print(\"The colleges will get open in next month according to today's data\")"
   ]
  },
  {
   "cell_type": "code",
   "execution_count": null,
   "metadata": {},
   "outputs": [],
   "source": [
    "predicted = model.predict([[2, 0, 1167]]) # 2 : Daily covid cases, 0 : Daily cured people, 1167 : Vaccinated students\n",
    "if predicted == 0:\n",
    "    print(\"The colleges will not get open in next month according to today's data\")\n",
    "else:\n",
    "    print(\"The colleges will get open in next month according to today's data\")"
   ]
  },
  {
   "cell_type": "code",
   "execution_count": null,
   "metadata": {},
   "outputs": [],
   "source": [
    "from sklearn.neighbors import KNeighborsClassifier\n",
    "model = KNeighborsClassifier(n_neighbors = 1)\n",
    "#Train the model using the training sets\n",
    "model.fit(features, label)\n",
    "predicted = model.predict([[18, 9, 1946]]) # 18 : Daily covid cases, 9 : Daily cured people, 1946 : Vaccinated students\n",
    "print(predicted)"
   ]
  },
  {
   "cell_type": "code",
   "execution_count": null,
   "metadata": {},
   "outputs": [],
   "source": [
    "predicted = model.predict([[29, 3, 947]]) # 29 : Daily covid cases, 3 : Daily cured people, 947 : Vaccinated students\n",
    "print(predicted)"
   ]
  },
  {
   "cell_type": "code",
   "execution_count": null,
   "metadata": {},
   "outputs": [],
   "source": [
    "predicted = model.predict([[49, 6, 1826]]) # 49 : Daily covid cases, 6 : Daily cured people, 1826 : Vaccinated students\n",
    "print(predicted)"
   ]
  },
  {
   "cell_type": "code",
   "execution_count": null,
   "metadata": {},
   "outputs": [],
   "source": [
    "predicted = model.predict([[97, 10, 1369]]) # 97 : Daily covid cases, 10 : Daily cured people, 1369 : Vaccinated students\n",
    "print(predicted)"
   ]
  },
  {
   "cell_type": "code",
   "execution_count": null,
   "metadata": {},
   "outputs": [],
   "source": [
    "predicted = model.predict([[223, 13, 1237]]) # 223 : Daily covid cases, 13 : Daily cured people, 1237 : Vaccinated students\n",
    "print(predicted)"
   ]
  },
  {
   "cell_type": "code",
   "execution_count": null,
   "metadata": {},
   "outputs": [],
   "source": [
    "predicted = model.predict([[102, 11, 721]]) # 102 : Daily covid cases, 11 : Daily cured people, 721 : Vaccinated students\n",
    "print(predicted)"
   ]
  },
  {
   "cell_type": "code",
   "execution_count": null,
   "metadata": {},
   "outputs": [],
   "source": [
    "predicted = model.predict([[47, 8, 567]]) # 47 : Daily covid cases, 8 : Daily cured people, 567 : Vaccinated students\n",
    "print(predicted)"
   ]
  },
  {
   "cell_type": "code",
   "execution_count": null,
   "metadata": {},
   "outputs": [],
   "source": [
    "predicted = model.predict([[21, 9, 1026]]) # 21 : Daily covid cases, 9 : Daily cured people, 1026 : Vaccinated students\n",
    "print(predicted)"
   ]
  },
  {
   "cell_type": "code",
   "execution_count": null,
   "metadata": {},
   "outputs": [],
   "source": [
    "predicted = model.predict([[9, 5, 1002]]) # 9 : Daily covid cases, 5 : Daily cured people, 1002 : Vaccinated students\n",
    "print(predicted)"
   ]
  },
  {
   "cell_type": "code",
   "execution_count": null,
   "metadata": {},
   "outputs": [],
   "source": [
    "predicted = model.predict([[2, 0, 1167]]) # 2 : Daily covid cases, 0 : Daily cured people, 1167 : Vaccinated students\n",
    "print(predicted)predicted = model.predict([[2, 0, 1167]]) # 2 : Daily covid cases, 0 : Daily cured people, 1167 : Vaccinated students\n",
    "print(predicted)"
   ]
  },
  {
   "cell_type": "code",
   "execution_count": null,
   "metadata": {},
   "outputs": [],
   "source": [
    "Covid_cases = [19, 33, 59, 116, 194, 105, 51, 26, 11, 3]\n",
    "Covid_free_cases = [8, 4, 6, 10, 11, 9, 5, 3, 2, 0]\n",
    "Daily_vaccinated = [1946, 947, 1826, 1369, 1237, 721, 567, 1026, 1002, 1167]\n",
    "College_opening = ['yes', 'no', 'no', 'no', 'no', 'yes', 'yes', 'yes', 'yes', 'yes']"
   ]
  },
  {
   "cell_type": "code",
   "execution_count": null,
   "metadata": {},
   "outputs": [],
   "source": [
    "from sklearn import preprocessing\n",
    "#creating encoder\n",
    "le = preprocessing.LabelEncoder()\n",
    "#creating string labels into numbers\n",
    "label = le.fit_transform(College_opening)\n",
    "print(label)"
   ]
  },
  {
   "cell_type": "code",
   "execution_count": null,
   "metadata": {},
   "outputs": [],
   "source": [
    "features = list(zip(Covid_cases, Covid_free_cases, Daily_vaccinated))"
   ]
  },
  {
   "cell_type": "code",
   "execution_count": null,
   "metadata": {},
   "outputs": [],
   "source": [
    "features"
   ]
  },
  {
   "cell_type": "code",
   "execution_count": null,
   "metadata": {},
   "outputs": [],
   "source": [
    "from sklearn.neighbors import KNeighborsClassifier\n",
    "model = KNeighborsClassifier(n_neighbors = 3)\n",
    "#Train the model using the training sets\n",
    "model.fit(features, label)\n",
    "predicted = model.predict([[19, 8, 1946]]) # 19 : Daily covid cases, 8 : Daily cured people, 1946 : Vaccinated students\n",
    "print(predicted)"
   ]
  },
  {
   "cell_type": "code",
   "execution_count": null,
   "metadata": {},
   "outputs": [],
   "source": [
    "from sklearn.neighbors import KNeighborsClassifier\n",
    "model = KNeighborsClassifier(n_neighbors = 2)\n",
    "#Train the model using the training sets\n",
    "model.fit(features, label)\n",
    "predicted = model.predict([[19, 8, 1946]]) # 19 : Covid cases, 8 : Daily free cases, 1946 : Daily vaccinated \n",
    "print(predicted)"
   ]
  },
  {
   "cell_type": "code",
   "execution_count": null,
   "metadata": {},
   "outputs": [],
   "source": [
    "from sklearn.neighbors import KNeighborsClassifier\n",
    "model = KNeighborsClassifier(n_neighbors = 1)\n",
    "#Train the model using the training sets\n",
    "model.fit(features, label)\n",
    "predicted = model.predict([[19, 8, 1946]]) # 19 : Covid cases, 8 : Daily free cases, 1946 : Daily vaccinated \n",
    "print(predicted)"
   ]
  },
  {
   "cell_type": "code",
   "execution_count": null,
   "metadata": {},
   "outputs": [],
   "source": [
    "predicted = model.predict([[33, 4, 947]]) # 33 : Covid cases, 4 : Daily free cases, 947 : Daily vaccinated \n",
    "print(predicted)"
   ]
  },
  {
   "cell_type": "code",
   "execution_count": null,
   "metadata": {},
   "outputs": [],
   "source": [
    "predicted = model.predict([[59, 6, 1826]]) # 59 : Covid cases, 6 : Daily free cases, 1826 : Daily vaccinated \n",
    "print(predicted)"
   ]
  },
  {
   "cell_type": "code",
   "execution_count": null,
   "metadata": {},
   "outputs": [],
   "source": [
    "predicted = model.predict([[116, 10, 1369]]) # 116 : Covid cases, 10 : Daily free cases, 1369 : Daily vaccinated \n",
    "print(predicted)"
   ]
  },
  {
   "cell_type": "code",
   "execution_count": null,
   "metadata": {},
   "outputs": [],
   "source": [
    "predicted = model.predict([[194, 11, 1237]]) # 194 : Covid cases, 11 : Daily free cases, 1237 : Daily vaccinated \n",
    "print(predicted)"
   ]
  },
  {
   "cell_type": "code",
   "execution_count": null,
   "metadata": {},
   "outputs": [],
   "source": [
    "predicted = model.predict([[105, 9, 721]]) # 105 : Covid cases, 9 : Daily free cases, 721 : Daily vaccinated \n",
    "print(predicted)"
   ]
  },
  {
   "cell_type": "code",
   "execution_count": null,
   "metadata": {},
   "outputs": [],
   "source": [
    "predicted = model.predict([[51, 5, 567]]) # 51 : Covid cases, 5 : Daily free cases, 567 : Daily vaccinated \n",
    "print(predicted)"
   ]
  },
  {
   "cell_type": "code",
   "execution_count": null,
   "metadata": {},
   "outputs": [],
   "source": [
    "predicted = model.predict([[26, 3, 1026]]) # 26 : Covid cases, 3 : Daily free cases, 1026 : Daily vaccinated \n",
    "print(predicted)"
   ]
  },
  {
   "cell_type": "code",
   "execution_count": null,
   "metadata": {},
   "outputs": [],
   "source": []
  },
  {
   "cell_type": "code",
   "execution_count": null,
   "metadata": {},
   "outputs": [],
   "source": []
  },
  {
   "cell_type": "code",
   "execution_count": null,
   "metadata": {},
   "outputs": [],
   "source": []
  },
  {
   "cell_type": "code",
   "execution_count": null,
   "metadata": {},
   "outputs": [],
   "source": []
  },
  {
   "cell_type": "code",
   "execution_count": null,
   "metadata": {},
   "outputs": [],
   "source": []
  },
  {
   "cell_type": "code",
   "execution_count": null,
   "metadata": {},
   "outputs": [],
   "source": []
  },
  {
   "cell_type": "code",
   "execution_count": null,
   "metadata": {},
   "outputs": [],
   "source": []
  },
  {
   "cell_type": "code",
   "execution_count": null,
   "metadata": {},
   "outputs": [],
   "source": []
  },
  {
   "cell_type": "code",
   "execution_count": null,
   "metadata": {},
   "outputs": [],
   "source": []
  },
  {
   "cell_type": "code",
   "execution_count": null,
   "metadata": {},
   "outputs": [],
   "source": []
  },
  {
   "cell_type": "code",
   "execution_count": null,
   "metadata": {},
   "outputs": [],
   "source": []
  },
  {
   "cell_type": "code",
   "execution_count": null,
   "metadata": {},
   "outputs": [],
   "source": []
  },
  {
   "cell_type": "code",
   "execution_count": null,
   "metadata": {},
   "outputs": [],
   "source": []
  },
  {
   "cell_type": "code",
   "execution_count": null,
   "metadata": {},
   "outputs": [],
   "source": [
    "Fever = [102,103,101,99.9,100,100,102,100,99.9,102,99.9,101,103,103,102]\n",
    "sore_throat = ['yes', 'yes', 'no', 'yes', 'yes', 'no', 'no', 'no', 'yes', 'yes', 'yes', 'yes', 'no', 'no', 'no']\n",
    "cold = ['yes', 'yes', 'yes', 'no', 'no', 'yes', 'yes', 'no', 'yes', 'no', 'no', 'yes', 'yes', 'yes', 'no']\n",
    "Covid_check = ['yes', 'yes', 'no', 'no', 'yes', 'yes', 'yes', 'no', 'no', 'yes', 'no', 'yes', 'yes', 'yes', 'no']"
   ]
  },
  {
   "cell_type": "code",
   "execution_count": null,
   "metadata": {},
   "outputs": [],
   "source": [
    "from sklearn import preprocessing\n",
    "#creating LabelEncoder\n",
    "le = preprocessing.LabelEncoder()\n",
    "#Converting string Labels into numbers.\n",
    "sore_encoded = le.fit_transform(sore_throat)\n",
    "print(sore_encoded)\n",
    "cold_encoded = le.fit_transform(cold)\n",
    "print(cold_encoded)\n",
    "label = le.fit_transform(Covid_check)\n",
    "print(label)"
   ]
  },
  {
   "cell_type": "code",
   "execution_count": null,
   "metadata": {},
   "outputs": [],
   "source": [
    "features = list(zip(Fever, sore_encoded, cold_encoded))"
   ]
  },
  {
   "cell_type": "code",
   "execution_count": null,
   "metadata": {},
   "outputs": [],
   "source": [
    "features"
   ]
  },
  {
   "cell_type": "code",
   "execution_count": null,
   "metadata": {},
   "outputs": [],
   "source": [
    "from sklearn.neighbors import KNeighborsClassifier\n",
    "model = KNeighborsClassifier(n_neighbors = 3)\n",
    "#Train the model using the training sets\n",
    "model.fit(features, label)\n",
    "predicted = model.predict([[102, 1, 1]]) # 102 : Fever, 1 : sore throat, 1 : cold\n",
    "print(predicted)"
   ]
  },
  {
   "cell_type": "code",
   "execution_count": null,
   "metadata": {},
   "outputs": [],
   "source": [
    "from sklearn.neighbors import KNeighborsClassifier\n",
    "model = KNeighborsClassifier(n_neighbors = 3)\n",
    "#Train the model using the training sets\n",
    "model.fit(features, label)\n",
    "predicted = model.predict([[102, 0, 0]]) # 102 : Fever, 0 : sore throat, 0 : cold\n",
    "print(predicted)"
   ]
  },
  {
   "cell_type": "code",
   "execution_count": null,
   "metadata": {},
   "outputs": [],
   "source": [
    "from sklearn.neighbors import KNeighborsClassifier\n",
    "model = KNeighborsClassifier(n_neighbors = 2) #n_neighbor = 2 here\n",
    "#Train the model using the training sets\n",
    "model.fit(features, label)\n",
    "predicted = model.predict([[102, 1, 1]]) # 102 : Fever, 1 : sore throat, 1 : cold\n",
    "print(predicted)"
   ]
  },
  {
   "cell_type": "code",
   "execution_count": null,
   "metadata": {},
   "outputs": [],
   "source": [
    "predicted = model.predict([[103, 1, 1]]) # 103 : Fever, 1 : sore throat, 1 : cold\n",
    "print(predicted)"
   ]
  },
  {
   "cell_type": "code",
   "execution_count": null,
   "metadata": {},
   "outputs": [],
   "source": [
    "predicted = model.predict([[101, 0, 1]]) # 101 : Fever, 0 : sore throat, 1 : cold\n",
    "print(predicted)"
   ]
  },
  {
   "cell_type": "code",
   "execution_count": null,
   "metadata": {},
   "outputs": [],
   "source": [
    "predicted = model.predict([[99.9, 1, 0]]) # 99.9 : Fever, 1 : sore throat, 0 : cold\n",
    "print(predicted)"
   ]
  },
  {
   "cell_type": "code",
   "execution_count": null,
   "metadata": {},
   "outputs": [],
   "source": [
    "predicted = model.predict([[100, 1, 0]]) # 100 : Fever, 1 : sore throat, 0 : cold\n",
    "print(predicted)"
   ]
  },
  {
   "cell_type": "code",
   "execution_count": null,
   "metadata": {},
   "outputs": [],
   "source": [
    "predicted = model.predict([[100, 0, 1]]) # 100 : Fever, 0 : sore throat, 1 : cold\n",
    "print(predicted)"
   ]
  },
  {
   "cell_type": "code",
   "execution_count": null,
   "metadata": {},
   "outputs": [],
   "source": [
    "from sklearn.neighbors import KNeighborsClassifier\n",
    "model = KNeighborsClassifier(n_neighbors = 1) #n_neighbor = 1 here\n",
    "#Train the model using the training sets\n",
    "model.fit(features, label)\n",
    "predicted = model.predict([[102, 1, 1]]) # 102 : Fever, 1 : sore throat, 1 : cold\n",
    "print(predicted)"
   ]
  },
  {
   "cell_type": "code",
   "execution_count": null,
   "metadata": {},
   "outputs": [],
   "source": [
    "predicted = model.predict([[103, 1, 1]]) # 103 : Fever, 1 : sore throat, 1 : cold\n",
    "print(predicted)"
   ]
  },
  {
   "cell_type": "code",
   "execution_count": null,
   "metadata": {},
   "outputs": [],
   "source": [
    "predicted = model.predict([[101, 0, 1]]) # 101 : Fever, 0 : sore throat, 1 : cold\n",
    "print(predicted)"
   ]
  },
  {
   "cell_type": "code",
   "execution_count": null,
   "metadata": {},
   "outputs": [],
   "source": [
    "predicted = model.predict([[99.9, 1, 0]]) # 99.9 : Fever, 1 : sore throat, 0 : cold\n",
    "print(predicted)"
   ]
  },
  {
   "cell_type": "code",
   "execution_count": null,
   "metadata": {},
   "outputs": [],
   "source": [
    "predicted = model.predict([[100, 1, 0]]) # 100 : Fever, 1 : sore throat, 0 : cold\n",
    "print(predicted)"
   ]
  },
  {
   "cell_type": "code",
   "execution_count": null,
   "metadata": {},
   "outputs": [],
   "source": [
    "predicted = model.predict([[100, 0, 1]]) # 100 : Fever, 0 : sore throat, 1 : cold\n",
    "print(predicted)"
   ]
  },
  {
   "cell_type": "code",
   "execution_count": null,
   "metadata": {},
   "outputs": [],
   "source": [
    "predicted = model.predict([[102, 0, 1]]) # 102 : Fever, 0 : sore throat, 1 : cold\n",
    "print(predicted)"
   ]
  },
  {
   "cell_type": "code",
   "execution_count": null,
   "metadata": {},
   "outputs": [],
   "source": [
    "predicted = model.predict([[100, 0, 0]]) # 100 : Fever, 0 : sore throat, 0 : cold\n",
    "print(predicted)"
   ]
  },
  {
   "cell_type": "code",
   "execution_count": null,
   "metadata": {},
   "outputs": [],
   "source": [
    "predicted = model.predict([[99.9, 1, 1]]) # 99.9 : Fever, 1 : sore throat, 1 : cold\n",
    "print(predicted)"
   ]
  },
  {
   "cell_type": "code",
   "execution_count": null,
   "metadata": {},
   "outputs": [],
   "source": [
    "predicted = model.predict([[102, 1, 0]]) # 102 : Fever, 1 : sore throat, 0 : cold\n",
    "print(predicted)"
   ]
  },
  {
   "cell_type": "code",
   "execution_count": null,
   "metadata": {},
   "outputs": [],
   "source": [
    "predicted = model.predict([[99.9, 1, 0]]) # 99.9 : Fever, 1 : sore throat, 0 : cold\n",
    "print(predicted)"
   ]
  },
  {
   "cell_type": "code",
   "execution_count": null,
   "metadata": {},
   "outputs": [],
   "source": [
    "predicted = model.predict([[101, 1, 1]]) # 101 : Fever, 1 : sore throat, 1 : cold\n",
    "print(predicted)"
   ]
  },
  {
   "cell_type": "code",
   "execution_count": null,
   "metadata": {},
   "outputs": [],
   "source": [
    "predicted = model.predict([[103, 0, 1]]) # 103 : Fever, 0 : sore throat, 1 : cold\n",
    "print(predicted)"
   ]
  },
  {
   "cell_type": "code",
   "execution_count": null,
   "metadata": {},
   "outputs": [],
   "source": [
    "predicted = model.predict([[102, 0, 0]]) # 102 : Fever, 0 : sore throat, 0 : cold\n",
    "print(predicted)"
   ]
  },
  {
   "cell_type": "code",
   "execution_count": null,
   "metadata": {},
   "outputs": [],
   "source": []
  },
  {
   "cell_type": "code",
   "execution_count": null,
   "metadata": {},
   "outputs": [],
   "source": []
  }
 ],
 "metadata": {
  "kernelspec": {
   "display_name": "Python 3",
   "language": "python",
   "name": "python3"
  },
  "language_info": {
   "codemirror_mode": {
    "name": "ipython",
    "version": 3
   },
   "file_extension": ".py",
   "mimetype": "text/x-python",
   "name": "python",
   "nbconvert_exporter": "python",
   "pygments_lexer": "ipython3",
   "version": "3.7.0"
  }
 },
 "nbformat": 4,
 "nbformat_minor": 2
}
